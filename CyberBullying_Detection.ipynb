{
  "nbformat": 4,
  "nbformat_minor": 0,
  "metadata": {
    "colab": {
      "name": "CyberBullying Detection.ipynb",
      "version": "0.3.2",
      "provenance": [],
      "toc_visible": true,
      "include_colab_link": true
    },
    "kernelspec": {
      "name": "python3",
      "display_name": "Python 3"
    },
    "accelerator": "GPU"
  },
  "cells": [
    {
      "cell_type": "markdown",
      "metadata": {
        "id": "view-in-github",
        "colab_type": "text"
      },
      "source": [
        "<a href=\"https://colab.research.google.com/github/gafaronline/Cyberbullying-Detection/blob/develop/CyberBullying_Detection.ipynb\" target=\"_parent\"><img src=\"https://colab.research.google.com/assets/colab-badge.svg\" alt=\"Open In Colab\"/></a>"
      ]
    },
    {
      "metadata": {
        "_uuid": "92b885dd147dac19bd0a33db3cd0da100bd5bc23",
        "id": "khdXEqbTOeVt",
        "colab_type": "text"
      },
      "cell_type": "markdown",
      "source": [
        "#Sentiment Analysis of  Tweets For Detecting CyberBully"
      ]
    },
    {
      "metadata": {
        "id": "9BFIFgpwOjdX",
        "colab_type": "code",
        "outputId": "16a0030f-d490-48c7-fbd3-712fd803393f",
        "colab": {
          "base_uri": "https://localhost:8080/",
          "height": 51
        }
      },
      "cell_type": "code",
      "source": [
        "!pip install -U -q PyDrive\n",
        " \n",
        "from pydrive.auth import GoogleAuth\n",
        "from pydrive.drive import GoogleDrive\n",
        "from google.colab import auth\n",
        "from oauth2client.client import GoogleCredentials\n",
        " \n",
        "# 1. Authenticate and create the PyDrive client.\n",
        "auth.authenticate_user()\n",
        "gauth = GoogleAuth()\n",
        "gauth.credentials = GoogleCredentials.get_application_default()\n",
        "drive = GoogleDrive(gauth)"
      ],
      "execution_count": 1,
      "outputs": [
        {
          "output_type": "stream",
          "text": [
            "\u001b[?25l\r\u001b[K    1% |▎                               | 10kB 19.4MB/s eta 0:00:01\r\u001b[K    2% |▋                               | 20kB 1.8MB/s eta 0:00:01\r\u001b[K    3% |█                               | 30kB 2.6MB/s eta 0:00:01\r\u001b[K    4% |█▎                              | 40kB 1.7MB/s eta 0:00:01\r\u001b[K    5% |█▋                              | 51kB 2.1MB/s eta 0:00:01\r\u001b[K    6% |██                              | 61kB 2.5MB/s eta 0:00:01\r\u001b[K    7% |██▎                             | 71kB 2.9MB/s eta 0:00:01\r\u001b[K    8% |██▋                             | 81kB 3.3MB/s eta 0:00:01\r\u001b[K    9% |███                             | 92kB 3.7MB/s eta 0:00:01\r\u001b[K    10% |███▎                            | 102kB 2.8MB/s eta 0:00:01\r\u001b[K    11% |███▋                            | 112kB 2.8MB/s eta 0:00:01\r\u001b[K    12% |████                            | 122kB 4.1MB/s eta 0:00:01\r\u001b[K    13% |████▎                           | 133kB 4.1MB/s eta 0:00:01\r\u001b[K    14% |████▋                           | 143kB 7.6MB/s eta 0:00:01\r\u001b[K    15% |█████                           | 153kB 7.7MB/s eta 0:00:01\r\u001b[K    16% |█████▎                          | 163kB 7.7MB/s eta 0:00:01\r\u001b[K    17% |█████▋                          | 174kB 7.6MB/s eta 0:00:01\r\u001b[K    18% |██████                          | 184kB 7.6MB/s eta 0:00:01\r\u001b[K    19% |██████▎                         | 194kB 7.6MB/s eta 0:00:01\r\u001b[K    20% |██████▋                         | 204kB 37.9MB/s eta 0:00:01\r\u001b[K    21% |███████                         | 215kB 8.5MB/s eta 0:00:01\r\u001b[K    22% |███████▎                        | 225kB 8.5MB/s eta 0:00:01\r\u001b[K    23% |███████▋                        | 235kB 8.4MB/s eta 0:00:01\r\u001b[K    24% |████████                        | 245kB 8.3MB/s eta 0:00:01\r\u001b[K    25% |████████▎                       | 256kB 8.3MB/s eta 0:00:01\r\u001b[K    26% |████████▋                       | 266kB 8.1MB/s eta 0:00:01\r\u001b[K    27% |█████████                       | 276kB 8.3MB/s eta 0:00:01\r\u001b[K    29% |█████████▎                      | 286kB 8.4MB/s eta 0:00:01\r\u001b[K    30% |█████████▋                      | 296kB 8.3MB/s eta 0:00:01\r\u001b[K    31% |██████████                      | 307kB 8.4MB/s eta 0:00:01\r\u001b[K    32% |██████████▎                     | 317kB 38.9MB/s eta 0:00:01\r\u001b[K    33% |██████████▋                     | 327kB 39.2MB/s eta 0:00:01\r\u001b[K    34% |███████████                     | 337kB 41.7MB/s eta 0:00:01\r\u001b[K    35% |███████████▎                    | 348kB 38.5MB/s eta 0:00:01\r\u001b[K    36% |███████████▋                    | 358kB 38.0MB/s eta 0:00:01\r\u001b[K    37% |████████████                    | 368kB 41.2MB/s eta 0:00:01\r\u001b[K    38% |████████████▎                   | 378kB 41.7MB/s eta 0:00:01\r\u001b[K    39% |████████████▋                   | 389kB 41.6MB/s eta 0:00:01\r\u001b[K    40% |█████████████                   | 399kB 10.0MB/s eta 0:00:01\r\u001b[K    41% |█████████████▎                  | 409kB 10.0MB/s eta 0:00:01\r\u001b[K    42% |█████████████▋                  | 419kB 9.9MB/s eta 0:00:01\r\u001b[K    43% |██████████████                  | 430kB 9.9MB/s eta 0:00:01\r\u001b[K    44% |██████████████▎                 | 440kB 9.8MB/s eta 0:00:01\r\u001b[K    45% |██████████████▋                 | 450kB 9.9MB/s eta 0:00:01\r\u001b[K    46% |███████████████                 | 460kB 9.9MB/s eta 0:00:01\r\u001b[K    47% |███████████████▎                | 471kB 9.1MB/s eta 0:00:01\r\u001b[K    48% |███████████████▋                | 481kB 9.0MB/s eta 0:00:01\r\u001b[K    49% |████████████████                | 491kB 9.0MB/s eta 0:00:01\r\u001b[K    50% |████████████████▎               | 501kB 28.5MB/s eta 0:00:01\r\u001b[K    51% |████████████████▋               | 512kB 27.4MB/s eta 0:00:01\r\u001b[K    52% |█████████████████               | 522kB 27.3MB/s eta 0:00:01\r\u001b[K    53% |█████████████████▎              | 532kB 27.3MB/s eta 0:00:01\r\u001b[K    54% |█████████████████▋              | 542kB 8.8MB/s eta 0:00:01\r\u001b[K    55% |██████████████████              | 552kB 8.7MB/s eta 0:00:01\r\u001b[K    57% |██████████████████▎             | 563kB 8.7MB/s eta 0:00:01\r\u001b[K    58% |██████████████████▋             | 573kB 9.4MB/s eta 0:00:01\r\u001b[K    59% |███████████████████             | 583kB 9.4MB/s eta 0:00:01\r\u001b[K    60% |███████████████████▎            | 593kB 9.2MB/s eta 0:00:01\r\u001b[K    61% |███████████████████▋            | 604kB 9.1MB/s eta 0:00:01\r\u001b[K    62% |████████████████████            | 614kB 9.2MB/s eta 0:00:01\r\u001b[K    63% |████████████████████▎           | 624kB 9.1MB/s eta 0:00:01\r\u001b[K    64% |████████████████████▋           | 634kB 9.2MB/s eta 0:00:01\r\u001b[K    65% |█████████████████████           | 645kB 32.3MB/s eta 0:00:01\r\u001b[K    66% |█████████████████████▎          | 655kB 35.8MB/s eta 0:00:01\r\u001b[K    67% |█████████████████████▋          | 665kB 34.3MB/s eta 0:00:01\r\u001b[K    68% |██████████████████████          | 675kB 35.9MB/s eta 0:00:01\r\u001b[K    69% |██████████████████████▎         | 686kB 37.6MB/s eta 0:00:01\r\u001b[K    70% |██████████████████████▋         | 696kB 42.1MB/s eta 0:00:01\r\u001b[K    71% |███████████████████████         | 706kB 44.1MB/s eta 0:00:01\r\u001b[K    72% |███████████████████████▎        | 716kB 46.1MB/s eta 0:00:01\r\u001b[K    73% |███████████████████████▋        | 727kB 51.0MB/s eta 0:00:01\r\u001b[K    74% |████████████████████████        | 737kB 49.8MB/s eta 0:00:01\r\u001b[K    75% |████████████████████████▎       | 747kB 49.3MB/s eta 0:00:01\r\u001b[K    76% |████████████████████████▋       | 757kB 47.8MB/s eta 0:00:01\r\u001b[K    77% |████████████████████████▉       | 768kB 53.6MB/s eta 0:00:01\r\u001b[K    78% |█████████████████████████▏      | 778kB 52.2MB/s eta 0:00:01\r\u001b[K    79% |█████████████████████████▌      | 788kB 50.7MB/s eta 0:00:01\r\u001b[K    80% |█████████████████████████▉      | 798kB 49.8MB/s eta 0:00:01\r\u001b[K    81% |██████████████████████████▏     | 808kB 48.8MB/s eta 0:00:01\r\u001b[K    82% |██████████████████████████▌     | 819kB 48.1MB/s eta 0:00:01\r\u001b[K    83% |██████████████████████████▉     | 829kB 48.7MB/s eta 0:00:01\r\u001b[K    85% |███████████████████████████▏    | 839kB 49.3MB/s eta 0:00:01\r\u001b[K    86% |███████████████████████████▌    | 849kB 49.3MB/s eta 0:00:01\r\u001b[K    87% |███████████████████████████▉    | 860kB 45.1MB/s eta 0:00:01\r\u001b[K    88% |████████████████████████████▏   | 870kB 46.2MB/s eta 0:00:01\r\u001b[K    89% |████████████████████████████▌   | 880kB 46.7MB/s eta 0:00:01\r\u001b[K    90% |████████████████████████████▉   | 890kB 45.9MB/s eta 0:00:01\r\u001b[K    91% |█████████████████████████████▏  | 901kB 46.1MB/s eta 0:00:01\r\u001b[K    92% |█████████████████████████████▌  | 911kB 46.8MB/s eta 0:00:01\r\u001b[K    93% |█████████████████████████████▉  | 921kB 48.3MB/s eta 0:00:01\r\u001b[K    94% |██████████████████████████████▏ | 931kB 47.8MB/s eta 0:00:01\r\u001b[K    95% |██████████████████████████████▌ | 942kB 45.9MB/s eta 0:00:01\r\u001b[K    96% |██████████████████████████████▉ | 952kB 44.4MB/s eta 0:00:01\r\u001b[K    97% |███████████████████████████████▏| 962kB 50.2MB/s eta 0:00:01\r\u001b[K    98% |███████████████████████████████▌| 972kB 51.0MB/s eta 0:00:01\r\u001b[K    99% |███████████████████████████████▉| 983kB 51.2MB/s eta 0:00:01\r\u001b[K    100% |████████████████████████████████| 993kB 22.2MB/s \n",
            "\u001b[?25h  Building wheel for PyDrive (setup.py) ... \u001b[?25ldone\n",
            "\u001b[?25h"
          ],
          "name": "stdout"
        }
      ]
    },
    {
      "metadata": {
        "id": "OpghJ2vnOtry",
        "colab_type": "code",
        "outputId": "9982f6a9-7214-49bb-839b-2d04cd50f0ac",
        "colab": {
          "base_uri": "https://localhost:8080/",
          "height": 51
        }
      },
      "cell_type": "code",
      "source": [
        "file_list = drive.ListFile({'q': \"'1bdBtOnxi7-F9caiS4e5wS2VARwJIY1gA' in parents and trashed=false\"}).GetList()\n",
        "for file1 in file_list:\n",
        "  print('title: %s, id: %s' % (file1['title'], file1['id']))"
      ],
      "execution_count": 2,
      "outputs": [
        {
          "output_type": "stream",
          "text": [
            "title: sentiment140.zip, id: 1iA9bM2Htuyup0Rarky1WkgKxgWxWaaXI\n",
            "title: kaggle_implementation_sentiment_analysis.ipynb, id: 1ndn4gNyWNBKqaJXK3wr9H8B1DZipLTDc\n"
          ],
          "name": "stdout"
        }
      ]
    },
    {
      "metadata": {
        "id": "22uf8rvCPGFC",
        "colab_type": "code",
        "colab": {}
      },
      "cell_type": "code",
      "source": [
        "tweet_file = 'sentiment140.zip'\n",
        "content_file = drive.CreateFile({'id': '1iA9bM2Htuyup0Rarky1WkgKxgWxWaaXI'})\n",
        "content_file.GetContentFile(tweet_file)"
      ],
      "execution_count": 0,
      "outputs": []
    },
    {
      "metadata": {
        "id": "c2EejnxhPaft",
        "colab_type": "code",
        "outputId": "54046b12-7602-458f-bccf-feb83d1fc25b",
        "colab": {
          "base_uri": "https://localhost:8080/",
          "height": 34
        }
      },
      "cell_type": "code",
      "source": [
        "ls"
      ],
      "execution_count": 4,
      "outputs": [
        {
          "output_type": "stream",
          "text": [
            "adc.json  \u001b[0m\u001b[01;34msample_data\u001b[0m/  sentiment140.zip\n"
          ],
          "name": "stdout"
        }
      ]
    },
    {
      "metadata": {
        "id": "x7zSvxt6TBPv",
        "colab_type": "code",
        "colab": {}
      },
      "cell_type": "code",
      "source": [
        "!unzip -qq sentiment140.zip"
      ],
      "execution_count": 0,
      "outputs": []
    },
    {
      "metadata": {
        "trusted": true,
        "_uuid": "70282bce8b42a51e4d44f2c7d85c4ca9567b0fd4",
        "id": "gJBq_KJoOeVv",
        "colab_type": "code",
        "outputId": "128f461b-d3bf-4b88-eee2-4947ca99ba7f",
        "colab": {
          "base_uri": "https://localhost:8080/",
          "height": 921
        }
      },
      "cell_type": "code",
      "source": [
        "!pip install gensim --upgrade\n",
        "!pip install keras --upgrade\n",
        "!pip install pandas --upgrade"
      ],
      "execution_count": 6,
      "outputs": [
        {
          "output_type": "stream",
          "text": [
            "Collecting gensim\n",
            "\u001b[?25l  Downloading https://files.pythonhosted.org/packages/d7/b9/6c93685bed0026b6a1cce55ab173f6b617f6db0d1325d25489c2fd43e711/gensim-3.7.1-cp36-cp36m-manylinux1_x86_64.whl (24.2MB)\n",
            "\u001b[K    100% |████████████████████████████████| 24.2MB 1.6MB/s \n",
            "\u001b[?25hRequirement already satisfied, skipping upgrade: numpy>=1.11.3 in /usr/local/lib/python3.6/dist-packages (from gensim) (1.14.6)\n",
            "Requirement already satisfied, skipping upgrade: smart-open>=1.7.0 in /usr/local/lib/python3.6/dist-packages (from gensim) (1.8.0)\n",
            "Requirement already satisfied, skipping upgrade: scipy>=0.18.1 in /usr/local/lib/python3.6/dist-packages (from gensim) (1.1.0)\n",
            "Requirement already satisfied, skipping upgrade: six>=1.5.0 in /usr/local/lib/python3.6/dist-packages (from gensim) (1.11.0)\n",
            "Requirement already satisfied, skipping upgrade: boto>=2.32 in /usr/local/lib/python3.6/dist-packages (from smart-open>=1.7.0->gensim) (2.49.0)\n",
            "Requirement already satisfied, skipping upgrade: bz2file in /usr/local/lib/python3.6/dist-packages (from smart-open>=1.7.0->gensim) (0.98)\n",
            "Requirement already satisfied, skipping upgrade: requests in /usr/local/lib/python3.6/dist-packages (from smart-open>=1.7.0->gensim) (2.18.4)\n",
            "Requirement already satisfied, skipping upgrade: boto3 in /usr/local/lib/python3.6/dist-packages (from smart-open>=1.7.0->gensim) (1.9.103)\n",
            "Requirement already satisfied, skipping upgrade: urllib3<1.23,>=1.21.1 in /usr/local/lib/python3.6/dist-packages (from requests->smart-open>=1.7.0->gensim) (1.22)\n",
            "Requirement already satisfied, skipping upgrade: idna<2.7,>=2.5 in /usr/local/lib/python3.6/dist-packages (from requests->smart-open>=1.7.0->gensim) (2.6)\n",
            "Requirement already satisfied, skipping upgrade: chardet<3.1.0,>=3.0.2 in /usr/local/lib/python3.6/dist-packages (from requests->smart-open>=1.7.0->gensim) (3.0.4)\n",
            "Requirement already satisfied, skipping upgrade: certifi>=2017.4.17 in /usr/local/lib/python3.6/dist-packages (from requests->smart-open>=1.7.0->gensim) (2018.11.29)\n",
            "Requirement already satisfied, skipping upgrade: botocore<1.13.0,>=1.12.103 in /usr/local/lib/python3.6/dist-packages (from boto3->smart-open>=1.7.0->gensim) (1.12.103)\n",
            "Requirement already satisfied, skipping upgrade: jmespath<1.0.0,>=0.7.1 in /usr/local/lib/python3.6/dist-packages (from boto3->smart-open>=1.7.0->gensim) (0.9.4)\n",
            "Requirement already satisfied, skipping upgrade: s3transfer<0.3.0,>=0.2.0 in /usr/local/lib/python3.6/dist-packages (from boto3->smart-open>=1.7.0->gensim) (0.2.0)\n",
            "Requirement already satisfied, skipping upgrade: docutils>=0.10 in /usr/local/lib/python3.6/dist-packages (from botocore<1.13.0,>=1.12.103->boto3->smart-open>=1.7.0->gensim) (0.14)\n",
            "Requirement already satisfied, skipping upgrade: python-dateutil<3.0.0,>=2.1; python_version >= \"2.7\" in /usr/local/lib/python3.6/dist-packages (from botocore<1.13.0,>=1.12.103->boto3->smart-open>=1.7.0->gensim) (2.5.3)\n",
            "Installing collected packages: gensim\n",
            "  Found existing installation: gensim 3.6.0\n",
            "    Uninstalling gensim-3.6.0:\n",
            "      Successfully uninstalled gensim-3.6.0\n",
            "Successfully installed gensim-3.7.1\n",
            "Requirement already up-to-date: keras in /usr/local/lib/python3.6/dist-packages (2.2.4)\n",
            "Requirement already satisfied, skipping upgrade: scipy>=0.14 in /usr/local/lib/python3.6/dist-packages (from keras) (1.1.0)\n",
            "Requirement already satisfied, skipping upgrade: six>=1.9.0 in /usr/local/lib/python3.6/dist-packages (from keras) (1.11.0)\n",
            "Requirement already satisfied, skipping upgrade: keras-preprocessing>=1.0.5 in /usr/local/lib/python3.6/dist-packages (from keras) (1.0.9)\n",
            "Requirement already satisfied, skipping upgrade: h5py in /usr/local/lib/python3.6/dist-packages (from keras) (2.8.0)\n",
            "Requirement already satisfied, skipping upgrade: pyyaml in /usr/local/lib/python3.6/dist-packages (from keras) (3.13)\n",
            "Requirement already satisfied, skipping upgrade: keras-applications>=1.0.6 in /usr/local/lib/python3.6/dist-packages (from keras) (1.0.7)\n",
            "Requirement already satisfied, skipping upgrade: numpy>=1.9.1 in /usr/local/lib/python3.6/dist-packages (from keras) (1.14.6)\n",
            "Collecting pandas\n",
            "\u001b[?25l  Downloading https://files.pythonhosted.org/packages/e6/de/a0d3defd8f338eaf53ef716e40ef6d6c277c35d50e09b586e170169cdf0d/pandas-0.24.1-cp36-cp36m-manylinux1_x86_64.whl (10.1MB)\n",
            "\u001b[K    100% |████████████████████████████████| 10.1MB 4.6MB/s \n",
            "\u001b[?25hRequirement already satisfied, skipping upgrade: pytz>=2011k in /usr/local/lib/python3.6/dist-packages (from pandas) (2018.9)\n",
            "Requirement already satisfied, skipping upgrade: numpy>=1.12.0 in /usr/local/lib/python3.6/dist-packages (from pandas) (1.14.6)\n",
            "Requirement already satisfied, skipping upgrade: python-dateutil>=2.5.0 in /usr/local/lib/python3.6/dist-packages (from pandas) (2.5.3)\n",
            "Requirement already satisfied, skipping upgrade: six>=1.5 in /usr/local/lib/python3.6/dist-packages (from python-dateutil>=2.5.0->pandas) (1.11.0)\n",
            "\u001b[31mpymc3 3.6 has requirement joblib<0.13.0, but you'll have joblib 0.13.2 which is incompatible.\u001b[0m\n",
            "\u001b[31mfastai 1.0.46 has requirement numpy>=1.15, but you'll have numpy 1.14.6 which is incompatible.\u001b[0m\n",
            "Installing collected packages: pandas\n",
            "  Found existing installation: pandas 0.22.0\n",
            "    Uninstalling pandas-0.22.0:\n",
            "      Successfully uninstalled pandas-0.22.0\n",
            "Successfully installed pandas-0.24.1\n"
          ],
          "name": "stdout"
        },
        {
          "output_type": "display_data",
          "data": {
            "application/vnd.colab-display-data+json": {
              "pip_warning": {
                "packages": [
                  "pandas"
                ]
              }
            }
          },
          "metadata": {
            "tags": []
          }
        }
      ]
    },
    {
      "metadata": {
        "trusted": true,
        "_uuid": "303e72966af732ddef0bd8108a321095314e44af",
        "id": "8_F8tVGLOeVz",
        "colab_type": "code",
        "outputId": "d9d3e885-6281-415e-dedb-7c1ce4c9d421",
        "colab": {
          "base_uri": "https://localhost:8080/",
          "height": 34
        }
      },
      "cell_type": "code",
      "source": [
        "# Import pandas \n",
        "import pandas as pd\n",
        "\n",
        "# Matplotlib\n",
        "import matplotlib.pyplot as plt\n",
        "%matplotlib inline\n",
        "\n",
        "# Scikit-learn\n",
        "from sklearn.model_selection import train_test_split\n",
        "from sklearn.preprocessing import LabelEncoder\n",
        "from sklearn.metrics import confusion_matrix, classification_report, accuracy_score #Compute confusion matrix to evaluate the accuracy of a classification\n",
        "#By definition a confusion matrix  is such that  is equal to the number of observations known to be in group  but predicted to be in group .\n",
        "from sklearn.manifold import TSNE #t-distributed Stochastic Neighbor Embedding. t-SNE is a tool to visualize high-dimensional data. It converts similarities between data points to joint probabilities and tries to minimize the Kullback-Leibler divergence between the joint probabilities of the low-dimensional embedding and the high-dimensional data. \n",
        "from sklearn.feature_extraction.text import TfidfVectorizer #Convert a collection of raw documents to a matrix of TF-IDF features\n",
        "\n",
        "# Keras\n",
        "from keras.preprocessing.text import Tokenizer\n",
        "from keras.preprocessing.sequence import pad_sequences #This class takes in a sequence of data-points gathered at equal intervals, along with time series parameters such as stride, length of history, etc., to produce batches for training/validation\n",
        "from keras.models import Sequential\n",
        "from keras.layers import Activation, Dense, Dropout, Embedding, Flatten, Conv1D, MaxPooling1D, LSTM\n",
        "from keras import utils\n",
        "from keras.callbacks import ReduceLROnPlateau, EarlyStopping\n",
        "\n",
        "# nltk\n",
        "import nltk\n",
        "from nltk.corpus import stopwords\n",
        "from  nltk.stem import SnowballStemmer\n",
        "\n",
        "# Word2vec\n",
        "import gensim\n",
        "\n",
        "# Utility\n",
        "import re\n",
        "import numpy as np\n",
        "import os\n",
        "from collections import Counter\n",
        "import logging\n",
        "import time\n",
        "import pickle\n",
        "import itertools\n",
        "\n",
        "# Set log\n",
        "logging.basicConfig(format='%(asctime)s : %(levelname)s : %(message)s', level=logging.INFO)"
      ],
      "execution_count": 7,
      "outputs": [
        {
          "output_type": "stream",
          "text": [
            "Using TensorFlow backend.\n"
          ],
          "name": "stderr"
        }
      ]
    },
    {
      "metadata": {
        "trusted": true,
        "_uuid": "35e1a89dead5fd160e4c9a024a21d2e569fc89ff",
        "id": "AVMyyv16OeV2",
        "colab_type": "code",
        "outputId": "ae6ce333-543a-4420-803f-6e20bd7af5c7",
        "colab": {
          "base_uri": "https://localhost:8080/",
          "height": 68
        }
      },
      "cell_type": "code",
      "source": [
        "nltk.download('stopwords')"
      ],
      "execution_count": 8,
      "outputs": [
        {
          "output_type": "stream",
          "text": [
            "[nltk_data] Downloading package stopwords to /root/nltk_data...\n",
            "[nltk_data]   Unzipping corpora/stopwords.zip.\n"
          ],
          "name": "stdout"
        },
        {
          "output_type": "execute_result",
          "data": {
            "text/plain": [
              "True"
            ]
          },
          "metadata": {
            "tags": []
          },
          "execution_count": 8
        }
      ]
    },
    {
      "metadata": {
        "_uuid": "e8b01a07df001e4abcc745900336c4db06e455f3",
        "id": "U9DUERZEOeV5",
        "colab_type": "text"
      },
      "cell_type": "markdown",
      "source": [
        "### Settings"
      ]
    },
    {
      "metadata": {
        "trusted": true,
        "_uuid": "180f0dd2a95419e4602b5c0229822b0111c826f6",
        "id": "oakQbL4IOeV5",
        "colab_type": "code",
        "colab": {}
      },
      "cell_type": "code",
      "source": [
        "# DATASET\n",
        "DATASET_COLUMNS = [\"target\", \"ids\", \"date\", \"flag\", \"user\", \"text\"]\n",
        "DATASET_ENCODING = \"ISO-8859-1\"\n",
        "TRAIN_SIZE = 0.8\n",
        "\n",
        "# TEXT CLEANING\n",
        "TEXT_CLEANING_RE = \"@\\S+|https?:\\S+|http?:\\S|[^A-Za-z0-9]+\"\n",
        "\n",
        "# WORD2VEC \n",
        "#Word2vec takes as its input a large corpus of text and produces a vector space, typically of several hundred dimensions, with each unique word in the corpus being assigned a corresponding vector in the space.\n",
        "W2V_SIZE = 300\n",
        "W2V_WINDOW = 7\n",
        "W2V_EPOCH = 32\n",
        "W2V_MIN_COUNT = 10\n",
        "\n",
        "# KERAS\n",
        "SEQUENCE_LENGTH = 300\n",
        "EPOCHS = 8\n",
        "BATCH_SIZE = 1024\n",
        "\n",
        "# SENTIMENT\n",
        "POSITIVE = \"CONTAINS CYBERBULLY CONTENT\"\n",
        "NEGATIVE = \"DOES NOT CONTAIN CYBERBULLY CONTENT\"\n",
        "NEUTRAL = \"NEUTRAL\"\n",
        "SENTIMENT_THRESHOLDS = (0.4, 0.7)\n",
        "\n",
        "# EXPORT\n",
        "KERAS_MODEL = \"model.h5\"\n",
        "WORD2VEC_MODEL = \"model.w2v\"\n",
        "TOKENIZER_MODEL = \"tokenizer.pkl\"\n",
        "ENCODER_MODEL = \"encoder.pkl\""
      ],
      "execution_count": 0,
      "outputs": []
    },
    {
      "metadata": {
        "_uuid": "1c3beecc618be68480b3d4f0de08d9d863da1dc1",
        "id": "ppXgSKgrOeV8",
        "colab_type": "text"
      },
      "cell_type": "markdown",
      "source": [
        "### Read Dataset"
      ]
    },
    {
      "metadata": {
        "_uuid": "563b3c44f1092dba0b853747b098e00509098cca",
        "id": "fZKzAAXIOeV-",
        "colab_type": "text"
      },
      "cell_type": "markdown",
      "source": [
        "### Dataset details\n",
        "* **target**: the polarity of the tweet (0 = negative, 2 = neutral, 4 = positive)\n",
        "* **ids**: The id of the tweet ( 2087)\n",
        "* **date**: the date of the tweet (Sat May 16 23:58:44 UTC 2009)\n",
        "* **flag**: The query (lyx). If there is no query, then this value is NO_QUERY.\n",
        "* **user**: the user that tweeted (robotickilldozr)\n",
        "* **text**: the text of the tweet (Lyx is cool)"
      ]
    },
    {
      "metadata": {
        "trusted": true,
        "_uuid": "bba8f91cd70de4f5ea0fb0870ae2029b6e3dcc24",
        "id": "cWd900M3OeV-",
        "colab_type": "code",
        "colab": {}
      },
      "cell_type": "code",
      "source": [
        "#dataset_filename = os.listdir(\"../input\")[0]\n",
        "#dataset_path = os.path.join(\"..\",\"input\",dataset_filename)\n",
        "#print(\"Open file:\", dataset_path)\n",
        "#df = pd.read_csv(dataset_path, encoding =DATASET_ENCODING , names=DATASET_COLUMNS)\n",
        "\n",
        "df = pd.read_csv('training_dataset.csv', encoding =DATASET_ENCODING , names=DATASET_COLUMNS) "
      ],
      "execution_count": 0,
      "outputs": []
    },
    {
      "metadata": {
        "trusted": true,
        "_uuid": "936d499c00c4f1648bc16ca9d283c3b39be7fb10",
        "id": "82WnN3eKOeWD",
        "colab_type": "code",
        "outputId": "136a4006-222a-4f9b-9324-07c0fa2014db",
        "colab": {
          "base_uri": "https://localhost:8080/",
          "height": 34
        }
      },
      "cell_type": "code",
      "source": [
        "print(\"Dataset size:\", len(df))"
      ],
      "execution_count": 11,
      "outputs": [
        {
          "output_type": "stream",
          "text": [
            "Dataset size: 1600000\n"
          ],
          "name": "stdout"
        }
      ]
    },
    {
      "metadata": {
        "trusted": true,
        "_uuid": "7486ed895b813c5246f97b31b6162b0f65ff763b",
        "id": "fjCeENJMOeWF",
        "colab_type": "code",
        "outputId": "e8a139a7-62cd-4f30-9f89-b11a13ae3a5b",
        "colab": {
          "base_uri": "https://localhost:8080/",
          "height": 289
        }
      },
      "cell_type": "code",
      "source": [
        "df.head(5)"
      ],
      "execution_count": 12,
      "outputs": [
        {
          "output_type": "execute_result",
          "data": {
            "text/html": [
              "<div>\n",
              "<style scoped>\n",
              "    .dataframe tbody tr th:only-of-type {\n",
              "        vertical-align: middle;\n",
              "    }\n",
              "\n",
              "    .dataframe tbody tr th {\n",
              "        vertical-align: top;\n",
              "    }\n",
              "\n",
              "    .dataframe thead th {\n",
              "        text-align: right;\n",
              "    }\n",
              "</style>\n",
              "<table border=\"1\" class=\"dataframe\">\n",
              "  <thead>\n",
              "    <tr style=\"text-align: right;\">\n",
              "      <th></th>\n",
              "      <th>target</th>\n",
              "      <th>ids</th>\n",
              "      <th>date</th>\n",
              "      <th>flag</th>\n",
              "      <th>user</th>\n",
              "      <th>text</th>\n",
              "    </tr>\n",
              "  </thead>\n",
              "  <tbody>\n",
              "    <tr>\n",
              "      <th>0</th>\n",
              "      <td>0</td>\n",
              "      <td>1467810369</td>\n",
              "      <td>Mon Apr 06 22:19:45 PDT 2009</td>\n",
              "      <td>NO_QUERY</td>\n",
              "      <td>_TheSpecialOne_</td>\n",
              "      <td>@switchfoot http://twitpic.com/2y1zl - Awww, t...</td>\n",
              "    </tr>\n",
              "    <tr>\n",
              "      <th>1</th>\n",
              "      <td>0</td>\n",
              "      <td>1467810672</td>\n",
              "      <td>Mon Apr 06 22:19:49 PDT 2009</td>\n",
              "      <td>NO_QUERY</td>\n",
              "      <td>scotthamilton</td>\n",
              "      <td>is upset that he can't update his Facebook by ...</td>\n",
              "    </tr>\n",
              "    <tr>\n",
              "      <th>2</th>\n",
              "      <td>0</td>\n",
              "      <td>1467810917</td>\n",
              "      <td>Mon Apr 06 22:19:53 PDT 2009</td>\n",
              "      <td>NO_QUERY</td>\n",
              "      <td>mattycus</td>\n",
              "      <td>@Kenichan I dived many times for the ball. Man...</td>\n",
              "    </tr>\n",
              "    <tr>\n",
              "      <th>3</th>\n",
              "      <td>0</td>\n",
              "      <td>1467811184</td>\n",
              "      <td>Mon Apr 06 22:19:57 PDT 2009</td>\n",
              "      <td>NO_QUERY</td>\n",
              "      <td>ElleCTF</td>\n",
              "      <td>my whole body feels itchy and like its on fire</td>\n",
              "    </tr>\n",
              "    <tr>\n",
              "      <th>4</th>\n",
              "      <td>0</td>\n",
              "      <td>1467811193</td>\n",
              "      <td>Mon Apr 06 22:19:57 PDT 2009</td>\n",
              "      <td>NO_QUERY</td>\n",
              "      <td>Karoli</td>\n",
              "      <td>@nationwideclass no, it's not behaving at all....</td>\n",
              "    </tr>\n",
              "  </tbody>\n",
              "</table>\n",
              "</div>"
            ],
            "text/plain": [
              "   target         ids                          date      flag  \\\n",
              "0       0  1467810369  Mon Apr 06 22:19:45 PDT 2009  NO_QUERY   \n",
              "1       0  1467810672  Mon Apr 06 22:19:49 PDT 2009  NO_QUERY   \n",
              "2       0  1467810917  Mon Apr 06 22:19:53 PDT 2009  NO_QUERY   \n",
              "3       0  1467811184  Mon Apr 06 22:19:57 PDT 2009  NO_QUERY   \n",
              "4       0  1467811193  Mon Apr 06 22:19:57 PDT 2009  NO_QUERY   \n",
              "\n",
              "              user                                               text  \n",
              "0  _TheSpecialOne_  @switchfoot http://twitpic.com/2y1zl - Awww, t...  \n",
              "1    scotthamilton  is upset that he can't update his Facebook by ...  \n",
              "2         mattycus  @Kenichan I dived many times for the ball. Man...  \n",
              "3          ElleCTF    my whole body feels itchy and like its on fire   \n",
              "4           Karoli  @nationwideclass no, it's not behaving at all....  "
            ]
          },
          "metadata": {
            "tags": []
          },
          "execution_count": 12
        }
      ]
    },
    {
      "metadata": {
        "_uuid": "3f9a7bb129e184967b13261fb5d253af451c75c5",
        "id": "TGIygW4JOeWJ",
        "colab_type": "text"
      },
      "cell_type": "markdown",
      "source": [
        "### Map target label to String\n",
        "* **0** -> **NO BULLY**\n",
        "* **2** -> **NEUTRAL**\n",
        "* **4** -> **BULLY **"
      ]
    },
    {
      "metadata": {
        "trusted": true,
        "_uuid": "14074b59106cb9550440839e48b832223fc9502f",
        "id": "-zSmRe2POeWL",
        "colab_type": "code",
        "colab": {}
      },
      "cell_type": "code",
      "source": [
        "decode_map = {0: \"NO BULLY\", 2: \"NEUTRAL\", 4: \"BULLY\"}\n",
        "def decode_sentiment(label):\n",
        "    return decode_map[int(label)]"
      ],
      "execution_count": 0,
      "outputs": []
    },
    {
      "metadata": {
        "trusted": true,
        "_uuid": "4449d473187f647a195a6ac6986b009da32a7f4b",
        "id": "HEcvlTs9OeWN",
        "colab_type": "code",
        "outputId": "806c489c-108e-4299-9763-875aa84e6a57",
        "colab": {
          "base_uri": "https://localhost:8080/",
          "height": 51
        }
      },
      "cell_type": "code",
      "source": [
        "%%time\n",
        "df.target = df.target.apply(lambda x: decode_sentiment(x))"
      ],
      "execution_count": 14,
      "outputs": [
        {
          "output_type": "stream",
          "text": [
            "CPU times: user 626 ms, sys: 2.4 ms, total: 629 ms\n",
            "Wall time: 631 ms\n"
          ],
          "name": "stdout"
        }
      ]
    },
    {
      "metadata": {
        "trusted": true,
        "_uuid": "19eb327803192f31cce3512aacb232f4d6b38715",
        "id": "Zmr-aG7wOeWQ",
        "colab_type": "code",
        "outputId": "82c6422b-df02-4bdf-8bf0-22a92e800123",
        "colab": {
          "base_uri": "https://localhost:8080/",
          "height": 535
        }
      },
      "cell_type": "code",
      "source": [
        "target_cnt = Counter(df.target)\n",
        "\n",
        "plt.figure(figsize=(16,8))\n",
        "plt.bar(target_cnt.keys(), target_cnt.values())\n",
        "plt.title(\"Dataset labels distribuition\")"
      ],
      "execution_count": 15,
      "outputs": [
        {
          "output_type": "execute_result",
          "data": {
            "text/plain": [
              "Text(0.5, 1.0, 'Dataset labels distribuition')"
            ]
          },
          "metadata": {
            "tags": []
          },
          "execution_count": 15
        },
        {
          "output_type": "display_data",
          "data": {
            "image/png": "[encoded data removed]",
            "text/plain": [
              "<Figure size 1152x576 with 1 Axes>"
            ]
          },
          "metadata": {
            "tags": []
          }
        }
      ]
    },
    {
      "metadata": {
        "_uuid": "4329b1573518b03e497213efa7676220734ebb4b",
        "id": "8kzXETTEOeWT",
        "colab_type": "text"
      },
      "cell_type": "markdown",
      "source": [
        "### Pre-Process dataset"
      ]
    },
    {
      "metadata": {
        "trusted": true,
        "_uuid": "8aeee8b7b9ea11b749c7f91cd4787a7b50ed1a91",
        "id": "7SZlLBSjOeWU",
        "colab_type": "code",
        "colab": {}
      },
      "cell_type": "code",
      "source": [
        "stop_words = stopwords.words(\"english\")\n",
        "stemmer = SnowballStemmer(\"english\") #Stemmers remove morphological affixes from words, leaving only the word stem. e.g. -ing, -ly"
      ],
      "execution_count": 0,
      "outputs": []
    },
    {
      "metadata": {
        "trusted": true,
        "_uuid": "649ebcb97969b9ac4301138783704bb3d7846a49",
        "id": "GCSH1RlfOeWX",
        "colab_type": "code",
        "colab": {}
      },
      "cell_type": "code",
      "source": [
        "def preprocess(text, stem=False):\n",
        "    # Remove link,user and special characters\n",
        "    text = re.sub(TEXT_CLEANING_RE, ' ', str(text).lower()).strip()\n",
        "    tokens = []\n",
        "    for token in text.split():\n",
        "        if token not in stop_words:\n",
        "            if stem:\n",
        "                tokens.append(stemmer.stem(token))\n",
        "            else:\n",
        "                tokens.append(token)\n",
        "    return \" \".join(tokens)"
      ],
      "execution_count": 0,
      "outputs": []
    },
    {
      "metadata": {
        "trusted": true,
        "_uuid": "f7f3e77ab9291d14687c49e71ba9b2b1e3323432",
        "id": "a1kc0oU-OeWa",
        "colab_type": "code",
        "outputId": "eb78b2ba-53af-4578-82a5-997041951d59",
        "colab": {
          "base_uri": "https://localhost:8080/",
          "height": 51
        }
      },
      "cell_type": "code",
      "source": [
        "%%time\n",
        "df.text = df.text.apply(lambda x: preprocess(x))"
      ],
      "execution_count": 18,
      "outputs": [
        {
          "output_type": "stream",
          "text": [
            "CPU times: user 48.1 s, sys: 209 ms, total: 48.3 s\n",
            "Wall time: 48.3 s\n"
          ],
          "name": "stdout"
        }
      ]
    },
    {
      "metadata": {
        "trusted": true,
        "_uuid": "f5f9714a8507409bbe780eebf2855a33e8e6ba37",
        "id": "t-QDbcHWOeWd",
        "colab_type": "text"
      },
      "cell_type": "markdown",
      "source": [
        "### Split train and test"
      ]
    },
    {
      "metadata": {
        "trusted": true,
        "_uuid": "d2b1179c968e3f3910c790ecf0c5b2cbb34b0e68",
        "id": "YNmvrAxCOeWe",
        "colab_type": "code",
        "outputId": "bb4e44e0-057a-4aad-fb36-86de9aba2e0e",
        "colab": {
          "base_uri": "https://localhost:8080/",
          "height": 51
        }
      },
      "cell_type": "code",
      "source": [
        "df_train, df_test = train_test_split(df, test_size=1-TRAIN_SIZE, random_state=42)\n",
        "print(\"TRAIN size:\", len(df_train))\n",
        "print(\"TEST size:\", len(df_test))"
      ],
      "execution_count": 19,
      "outputs": [
        {
          "output_type": "stream",
          "text": [
            "TRAIN size: 1280000\n",
            "TEST size: 320000\n"
          ],
          "name": "stdout"
        }
      ]
    },
    {
      "metadata": {
        "_uuid": "f08a28aab2c3d16d8b9681a7d5d07587153a1cd6",
        "id": "j0TArZQvOeWh",
        "colab_type": "text"
      },
      "cell_type": "markdown",
      "source": [
        "### Word2Vec "
      ]
    },
    {
      "metadata": {
        "trusted": true,
        "_uuid": "2461bf564de1b4414841933d0c1d1bee5f5cc5a6",
        "id": "HQ1SsDn-OeWj",
        "colab_type": "code",
        "outputId": "794c265f-f4d6-47a2-8718-429f1e1fc62b",
        "colab": {
          "base_uri": "https://localhost:8080/",
          "height": 51
        }
      },
      "cell_type": "code",
      "source": [
        "%%time\n",
        "documents = [_text.split() for _text in df_train.text] "
      ],
      "execution_count": 20,
      "outputs": [
        {
          "output_type": "stream",
          "text": [
            "CPU times: user 3.02 s, sys: 310 ms, total: 3.33 s\n",
            "Wall time: 3.34 s\n"
          ],
          "name": "stdout"
        }
      ]
    },
    {
      "metadata": {
        "trusted": true,
        "_uuid": "8e19b9f25801ba86420decc266d2b3e6fb44f1ea",
        "id": "1k17JCWuOeWm",
        "colab_type": "code",
        "colab": {}
      },
      "cell_type": "code",
      "source": [
        "w2v_model = gensim.models.word2vec.Word2Vec(size=W2V_SIZE, \n",
        "                                            window=W2V_WINDOW, \n",
        "                                            min_count=W2V_MIN_COUNT, \n",
        "                                            workers=8)"
      ],
      "execution_count": 0,
      "outputs": []
    },
    {
      "metadata": {
        "trusted": true,
        "_uuid": "58d655af07653c594bec6bebcfb302a973b0ad9c",
        "id": "wTlWV0qZOeWq",
        "colab_type": "code",
        "outputId": "dd872b96-9f41-44ce-dca2-4a80966771ac",
        "colab": {
          "base_uri": "https://localhost:8080/",
          "height": 2383
        }
      },
      "cell_type": "code",
      "source": [
        "w2v_model.build_vocab(documents)"
      ],
      "execution_count": 22,
      "outputs": [
        {
          "output_type": "stream",
          "text": [
            "2019-03-01 06:34:57,667 : INFO : collecting all words and their counts\n",
            "2019-03-01 06:34:57,669 : INFO : PROGRESS: at sentence #0, processed 0 words, keeping 0 word types\n",
            "2019-03-01 06:34:57,700 : INFO : PROGRESS: at sentence #10000, processed 72565 words, keeping 14005 word types\n",
            "2019-03-01 06:34:57,727 : INFO : PROGRESS: at sentence #20000, processed 144393 words, keeping 21587 word types\n",
            "2019-03-01 06:34:57,754 : INFO : PROGRESS: at sentence #30000, processed 215826 words, keeping 27541 word types\n",
            "2019-03-01 06:34:57,781 : INFO : PROGRESS: at sentence #40000, processed 288271 words, keeping 32764 word types\n",
            "2019-03-01 06:34:57,808 : INFO : PROGRESS: at sentence #50000, processed 359772 words, keeping 37587 word types\n",
            "2019-03-01 06:34:57,835 : INFO : PROGRESS: at sentence #60000, processed 431431 words, keeping 42198 word types\n",
            "2019-03-01 06:34:57,862 : INFO : PROGRESS: at sentence #70000, processed 503103 words, keeping 46458 word types\n",
            "2019-03-01 06:34:57,890 : INFO : PROGRESS: at sentence #80000, processed 575709 words, keeping 50476 word types\n",
            "2019-03-01 06:34:57,916 : INFO : PROGRESS: at sentence #90000, processed 647100 words, keeping 54140 word types\n",
            "2019-03-01 06:34:57,943 : INFO : PROGRESS: at sentence #100000, processed 718681 words, keeping 57777 word types\n",
            "2019-03-01 06:34:57,970 : INFO : PROGRESS: at sentence #110000, processed 790696 words, keeping 61207 word types\n",
            "2019-03-01 06:34:57,997 : INFO : PROGRESS: at sentence #120000, processed 863134 words, keeping 64583 word types\n",
            "2019-03-01 06:34:58,024 : INFO : PROGRESS: at sentence #130000, processed 935111 words, keeping 67865 word types\n",
            "2019-03-01 06:34:58,051 : INFO : PROGRESS: at sentence #140000, processed 1006668 words, keeping 70966 word types\n",
            "2019-03-01 06:34:58,079 : INFO : PROGRESS: at sentence #150000, processed 1078512 words, keeping 74119 word types\n",
            "2019-03-01 06:34:58,106 : INFO : PROGRESS: at sentence #160000, processed 1149914 words, keeping 77187 word types\n",
            "2019-03-01 06:34:58,133 : INFO : PROGRESS: at sentence #170000, processed 1222145 words, keeping 80267 word types\n",
            "2019-03-01 06:34:58,161 : INFO : PROGRESS: at sentence #180000, processed 1294708 words, keeping 83393 word types\n",
            "2019-03-01 06:34:58,188 : INFO : PROGRESS: at sentence #190000, processed 1367608 words, keeping 86329 word types\n",
            "2019-03-01 06:34:58,220 : INFO : PROGRESS: at sentence #200000, processed 1439469 words, keeping 89103 word types\n",
            "2019-03-01 06:34:58,249 : INFO : PROGRESS: at sentence #210000, processed 1512099 words, keeping 91840 word types\n",
            "2019-03-01 06:34:58,276 : INFO : PROGRESS: at sentence #220000, processed 1584149 words, keeping 94636 word types\n",
            "2019-03-01 06:34:58,303 : INFO : PROGRESS: at sentence #230000, processed 1656354 words, keeping 97353 word types\n",
            "2019-03-01 06:34:58,333 : INFO : PROGRESS: at sentence #240000, processed 1728573 words, keeping 99975 word types\n",
            "2019-03-01 06:34:58,361 : INFO : PROGRESS: at sentence #250000, processed 1801102 words, keeping 102594 word types\n",
            "2019-03-01 06:34:58,389 : INFO : PROGRESS: at sentence #260000, processed 1873103 words, keeping 105162 word types\n",
            "2019-03-01 06:34:58,417 : INFO : PROGRESS: at sentence #270000, processed 1945245 words, keeping 107626 word types\n",
            "2019-03-01 06:34:58,448 : INFO : PROGRESS: at sentence #280000, processed 2017163 words, keeping 110141 word types\n",
            "2019-03-01 06:34:58,476 : INFO : PROGRESS: at sentence #290000, processed 2089574 words, keeping 112539 word types\n",
            "2019-03-01 06:34:58,504 : INFO : PROGRESS: at sentence #300000, processed 2160996 words, keeping 114893 word types\n",
            "2019-03-01 06:34:58,531 : INFO : PROGRESS: at sentence #310000, processed 2232913 words, keeping 117298 word types\n",
            "2019-03-01 06:34:58,561 : INFO : PROGRESS: at sentence #320000, processed 2305039 words, keeping 119693 word types\n",
            "2019-03-01 06:34:58,590 : INFO : PROGRESS: at sentence #330000, processed 2377119 words, keeping 122131 word types\n",
            "2019-03-01 06:34:58,616 : INFO : PROGRESS: at sentence #340000, processed 2449370 words, keeping 124416 word types\n",
            "2019-03-01 06:34:58,645 : INFO : PROGRESS: at sentence #350000, processed 2521564 words, keeping 126669 word types\n",
            "2019-03-01 06:34:58,673 : INFO : PROGRESS: at sentence #360000, processed 2593681 words, keeping 128912 word types\n",
            "2019-03-01 06:34:58,701 : INFO : PROGRESS: at sentence #370000, processed 2665692 words, keeping 131135 word types\n",
            "2019-03-01 06:34:58,730 : INFO : PROGRESS: at sentence #380000, processed 2737859 words, keeping 133403 word types\n",
            "2019-03-01 06:34:58,762 : INFO : PROGRESS: at sentence #390000, processed 2809848 words, keeping 135551 word types\n",
            "2019-03-01 06:34:58,791 : INFO : PROGRESS: at sentence #400000, processed 2882438 words, keeping 137742 word types\n",
            "2019-03-01 06:34:58,818 : INFO : PROGRESS: at sentence #410000, processed 2954075 words, keeping 139909 word types\n",
            "2019-03-01 06:34:58,846 : INFO : PROGRESS: at sentence #420000, processed 3026247 words, keeping 142144 word types\n",
            "2019-03-01 06:34:58,876 : INFO : PROGRESS: at sentence #430000, processed 3098659 words, keeping 144364 word types\n",
            "2019-03-01 06:34:58,906 : INFO : PROGRESS: at sentence #440000, processed 3170663 words, keeping 146439 word types\n",
            "2019-03-01 06:34:58,938 : INFO : PROGRESS: at sentence #450000, processed 3243344 words, keeping 148526 word types\n",
            "2019-03-01 06:34:58,965 : INFO : PROGRESS: at sentence #460000, processed 3315466 words, keeping 150610 word types\n",
            "2019-03-01 06:34:58,997 : INFO : PROGRESS: at sentence #470000, processed 3388295 words, keeping 152737 word types\n",
            "2019-03-01 06:34:59,023 : INFO : PROGRESS: at sentence #480000, processed 3460120 words, keeping 154757 word types\n",
            "2019-03-01 06:34:59,052 : INFO : PROGRESS: at sentence #490000, processed 3531883 words, keeping 156825 word types\n",
            "2019-03-01 06:34:59,080 : INFO : PROGRESS: at sentence #500000, processed 3604217 words, keeping 158859 word types\n",
            "2019-03-01 06:34:59,110 : INFO : PROGRESS: at sentence #510000, processed 3676427 words, keeping 160852 word types\n",
            "2019-03-01 06:34:59,137 : INFO : PROGRESS: at sentence #520000, processed 3749045 words, keeping 162863 word types\n",
            "2019-03-01 06:34:59,167 : INFO : PROGRESS: at sentence #530000, processed 3821622 words, keeping 164929 word types\n",
            "2019-03-01 06:34:59,197 : INFO : PROGRESS: at sentence #540000, processed 3893627 words, keeping 166840 word types\n",
            "2019-03-01 06:34:59,229 : INFO : PROGRESS: at sentence #550000, processed 3965477 words, keeping 168799 word types\n",
            "2019-03-01 06:34:59,257 : INFO : PROGRESS: at sentence #560000, processed 4038050 words, keeping 170802 word types\n",
            "2019-03-01 06:34:59,284 : INFO : PROGRESS: at sentence #570000, processed 4110296 words, keeping 172760 word types\n",
            "2019-03-01 06:34:59,316 : INFO : PROGRESS: at sentence #580000, processed 4182385 words, keeping 174635 word types\n",
            "2019-03-01 06:34:59,350 : INFO : PROGRESS: at sentence #590000, processed 4254632 words, keeping 176470 word types\n",
            "2019-03-01 06:34:59,381 : INFO : PROGRESS: at sentence #600000, processed 4326859 words, keeping 178350 word types\n",
            "2019-03-01 06:34:59,409 : INFO : PROGRESS: at sentence #610000, processed 4399183 words, keeping 180290 word types\n",
            "2019-03-01 06:34:59,438 : INFO : PROGRESS: at sentence #620000, processed 4471343 words, keeping 182129 word types\n",
            "2019-03-01 06:34:59,472 : INFO : PROGRESS: at sentence #630000, processed 4543286 words, keeping 184005 word types\n",
            "2019-03-01 06:34:59,504 : INFO : PROGRESS: at sentence #640000, processed 4615780 words, keeping 185835 word types\n",
            "2019-03-01 06:34:59,533 : INFO : PROGRESS: at sentence #650000, processed 4688481 words, keeping 187705 word types\n",
            "2019-03-01 06:34:59,564 : INFO : PROGRESS: at sentence #660000, processed 4760481 words, keeping 189439 word types\n",
            "2019-03-01 06:34:59,593 : INFO : PROGRESS: at sentence #670000, processed 4833024 words, keeping 191232 word types\n",
            "2019-03-01 06:34:59,623 : INFO : PROGRESS: at sentence #680000, processed 4904516 words, keeping 193177 word types\n",
            "2019-03-01 06:34:59,652 : INFO : PROGRESS: at sentence #690000, processed 4976968 words, keeping 194960 word types\n",
            "2019-03-01 06:34:59,681 : INFO : PROGRESS: at sentence #700000, processed 5049412 words, keeping 196725 word types\n",
            "2019-03-01 06:34:59,707 : INFO : PROGRESS: at sentence #710000, processed 5121976 words, keeping 198516 word types\n",
            "2019-03-01 06:34:59,737 : INFO : PROGRESS: at sentence #720000, processed 5193881 words, keeping 200325 word types\n",
            "2019-03-01 06:34:59,766 : INFO : PROGRESS: at sentence #730000, processed 5265467 words, keeping 202133 word types\n",
            "2019-03-01 06:34:59,796 : INFO : PROGRESS: at sentence #740000, processed 5337518 words, keeping 203818 word types\n",
            "2019-03-01 06:34:59,824 : INFO : PROGRESS: at sentence #750000, processed 5409321 words, keeping 205535 word types\n",
            "2019-03-01 06:34:59,854 : INFO : PROGRESS: at sentence #760000, processed 5481512 words, keeping 207282 word types\n",
            "2019-03-01 06:34:59,880 : INFO : PROGRESS: at sentence #770000, processed 5554093 words, keeping 209076 word types\n",
            "2019-03-01 06:34:59,908 : INFO : PROGRESS: at sentence #780000, processed 5625382 words, keeping 210805 word types\n",
            "2019-03-01 06:34:59,940 : INFO : PROGRESS: at sentence #790000, processed 5698066 words, keeping 212618 word types\n",
            "2019-03-01 06:34:59,968 : INFO : PROGRESS: at sentence #800000, processed 5770880 words, keeping 214374 word types\n",
            "2019-03-01 06:34:59,997 : INFO : PROGRESS: at sentence #810000, processed 5843418 words, keeping 216009 word types\n",
            "2019-03-01 06:35:00,026 : INFO : PROGRESS: at sentence #820000, processed 5915628 words, keeping 217804 word types\n",
            "2019-03-01 06:35:00,053 : INFO : PROGRESS: at sentence #830000, processed 5987499 words, keeping 219585 word types\n",
            "2019-03-01 06:35:00,082 : INFO : PROGRESS: at sentence #840000, processed 6058973 words, keeping 221344 word types\n",
            "2019-03-01 06:35:00,109 : INFO : PROGRESS: at sentence #850000, processed 6131125 words, keeping 223002 word types\n",
            "2019-03-01 06:35:00,138 : INFO : PROGRESS: at sentence #860000, processed 6202951 words, keeping 224643 word types\n",
            "2019-03-01 06:35:00,167 : INFO : PROGRESS: at sentence #870000, processed 6275461 words, keeping 226362 word types\n",
            "2019-03-01 06:35:00,194 : INFO : PROGRESS: at sentence #880000, processed 6347661 words, keeping 227986 word types\n",
            "2019-03-01 06:35:00,222 : INFO : PROGRESS: at sentence #890000, processed 6419806 words, keeping 229634 word types\n",
            "2019-03-01 06:35:00,251 : INFO : PROGRESS: at sentence #900000, processed 6491644 words, keeping 231389 word types\n",
            "2019-03-01 06:35:00,280 : INFO : PROGRESS: at sentence #910000, processed 6564022 words, keeping 233050 word types\n",
            "2019-03-01 06:35:00,308 : INFO : PROGRESS: at sentence #920000, processed 6636228 words, keeping 234686 word types\n",
            "2019-03-01 06:35:00,339 : INFO : PROGRESS: at sentence #930000, processed 6708573 words, keeping 236393 word types\n",
            "2019-03-01 06:35:00,366 : INFO : PROGRESS: at sentence #940000, processed 6779956 words, keeping 238052 word types\n",
            "2019-03-01 06:35:00,397 : INFO : PROGRESS: at sentence #950000, processed 6852599 words, keeping 239716 word types\n",
            "2019-03-01 06:35:00,423 : INFO : PROGRESS: at sentence #960000, processed 6924717 words, keeping 241354 word types\n",
            "2019-03-01 06:35:00,451 : INFO : PROGRESS: at sentence #970000, processed 6996992 words, keeping 242980 word types\n",
            "2019-03-01 06:35:00,484 : INFO : PROGRESS: at sentence #980000, processed 7068402 words, keeping 244646 word types\n",
            "2019-03-01 06:35:00,512 : INFO : PROGRESS: at sentence #990000, processed 7140346 words, keeping 246186 word types\n",
            "2019-03-01 06:35:00,540 : INFO : PROGRESS: at sentence #1000000, processed 7211757 words, keeping 247726 word types\n",
            "2019-03-01 06:35:00,567 : INFO : PROGRESS: at sentence #1010000, processed 7283267 words, keeping 249288 word types\n",
            "2019-03-01 06:35:00,596 : INFO : PROGRESS: at sentence #1020000, processed 7355299 words, keeping 250860 word types\n",
            "2019-03-01 06:35:00,623 : INFO : PROGRESS: at sentence #1030000, processed 7426918 words, keeping 252366 word types\n",
            "2019-03-01 06:35:00,652 : INFO : PROGRESS: at sentence #1040000, processed 7498815 words, keeping 253930 word types\n",
            "2019-03-01 06:35:00,683 : INFO : PROGRESS: at sentence #1050000, processed 7570499 words, keeping 255471 word types\n",
            "2019-03-01 06:35:00,710 : INFO : PROGRESS: at sentence #1060000, processed 7643251 words, keeping 257035 word types\n",
            "2019-03-01 06:35:00,738 : INFO : PROGRESS: at sentence #1070000, processed 7714721 words, keeping 258509 word types\n",
            "2019-03-01 06:35:00,768 : INFO : PROGRESS: at sentence #1080000, processed 7787371 words, keeping 260071 word types\n",
            "2019-03-01 06:35:00,801 : INFO : PROGRESS: at sentence #1090000, processed 7859336 words, keeping 261683 word types\n",
            "2019-03-01 06:35:00,829 : INFO : PROGRESS: at sentence #1100000, processed 7932029 words, keeping 263278 word types\n",
            "2019-03-01 06:35:00,861 : INFO : PROGRESS: at sentence #1110000, processed 8004146 words, keeping 264800 word types\n",
            "2019-03-01 06:35:00,890 : INFO : PROGRESS: at sentence #1120000, processed 8075880 words, keeping 266309 word types\n",
            "2019-03-01 06:35:00,919 : INFO : PROGRESS: at sentence #1130000, processed 8148163 words, keeping 267826 word types\n",
            "2019-03-01 06:35:00,948 : INFO : PROGRESS: at sentence #1140000, processed 8220487 words, keeping 269391 word types\n",
            "2019-03-01 06:35:00,976 : INFO : PROGRESS: at sentence #1150000, processed 8292498 words, keeping 270894 word types\n",
            "2019-03-01 06:35:01,006 : INFO : PROGRESS: at sentence #1160000, processed 8363838 words, keeping 272400 word types\n",
            "2019-03-01 06:35:01,032 : INFO : PROGRESS: at sentence #1170000, processed 8435510 words, keeping 273970 word types\n",
            "2019-03-01 06:35:01,064 : INFO : PROGRESS: at sentence #1180000, processed 8507795 words, keeping 275521 word types\n",
            "2019-03-01 06:35:01,092 : INFO : PROGRESS: at sentence #1190000, processed 8579080 words, keeping 277007 word types\n",
            "2019-03-01 06:35:01,120 : INFO : PROGRESS: at sentence #1200000, processed 8650606 words, keeping 278457 word types\n",
            "2019-03-01 06:35:01,150 : INFO : PROGRESS: at sentence #1210000, processed 8721893 words, keeping 279959 word types\n",
            "2019-03-01 06:35:01,178 : INFO : PROGRESS: at sentence #1220000, processed 8793795 words, keeping 281427 word types\n",
            "2019-03-01 06:35:01,206 : INFO : PROGRESS: at sentence #1230000, processed 8865726 words, keeping 282981 word types\n",
            "2019-03-01 06:35:01,236 : INFO : PROGRESS: at sentence #1240000, processed 8938173 words, keeping 284542 word types\n",
            "2019-03-01 06:35:01,264 : INFO : PROGRESS: at sentence #1250000, processed 9010842 words, keeping 286064 word types\n",
            "2019-03-01 06:35:01,297 : INFO : PROGRESS: at sentence #1260000, processed 9083261 words, keeping 287521 word types\n",
            "2019-03-01 06:35:01,325 : INFO : PROGRESS: at sentence #1270000, processed 9155616 words, keeping 288987 word types\n",
            "2019-03-01 06:35:01,356 : INFO : collected 290418 word types from a corpus of 9227204 raw words and 1280000 sentences\n",
            "2019-03-01 06:35:01,357 : INFO : Loading a fresh vocabulary\n",
            "2019-03-01 06:35:01,546 : INFO : effective_min_count=10 retains 30369 unique words (10% of original 290418, drops 260049)\n",
            "2019-03-01 06:35:01,547 : INFO : effective_min_count=10 leaves 8780739 word corpus (95% of original 9227204, drops 446465)\n",
            "2019-03-01 06:35:01,643 : INFO : deleting the raw counts dictionary of 290418 items\n",
            "2019-03-01 06:35:01,652 : INFO : sample=0.001 downsamples 45 most-common words\n",
            "2019-03-01 06:35:01,653 : INFO : downsampling leaves estimated 8222658 word corpus (93.6% of prior 8780739)\n",
            "2019-03-01 06:35:01,732 : INFO : estimated required memory for 30369 words and 300 dimensions: 88070100 bytes\n",
            "2019-03-01 06:35:01,733 : INFO : resetting layer weights\n"
          ],
          "name": "stderr"
        }
      ]
    },
    {
      "metadata": {
        "trusted": true,
        "_uuid": "72a5628ca81fd4b8983c12d93ae0bf950b86b6ae",
        "id": "87uz6wthOeWt",
        "colab_type": "code",
        "outputId": "bee67be5-437d-4c06-ec31-1dd36c6ea9d5",
        "colab": {
          "base_uri": "https://localhost:8080/",
          "height": 34
        }
      },
      "cell_type": "code",
      "source": [
        "words = w2v_model.wv.vocab.keys()\n",
        "vocab_size = len(words)\n",
        "print(\"Vocab size\", vocab_size)"
      ],
      "execution_count": 23,
      "outputs": [
        {
          "output_type": "stream",
          "text": [
            "Vocab size 30369\n"
          ],
          "name": "stdout"
        }
      ]
    },
    {
      "metadata": {
        "trusted": true,
        "_uuid": "68c3e4a5ba07cac3dee67f78ecdd1404c7f83f14",
        "id": "fj0vAvK9OeWv",
        "colab_type": "code",
        "outputId": "cacb0fe2-a825-4e68-b7a7-d5044774d44a",
        "colab": {
          "base_uri": "https://localhost:8080/",
          "height": 14334
        }
      },
      "cell_type": "code",
      "source": [
        "%%time\n",
        "w2v_model.train(documents, total_examples=len(documents), epochs=W2V_EPOCH)"
      ],
      "execution_count": 24,
      "outputs": [
        {
          "output_type": "stream",
          "text": [
            "2019-03-01 06:35:02,171 : INFO : training model with 8 workers on 30369 vocabulary and 300 features, using sg=0 hs=0 sample=0.001 negative=5 window=7\n",
            "2019-03-01 06:35:03,245 : INFO : EPOCH 1 - PROGRESS: at 4.67% examples, 365649 words/s, in_qsize 15, out_qsize 0\n",
            "2019-03-01 06:35:04,434 : INFO : EPOCH 1 - PROGRESS: at 9.99% examples, 372955 words/s, in_qsize 14, out_qsize 7\n",
            "2019-03-01 06:35:05,414 : INFO : EPOCH 1 - PROGRESS: at 15.41% examples, 393234 words/s, in_qsize 15, out_qsize 0\n",
            "2019-03-01 06:35:06,431 : INFO : EPOCH 1 - PROGRESS: at 20.48% examples, 397732 words/s, in_qsize 14, out_qsize 1\n",
            "2019-03-01 06:35:07,450 : INFO : EPOCH 1 - PROGRESS: at 25.48% examples, 398576 words/s, in_qsize 15, out_qsize 0\n",
            "2019-03-01 06:35:08,458 : INFO : EPOCH 1 - PROGRESS: at 30.56% examples, 401295 words/s, in_qsize 15, out_qsize 0\n",
            "2019-03-01 06:35:09,478 : INFO : EPOCH 1 - PROGRESS: at 35.75% examples, 403806 words/s, in_qsize 15, out_qsize 0\n",
            "2019-03-01 06:35:10,498 : INFO : EPOCH 1 - PROGRESS: at 41.05% examples, 406737 words/s, in_qsize 15, out_qsize 0\n",
            "2019-03-01 06:35:11,503 : INFO : EPOCH 1 - PROGRESS: at 45.92% examples, 405913 words/s, in_qsize 16, out_qsize 0\n",
            "2019-03-01 06:35:12,655 : INFO : EPOCH 1 - PROGRESS: at 51.21% examples, 403493 words/s, in_qsize 15, out_qsize 2\n",
            "2019-03-01 06:35:13,656 : INFO : EPOCH 1 - PROGRESS: at 56.73% examples, 407427 words/s, in_qsize 15, out_qsize 1\n",
            "2019-03-01 06:35:14,658 : INFO : EPOCH 1 - PROGRESS: at 61.61% examples, 406837 words/s, in_qsize 14, out_qsize 1\n",
            "2019-03-01 06:35:15,665 : INFO : EPOCH 1 - PROGRESS: at 66.69% examples, 407520 words/s, in_qsize 14, out_qsize 1\n",
            "2019-03-01 06:35:16,673 : INFO : EPOCH 1 - PROGRESS: at 71.99% examples, 409291 words/s, in_qsize 15, out_qsize 0\n",
            "2019-03-01 06:35:17,684 : INFO : EPOCH 1 - PROGRESS: at 77.20% examples, 410156 words/s, in_qsize 15, out_qsize 0\n",
            "2019-03-01 06:35:18,703 : INFO : EPOCH 1 - PROGRESS: at 82.21% examples, 409682 words/s, in_qsize 15, out_qsize 0\n",
            "2019-03-01 06:35:19,752 : INFO : EPOCH 1 - PROGRESS: at 87.40% examples, 409553 words/s, in_qsize 16, out_qsize 0\n",
            "2019-03-01 06:35:20,768 : INFO : EPOCH 1 - PROGRESS: at 92.83% examples, 411109 words/s, in_qsize 14, out_qsize 1\n",
            "2019-03-01 06:35:21,776 : INFO : EPOCH 1 - PROGRESS: at 97.71% examples, 410404 words/s, in_qsize 14, out_qsize 1\n",
            "2019-03-01 06:35:22,054 : INFO : worker thread finished; awaiting finish of 7 more threads\n",
            "2019-03-01 06:35:22,073 : INFO : worker thread finished; awaiting finish of 6 more threads\n",
            "2019-03-01 06:35:22,092 : INFO : worker thread finished; awaiting finish of 5 more threads\n",
            "2019-03-01 06:35:22,094 : INFO : worker thread finished; awaiting finish of 4 more threads\n",
            "2019-03-01 06:35:22,114 : INFO : worker thread finished; awaiting finish of 3 more threads\n",
            "2019-03-01 06:35:22,123 : INFO : worker thread finished; awaiting finish of 2 more threads\n",
            "2019-03-01 06:35:22,125 : INFO : worker thread finished; awaiting finish of 1 more threads\n",
            "2019-03-01 06:35:22,134 : INFO : worker thread finished; awaiting finish of 0 more threads\n",
            "2019-03-01 06:35:22,134 : INFO : EPOCH - 1 : training on 9227204 raw words (8223065 effective words) took 19.9s, 412465 effective words/s\n",
            "2019-03-01 06:35:23,153 : INFO : EPOCH 2 - PROGRESS: at 4.45% examples, 362904 words/s, in_qsize 15, out_qsize 0\n",
            "2019-03-01 06:35:24,156 : INFO : EPOCH 2 - PROGRESS: at 9.77% examples, 399471 words/s, in_qsize 16, out_qsize 2\n",
            "2019-03-01 06:35:25,181 : INFO : EPOCH 2 - PROGRESS: at 15.19% examples, 411278 words/s, in_qsize 15, out_qsize 1\n",
            "2019-03-01 06:35:26,182 : INFO : EPOCH 2 - PROGRESS: at 20.59% examples, 419567 words/s, in_qsize 16, out_qsize 0\n",
            "2019-03-01 06:35:27,185 : INFO : EPOCH 2 - PROGRESS: at 25.59% examples, 417427 words/s, in_qsize 13, out_qsize 3\n",
            "2019-03-01 06:35:28,220 : INFO : EPOCH 2 - PROGRESS: at 30.89% examples, 418256 words/s, in_qsize 15, out_qsize 0\n",
            "2019-03-01 06:35:29,231 : INFO : EPOCH 2 - PROGRESS: at 35.75% examples, 415113 words/s, in_qsize 15, out_qsize 0\n",
            "2019-03-01 06:35:30,263 : INFO : EPOCH 2 - PROGRESS: at 41.16% examples, 417178 words/s, in_qsize 16, out_qsize 0\n",
            "2019-03-01 06:35:31,326 : INFO : EPOCH 2 - PROGRESS: at 46.46% examples, 416462 words/s, in_qsize 15, out_qsize 1\n",
            "2019-03-01 06:35:32,353 : INFO : EPOCH 2 - PROGRESS: at 51.54% examples, 415600 words/s, in_qsize 15, out_qsize 1\n",
            "2019-03-01 06:35:33,368 : INFO : EPOCH 2 - PROGRESS: at 56.84% examples, 416936 words/s, in_qsize 16, out_qsize 1\n",
            "2019-03-01 06:35:34,382 : INFO : EPOCH 2 - PROGRESS: at 61.82% examples, 415872 words/s, in_qsize 15, out_qsize 0\n",
            "2019-03-01 06:35:35,425 : INFO : EPOCH 2 - PROGRESS: at 67.13% examples, 416060 words/s, in_qsize 16, out_qsize 0\n",
            "2019-03-01 06:35:36,456 : INFO : EPOCH 2 - PROGRESS: at 72.21% examples, 415331 words/s, in_qsize 14, out_qsize 5\n",
            "2019-03-01 06:35:37,482 : INFO : EPOCH 2 - PROGRESS: at 77.85% examples, 417726 words/s, in_qsize 15, out_qsize 0\n",
            "2019-03-01 06:35:38,483 : INFO : EPOCH 2 - PROGRESS: at 82.96% examples, 417744 words/s, in_qsize 15, out_qsize 0\n",
            "2019-03-01 06:35:39,500 : INFO : EPOCH 2 - PROGRESS: at 88.26% examples, 418406 words/s, in_qsize 15, out_qsize 0\n",
            "2019-03-01 06:35:40,535 : INFO : EPOCH 2 - PROGRESS: at 93.37% examples, 417597 words/s, in_qsize 14, out_qsize 1\n",
            "2019-03-01 06:35:41,599 : INFO : EPOCH 2 - PROGRESS: at 98.80% examples, 417646 words/s, in_qsize 12, out_qsize 0\n",
            "2019-03-01 06:35:41,652 : INFO : worker thread finished; awaiting finish of 7 more threads\n",
            "2019-03-01 06:35:41,657 : INFO : worker thread finished; awaiting finish of 6 more threads\n",
            "2019-03-01 06:35:41,663 : INFO : worker thread finished; awaiting finish of 5 more threads\n",
            "2019-03-01 06:35:41,676 : INFO : worker thread finished; awaiting finish of 4 more threads\n",
            "2019-03-01 06:35:41,718 : INFO : worker thread finished; awaiting finish of 3 more threads\n",
            "2019-03-01 06:35:41,722 : INFO : worker thread finished; awaiting finish of 2 more threads\n",
            "2019-03-01 06:35:41,725 : INFO : worker thread finished; awaiting finish of 1 more threads\n",
            "2019-03-01 06:35:41,729 : INFO : worker thread finished; awaiting finish of 0 more threads\n",
            "2019-03-01 06:35:41,730 : INFO : EPOCH - 2 : training on 9227204 raw words (8222961 effective words) took 19.6s, 419910 effective words/s\n",
            "2019-03-01 06:35:42,764 : INFO : EPOCH 3 - PROGRESS: at 4.78% examples, 384974 words/s, in_qsize 15, out_qsize 0\n",
            "2019-03-01 06:35:43,794 : INFO : EPOCH 3 - PROGRESS: at 10.10% examples, 404658 words/s, in_qsize 15, out_qsize 0\n",
            "2019-03-01 06:35:44,817 : INFO : EPOCH 3 - PROGRESS: at 15.41% examples, 411903 words/s, in_qsize 15, out_qsize 0\n",
            "2019-03-01 06:35:45,852 : INFO : EPOCH 3 - PROGRESS: at 20.92% examples, 418647 words/s, in_qsize 16, out_qsize 0\n",
            "2019-03-01 06:35:46,854 : INFO : EPOCH 3 - PROGRESS: at 26.02% examples, 418619 words/s, in_qsize 15, out_qsize 0\n",
            "2019-03-01 06:35:47,868 : INFO : EPOCH 3 - PROGRESS: at 31.21% examples, 419072 words/s, in_qsize 15, out_qsize 0\n",
            "2019-03-01 06:35:48,933 : INFO : EPOCH 3 - PROGRESS: at 36.51% examples, 417710 words/s, in_qsize 15, out_qsize 0\n",
            "2019-03-01 06:35:49,981 : INFO : EPOCH 3 - PROGRESS: at 41.92% examples, 418654 words/s, in_qsize 15, out_qsize 1\n",
            "2019-03-01 06:35:51,001 : INFO : EPOCH 3 - PROGRESS: at 47.10% examples, 418731 words/s, in_qsize 15, out_qsize 0\n",
            "2019-03-01 06:35:52,041 : INFO : EPOCH 3 - PROGRESS: at 52.51% examples, 419751 words/s, in_qsize 14, out_qsize 3\n",
            "2019-03-01 06:35:53,086 : INFO : EPOCH 3 - PROGRESS: at 58.03% examples, 421157 words/s, in_qsize 15, out_qsize 0\n",
            "2019-03-01 06:35:54,107 : INFO : EPOCH 3 - PROGRESS: at 63.33% examples, 421717 words/s, in_qsize 15, out_qsize 0\n",
            "2019-03-01 06:35:55,142 : INFO : EPOCH 3 - PROGRESS: at 68.64% examples, 421708 words/s, in_qsize 15, out_qsize 3\n",
            "2019-03-01 06:35:56,150 : INFO : EPOCH 3 - PROGRESS: at 73.94% examples, 422461 words/s, in_qsize 14, out_qsize 1\n",
            "2019-03-01 06:35:57,208 : INFO : EPOCH 3 - PROGRESS: at 79.92% examples, 425237 words/s, in_qsize 15, out_qsize 0\n",
            "2019-03-01 06:35:58,211 : INFO : EPOCH 3 - PROGRESS: at 84.91% examples, 424243 words/s, in_qsize 15, out_qsize 3\n",
            "2019-03-01 06:35:59,227 : INFO : EPOCH 3 - PROGRESS: at 90.76% examples, 427063 words/s, in_qsize 16, out_qsize 0\n",
            "2019-03-01 06:36:00,228 : INFO : EPOCH 3 - PROGRESS: at 95.99% examples, 427054 words/s, in_qsize 16, out_qsize 0\n",
            "2019-03-01 06:36:00,896 : INFO : worker thread finished; awaiting finish of 7 more threads\n",
            "2019-03-01 06:36:00,911 : INFO : worker thread finished; awaiting finish of 6 more threads\n",
            "2019-03-01 06:36:00,926 : INFO : worker thread finished; awaiting finish of 5 more threads\n",
            "2019-03-01 06:36:00,943 : INFO : worker thread finished; awaiting finish of 4 more threads\n",
            "2019-03-01 06:36:00,946 : INFO : worker thread finished; awaiting finish of 3 more threads\n",
            "2019-03-01 06:36:00,949 : INFO : worker thread finished; awaiting finish of 2 more threads\n",
            "2019-03-01 06:36:00,951 : INFO : worker thread finished; awaiting finish of 1 more threads\n",
            "2019-03-01 06:36:00,960 : INFO : worker thread finished; awaiting finish of 0 more threads\n",
            "2019-03-01 06:36:00,961 : INFO : EPOCH - 3 : training on 9227204 raw words (8222888 effective words) took 19.2s, 427948 effective words/s\n",
            "2019-03-01 06:36:01,981 : INFO : EPOCH 4 - PROGRESS: at 4.67% examples, 379227 words/s, in_qsize 12, out_qsize 3\n",
            "2019-03-01 06:36:02,982 : INFO : EPOCH 4 - PROGRESS: at 9.99% examples, 407780 words/s, in_qsize 15, out_qsize 0\n",
            "2019-03-01 06:36:04,012 : INFO : EPOCH 4 - PROGRESS: at 15.62% examples, 421821 words/s, in_qsize 15, out_qsize 0\n",
            "2019-03-01 06:36:05,046 : INFO : EPOCH 4 - PROGRESS: at 21.14% examples, 426265 words/s, in_qsize 15, out_qsize 1\n",
            "2019-03-01 06:36:06,061 : INFO : EPOCH 4 - PROGRESS: at 27.20% examples, 439297 words/s, in_qsize 15, out_qsize 0\n",
            "2019-03-01 06:36:07,086 : INFO : EPOCH 4 - PROGRESS: at 32.51% examples, 437019 words/s, in_qsize 15, out_qsize 0\n",
            "2019-03-01 06:36:08,114 : INFO : EPOCH 4 - PROGRESS: at 38.03% examples, 437742 words/s, in_qsize 15, out_qsize 0\n",
            "2019-03-01 06:36:09,154 : INFO : EPOCH 4 - PROGRESS: at 43.54% examples, 437590 words/s, in_qsize 16, out_qsize 2\n",
            "2019-03-01 06:36:10,162 : INFO : EPOCH 4 - PROGRESS: at 48.94% examples, 438031 words/s, in_qsize 15, out_qsize 4\n",
            "2019-03-01 06:36:11,174 : INFO : EPOCH 4 - PROGRESS: at 53.92% examples, 434818 words/s, in_qsize 14, out_qsize 1\n",
            "2019-03-01 06:36:12,297 : INFO : EPOCH 4 - PROGRESS: at 58.79% examples, 427104 words/s, in_qsize 16, out_qsize 0\n",
            "2019-03-01 06:36:13,303 : INFO : EPOCH 4 - PROGRESS: at 63.75% examples, 425490 words/s, in_qsize 15, out_qsize 0\n",
            "2019-03-01 06:36:14,341 : INFO : EPOCH 4 - PROGRESS: at 68.32% examples, 420437 words/s, in_qsize 15, out_qsize 0\n",
            "2019-03-01 06:36:15,345 : INFO : EPOCH 4 - PROGRESS: at 72.86% examples, 417095 words/s, in_qsize 15, out_qsize 0\n",
            "2019-03-01 06:36:16,355 : INFO : EPOCH 4 - PROGRESS: at 77.85% examples, 416342 words/s, in_qsize 16, out_qsize 0\n",
            "2019-03-01 06:36:17,381 : INFO : EPOCH 4 - PROGRESS: at 83.51% examples, 418527 words/s, in_qsize 15, out_qsize 0\n",
            "2019-03-01 06:36:18,393 : INFO : EPOCH 4 - PROGRESS: at 89.13% examples, 420814 words/s, in_qsize 15, out_qsize 0\n",
            "2019-03-01 06:36:19,398 : INFO : EPOCH 4 - PROGRESS: at 94.68% examples, 422487 words/s, in_qsize 14, out_qsize 1\n",
            "2019-03-01 06:36:20,278 : INFO : worker thread finished; awaiting finish of 7 more threads\n",
            "2019-03-01 06:36:20,280 : INFO : worker thread finished; awaiting finish of 6 more threads\n",
            "2019-03-01 06:36:20,286 : INFO : worker thread finished; awaiting finish of 5 more threads\n",
            "2019-03-01 06:36:20,309 : INFO : worker thread finished; awaiting finish of 4 more threads\n",
            "2019-03-01 06:36:20,311 : INFO : worker thread finished; awaiting finish of 3 more threads\n",
            "2019-03-01 06:36:20,330 : INFO : worker thread finished; awaiting finish of 2 more threads\n",
            "2019-03-01 06:36:20,341 : INFO : worker thread finished; awaiting finish of 1 more threads\n",
            "2019-03-01 06:36:20,346 : INFO : worker thread finished; awaiting finish of 0 more threads\n",
            "2019-03-01 06:36:20,347 : INFO : EPOCH - 4 : training on 9227204 raw words (8222652 effective words) took 19.4s, 424370 effective words/s\n",
            "2019-03-01 06:36:21,394 : INFO : EPOCH 5 - PROGRESS: at 5.11% examples, 404657 words/s, in_qsize 15, out_qsize 2\n",
            "2019-03-01 06:36:22,409 : INFO : EPOCH 5 - PROGRESS: at 10.53% examples, 421770 words/s, in_qsize 15, out_qsize 0\n",
            "2019-03-01 06:36:23,478 : INFO : EPOCH 5 - PROGRESS: at 16.27% examples, 428497 words/s, in_qsize 15, out_qsize 0\n",
            "2019-03-01 06:36:24,511 : INFO : EPOCH 5 - PROGRESS: at 22.01% examples, 435608 words/s, in_qsize 15, out_qsize 0\n",
            "2019-03-01 06:36:25,533 : INFO : EPOCH 5 - PROGRESS: at 27.42% examples, 435608 words/s, in_qsize 12, out_qsize 3\n",
            "2019-03-01 06:36:26,536 : INFO : EPOCH 5 - PROGRESS: at 32.84% examples, 436967 words/s, in_qsize 14, out_qsize 1\n",
            "2019-03-01 06:36:27,581 : INFO : EPOCH 5 - PROGRESS: at 38.25% examples, 436603 words/s, in_qsize 15, out_qsize 3\n",
            "2019-03-01 06:36:28,597 : INFO : EPOCH 5 - PROGRESS: at 43.86% examples, 437925 words/s, in_qsize 16, out_qsize 0\n",
            "2019-03-01 06:36:29,632 : INFO : EPOCH 5 - PROGRESS: at 49.49% examples, 439045 words/s, in_qsize 14, out_qsize 2\n",
            "2019-03-01 06:36:30,691 : INFO : EPOCH 5 - PROGRESS: at 55.10% examples, 439354 words/s, in_qsize 15, out_qsize 1\n",
            "2019-03-01 06:36:31,716 : INFO : EPOCH 5 - PROGRESS: at 60.74% examples, 440105 words/s, in_qsize 15, out_qsize 0\n",
            "2019-03-01 06:36:32,720 : INFO : EPOCH 5 - PROGRESS: at 66.25% examples, 441096 words/s, in_qsize 16, out_qsize 1\n",
            "2019-03-01 06:36:33,832 : INFO : EPOCH 5 - PROGRESS: at 72.10% examples, 440385 words/s, in_qsize 15, out_qsize 0\n",
            "2019-03-01 06:36:34,840 : INFO : EPOCH 5 - PROGRESS: at 77.63% examples, 441071 words/s, in_qsize 15, out_qsize 0\n",
            "2019-03-01 06:36:35,905 : INFO : EPOCH 5 - PROGRESS: at 83.29% examples, 440645 words/s, in_qsize 14, out_qsize 1\n",
            "2019-03-01 06:36:36,917 : INFO : EPOCH 5 - PROGRESS: at 89.23% examples, 443279 words/s, in_qsize 16, out_qsize 0\n",
            "2019-03-01 06:36:38,007 : INFO : EPOCH 5 - PROGRESS: at 95.01% examples, 442636 words/s, in_qsize 15, out_qsize 0\n",
            "2019-03-01 06:36:38,777 : INFO : worker thread finished; awaiting finish of 7 more threads\n",
            "2019-03-01 06:36:38,784 : INFO : worker thread finished; awaiting finish of 6 more threads\n",
            "2019-03-01 06:36:38,793 : INFO : worker thread finished; awaiting finish of 5 more threads\n",
            "2019-03-01 06:36:38,816 : INFO : worker thread finished; awaiting finish of 4 more threads\n",
            "2019-03-01 06:36:38,845 : INFO : worker thread finished; awaiting finish of 3 more threads\n",
            "2019-03-01 06:36:38,847 : INFO : worker thread finished; awaiting finish of 2 more threads\n",
            "2019-03-01 06:36:38,857 : INFO : worker thread finished; awaiting finish of 1 more threads\n",
            "2019-03-01 06:36:38,865 : INFO : worker thread finished; awaiting finish of 0 more threads\n",
            "2019-03-01 06:36:38,867 : INFO : EPOCH - 5 : training on 9227204 raw words (8222277 effective words) took 18.5s, 444284 effective words/s\n",
            "2019-03-01 06:36:39,898 : INFO : EPOCH 6 - PROGRESS: at 4.78% examples, 384078 words/s, in_qsize 14, out_qsize 1\n",
            "2019-03-01 06:36:40,921 : INFO : EPOCH 6 - PROGRESS: at 10.64% examples, 427466 words/s, in_qsize 15, out_qsize 0\n",
            "2019-03-01 06:36:41,950 : INFO : EPOCH 6 - PROGRESS: at 16.27% examples, 435038 words/s, in_qsize 15, out_qsize 0\n",
            "2019-03-01 06:36:42,974 : INFO : EPOCH 6 - PROGRESS: at 21.79% examples, 437097 words/s, in_qsize 14, out_qsize 1\n",
            "2019-03-01 06:36:43,989 : INFO : EPOCH 6 - PROGRESS: at 27.86% examples, 447953 words/s, in_qsize 16, out_qsize 0\n",
            "2019-03-01 06:36:44,996 : INFO : EPOCH 6 - PROGRESS: at 33.16% examples, 445502 words/s, in_qsize 16, out_qsize 0\n",
            "2019-03-01 06:36:46,000 : INFO : EPOCH 6 - PROGRESS: at 38.57% examples, 445307 words/s, in_qsize 15, out_qsize 0\n",
            "2019-03-01 06:36:47,085 : INFO : EPOCH 6 - PROGRESS: at 44.29% examples, 443913 words/s, in_qsize 15, out_qsize 0\n",
            "2019-03-01 06:36:48,107 : INFO : EPOCH 6 - PROGRESS: at 50.24% examples, 447826 words/s, in_qsize 15, out_qsize 0\n",
            "2019-03-01 06:36:49,116 : INFO : EPOCH 6 - PROGRESS: at 55.53% examples, 446375 words/s, in_qsize 15, out_qsize 0\n",
            "2019-03-01 06:36:50,117 : INFO : EPOCH 6 - PROGRESS: at 60.85% examples, 445452 words/s, in_qsize 11, out_qsize 3\n",
            "2019-03-01 06:36:51,196 : INFO : EPOCH 6 - PROGRESS: at 66.80% examples, 446171 words/s, in_qsize 15, out_qsize 0\n",
            "2019-03-01 06:36:52,243 : INFO : EPOCH 6 - PROGRESS: at 72.43% examples, 445891 words/s, in_qsize 15, out_qsize 1\n",
            "2019-03-01 06:36:53,251 : INFO : EPOCH 6 - PROGRESS: at 77.31% examples, 442490 words/s, in_qsize 15, out_qsize 0\n",
            "2019-03-01 06:36:54,278 : INFO : EPOCH 6 - PROGRESS: at 82.21% examples, 438994 words/s, in_qsize 15, out_qsize 0\n",
            "2019-03-01 06:36:55,279 : INFO : EPOCH 6 - PROGRESS: at 86.75% examples, 435009 words/s, in_qsize 16, out_qsize 0\n",
            "2019-03-01 06:36:56,341 : INFO : EPOCH 6 - PROGRESS: at 91.31% examples, 429956 words/s, in_qsize 15, out_qsize 0\n",
            "2019-03-01 06:36:57,366 : INFO : EPOCH 6 - PROGRESS: at 96.20% examples, 427797 words/s, in_qsize 16, out_qsize 0\n",
            "2019-03-01 06:36:58,019 : INFO : worker thread finished; awaiting finish of 7 more threads\n",
            "2019-03-01 06:36:58,038 : INFO : worker thread finished; awaiting finish of 6 more threads\n",
            "2019-03-01 06:36:58,040 : INFO : worker thread finished; awaiting finish of 5 more threads\n",
            "2019-03-01 06:36:58,049 : INFO : worker thread finished; awaiting finish of 4 more threads\n",
            "2019-03-01 06:36:58,060 : INFO : worker thread finished; awaiting finish of 3 more threads\n",
            "2019-03-01 06:36:58,071 : INFO : worker thread finished; awaiting finish of 2 more threads\n",
            "2019-03-01 06:36:58,082 : INFO : worker thread finished; awaiting finish of 1 more threads\n",
            "2019-03-01 06:36:58,097 : INFO : worker thread finished; awaiting finish of 0 more threads\n",
            "2019-03-01 06:36:58,099 : INFO : EPOCH - 6 : training on 9227204 raw words (8221994 effective words) took 19.2s, 427768 effective words/s\n",
            "2019-03-01 06:36:59,179 : INFO : EPOCH 7 - PROGRESS: at 4.23% examples, 325444 words/s, in_qsize 15, out_qsize 0\n",
            "2019-03-01 06:37:00,198 : INFO : EPOCH 7 - PROGRESS: at 9.01% examples, 354380 words/s, in_qsize 15, out_qsize 1\n",
            "2019-03-01 06:37:01,204 : INFO : EPOCH 7 - PROGRESS: at 13.79% examples, 365838 words/s, in_qsize 16, out_qsize 0\n",
            "2019-03-01 06:37:02,230 : INFO : EPOCH 7 - PROGRESS: at 18.22% examples, 363368 words/s, in_qsize 15, out_qsize 0\n",
            "2019-03-01 06:37:03,237 : INFO : EPOCH 7 - PROGRESS: at 23.42% examples, 375465 words/s, in_qsize 15, out_qsize 0\n",
            "2019-03-01 06:37:04,264 : INFO : EPOCH 7 - PROGRESS: at 28.83% examples, 385173 words/s, in_qsize 15, out_qsize 0\n",
            "2019-03-01 06:37:05,276 : INFO : EPOCH 7 - PROGRESS: at 34.57% examples, 396661 words/s, in_qsize 15, out_qsize 0\n",
            "2019-03-01 06:37:06,280 : INFO : EPOCH 7 - PROGRESS: at 40.08% examples, 403552 words/s, in_qsize 15, out_qsize 0\n",
            "2019-03-01 06:37:07,309 : INFO : EPOCH 7 - PROGRESS: at 45.59% examples, 407766 words/s, in_qsize 15, out_qsize 0\n",
            "2019-03-01 06:37:08,317 : INFO : EPOCH 7 - PROGRESS: at 50.99% examples, 411135 words/s, in_qsize 15, out_qsize 0\n",
            "2019-03-01 06:37:09,326 : INFO : EPOCH 7 - PROGRESS: at 56.29% examples, 413100 words/s, in_qsize 15, out_qsize 4\n",
            "2019-03-01 06:37:10,360 : INFO : EPOCH 7 - PROGRESS: at 62.25% examples, 418225 words/s, in_qsize 16, out_qsize 0\n",
            "2019-03-01 06:37:11,365 : INFO : EPOCH 7 - PROGRESS: at 67.77% examples, 420775 words/s, in_qsize 15, out_qsize 0\n",
            "2019-03-01 06:37:12,376 : INFO : EPOCH 7 - PROGRESS: at 73.19% examples, 422149 words/s, in_qsize 15, out_qsize 0\n",
            "2019-03-01 06:37:13,382 : INFO : EPOCH 7 - PROGRESS: at 78.95% examples, 425273 words/s, in_qsize 15, out_qsize 0\n",
            "2019-03-01 06:37:14,404 : INFO : EPOCH 7 - PROGRESS: at 84.47% examples, 426476 words/s, in_qsize 15, out_qsize 0\n",
            "2019-03-01 06:37:15,452 : INFO : EPOCH 7 - PROGRESS: at 90.11% examples, 427411 words/s, in_qsize 16, out_qsize 0\n",
            "2019-03-01 06:37:16,455 : INFO : EPOCH 7 - PROGRESS: at 95.88% examples, 429760 words/s, in_qsize 15, out_qsize 0\n",
            "2019-03-01 06:37:17,039 : INFO : worker thread finished; awaiting finish of 7 more threads\n",
            "2019-03-01 06:37:17,072 : INFO : worker thread finished; awaiting finish of 6 more threads\n",
            "2019-03-01 06:37:17,074 : INFO : worker thread finished; awaiting finish of 5 more threads\n",
            "2019-03-01 06:37:17,090 : INFO : worker thread finished; awaiting finish of 4 more threads\n",
            "2019-03-01 06:37:17,098 : INFO : worker thread finished; awaiting finish of 3 more threads\n",
            "2019-03-01 06:37:17,118 : INFO : worker thread finished; awaiting finish of 2 more threads\n",
            "2019-03-01 06:37:17,131 : INFO : worker thread finished; awaiting finish of 1 more threads\n",
            "2019-03-01 06:37:17,132 : INFO : worker thread finished; awaiting finish of 0 more threads\n",
            "2019-03-01 06:37:17,134 : INFO : EPOCH - 7 : training on 9227204 raw words (8222594 effective words) took 19.0s, 432270 effective words/s\n",
            "2019-03-01 06:37:18,180 : INFO : EPOCH 8 - PROGRESS: at 5.32% examples, 422492 words/s, in_qsize 14, out_qsize 1\n",
            "2019-03-01 06:37:19,235 : INFO : EPOCH 8 - PROGRESS: at 11.08% examples, 435128 words/s, in_qsize 15, out_qsize 0\n",
            "2019-03-01 06:37:20,256 : INFO : EPOCH 8 - PROGRESS: at 16.59% examples, 439783 words/s, in_qsize 15, out_qsize 2\n",
            "2019-03-01 06:37:21,251 : INFO : EPOCH 8 - PROGRESS: at 22.22% examples, 444838 words/s, in_qsize 16, out_qsize 0\n",
            "2019-03-01 06:37:22,307 : INFO : EPOCH 8 - PROGRESS: at 27.75% examples, 441963 words/s, in_qsize 16, out_qsize 0\n",
            "2019-03-01 06:37:23,419 : INFO : EPOCH 8 - PROGRESS: at 33.81% examples, 443101 words/s, in_qsize 15, out_qsize 2\n",
            "2019-03-01 06:37:24,441 : INFO : EPOCH 8 - PROGRESS: at 39.76% examples, 448228 words/s, in_qsize 15, out_qsize 1\n",
            "2019-03-01 06:37:25,463 : INFO : EPOCH 8 - PROGRESS: at 45.48% examples, 449904 words/s, in_qsize 15, out_qsize 0\n",
            "2019-03-01 06:37:26,501 : INFO : EPOCH 8 - PROGRESS: at 50.99% examples, 448564 words/s, in_qsize 15, out_qsize 1\n",
            "2019-03-01 06:37:27,505 : INFO : EPOCH 8 - PROGRESS: at 56.51% examples, 448957 words/s, in_qsize 15, out_qsize 0\n",
            "2019-03-01 06:37:28,513 : INFO : EPOCH 8 - PROGRESS: at 62.14% examples, 449891 words/s, in_qsize 16, out_qsize 0\n",
            "2019-03-01 06:37:29,521 : INFO : EPOCH 8 - PROGRESS: at 67.77% examples, 450664 words/s, in_qsize 14, out_qsize 1\n",
            "2019-03-01 06:37:30,549 : INFO : EPOCH 8 - PROGRESS: at 73.19% examples, 450034 words/s, in_qsize 14, out_qsize 3\n",
            "2019-03-01 06:37:31,529 : INFO : EPOCH 8 - PROGRESS: at 79.16% examples, 452764 words/s, in_qsize 15, out_qsize 0\n",
            "2019-03-01 06:37:32,556 : INFO : EPOCH 8 - PROGRESS: at 84.59% examples, 451518 words/s, in_qsize 15, out_qsize 0\n",
            "2019-03-01 06:37:33,564 : INFO : EPOCH 8 - PROGRESS: at 90.11% examples, 451428 words/s, in_qsize 15, out_qsize 0\n",
            "2019-03-01 06:37:34,619 : INFO : EPOCH 8 - PROGRESS: at 95.99% examples, 451694 words/s, in_qsize 16, out_qsize 0\n",
            "2019-03-01 06:37:35,229 : INFO : worker thread finished; awaiting finish of 7 more threads\n",
            "2019-03-01 06:37:35,234 : INFO : worker thread finished; awaiting finish of 6 more threads\n",
            "2019-03-01 06:37:35,249 : INFO : worker thread finished; awaiting finish of 5 more threads\n",
            "2019-03-01 06:37:35,261 : INFO : worker thread finished; awaiting finish of 4 more threads\n",
            "2019-03-01 06:37:35,263 : INFO : worker thread finished; awaiting finish of 3 more threads\n",
            "2019-03-01 06:37:35,279 : INFO : worker thread finished; awaiting finish of 2 more threads\n",
            "2019-03-01 06:37:35,290 : INFO : worker thread finished; awaiting finish of 1 more threads\n",
            "2019-03-01 06:37:35,295 : INFO : worker thread finished; awaiting finish of 0 more threads\n",
            "2019-03-01 06:37:35,296 : INFO : EPOCH - 8 : training on 9227204 raw words (8222547 effective words) took 18.1s, 453067 effective words/s\n",
            "2019-03-01 06:37:36,321 : INFO : EPOCH 9 - PROGRESS: at 5.11% examples, 412853 words/s, in_qsize 14, out_qsize 3\n",
            "2019-03-01 06:37:37,335 : INFO : EPOCH 9 - PROGRESS: at 10.86% examples, 439378 words/s, in_qsize 16, out_qsize 0\n",
            "2019-03-01 06:37:38,342 : INFO : EPOCH 9 - PROGRESS: at 16.38% examples, 443089 words/s, in_qsize 13, out_qsize 2\n",
            "2019-03-01 06:37:39,403 : INFO : EPOCH 9 - PROGRESS: at 22.33% examples, 447960 words/s, in_qsize 15, out_qsize 0\n",
            "2019-03-01 06:37:40,406 : INFO : EPOCH 9 - PROGRESS: at 28.07% examples, 452465 words/s, in_qsize 15, out_qsize 0\n",
            "2019-03-01 06:37:41,528 : INFO : EPOCH 9 - PROGRESS: at 33.70% examples, 445339 words/s, in_qsize 14, out_qsize 1\n",
            "2019-03-01 06:37:42,543 : INFO : EPOCH 9 - PROGRESS: at 39.22% examples, 445840 words/s, in_qsize 16, out_qsize 2\n",
            "2019-03-01 06:37:43,544 : INFO : EPOCH 9 - PROGRESS: at 44.62% examples, 445561 words/s, in_qsize 15, out_qsize 0\n",
            "2019-03-01 06:37:44,551 : INFO : EPOCH 9 - PROGRESS: at 50.13% examples, 446212 words/s, in_qsize 15, out_qsize 0\n",
            "2019-03-01 06:37:45,647 : INFO : EPOCH 9 - PROGRESS: at 55.75% examples, 443779 words/s, in_qsize 15, out_qsize 0\n",
            "2019-03-01 06:37:46,666 : INFO : EPOCH 9 - PROGRESS: at 61.71% examples, 447091 words/s, in_qsize 16, out_qsize 0\n",
            "2019-03-01 06:37:47,670 : INFO : EPOCH 9 - PROGRESS: at 66.91% examples, 445345 words/s, in_qsize 15, out_qsize 0\n",
            "2019-03-01 06:37:48,686 : INFO : EPOCH 9 - PROGRESS: at 72.64% examples, 446812 words/s, in_qsize 15, out_qsize 0\n",
            "2019-03-01 06:37:49,743 : INFO : EPOCH 9 - PROGRESS: at 78.18% examples, 445565 words/s, in_qsize 15, out_qsize 0\n",
            "2019-03-01 06:37:50,751 : INFO : EPOCH 9 - PROGRESS: at 84.04% examples, 447651 words/s, in_qsize 15, out_qsize 0\n",
            "2019-03-01 06:37:51,753 : INFO : EPOCH 9 - PROGRESS: at 89.02% examples, 445272 words/s, in_qsize 15, out_qsize 0\n",
            "2019-03-01 06:37:52,793 : INFO : EPOCH 9 - PROGRESS: at 95.12% examples, 447297 words/s, in_qsize 16, out_qsize 0\n",
            "2019-03-01 06:37:53,554 : INFO : worker thread finished; awaiting finish of 7 more threads\n",
            "2019-03-01 06:37:53,572 : INFO : worker thread finished; awaiting finish of 6 more threads\n",
            "2019-03-01 06:37:53,586 : INFO : worker thread finished; awaiting finish of 5 more threads\n",
            "2019-03-01 06:37:53,593 : INFO : worker thread finished; awaiting finish of 4 more threads\n",
            "2019-03-01 06:37:53,597 : INFO : worker thread finished; awaiting finish of 3 more threads\n",
            "2019-03-01 06:37:53,598 : INFO : worker thread finished; awaiting finish of 2 more threads\n",
            "2019-03-01 06:37:53,606 : INFO : worker thread finished; awaiting finish of 1 more threads\n",
            "2019-03-01 06:37:53,607 : INFO : worker thread finished; awaiting finish of 0 more threads\n",
            "2019-03-01 06:37:53,608 : INFO : EPOCH - 9 : training on 9227204 raw words (8222739 effective words) took 18.3s, 449332 effective words/s\n",
            "2019-03-01 06:37:54,639 : INFO : EPOCH 10 - PROGRESS: at 5.11% examples, 411432 words/s, in_qsize 14, out_qsize 0\n",
            "2019-03-01 06:37:55,653 : INFO : EPOCH 10 - PROGRESS: at 11.08% examples, 447406 words/s, in_qsize 15, out_qsize 0\n",
            "2019-03-01 06:37:56,712 : INFO : EPOCH 10 - PROGRESS: at 16.59% examples, 440905 words/s, in_qsize 15, out_qsize 0\n",
            "2019-03-01 06:37:57,719 : INFO : EPOCH 10 - PROGRESS: at 22.33% examples, 447727 words/s, in_qsize 16, out_qsize 0\n",
            "2019-03-01 06:37:58,733 : INFO : EPOCH 10 - PROGRESS: at 27.64% examples, 444339 words/s, in_qsize 16, out_qsize 0\n",
            "2019-03-01 06:37:59,762 : INFO : EPOCH 10 - PROGRESS: at 33.27% examples, 445342 words/s, in_qsize 15, out_qsize 0\n",
            "2019-03-01 06:38:00,786 : INFO : EPOCH 10 - PROGRESS: at 38.89% examples, 446369 words/s, in_qsize 15, out_qsize 0\n",
            "2019-03-01 06:38:01,790 : INFO : EPOCH 10 - PROGRESS: at 44.73% examples, 450362 words/s, in_qsize 14, out_qsize 0\n",
            "2019-03-01 06:38:02,800 : INFO : EPOCH 10 - PROGRESS: at 50.35% examples, 451288 words/s, in_qsize 15, out_qsize 0\n",
            "2019-03-01 06:38:03,945 : INFO : EPOCH 10 - PROGRESS: at 56.08% examples, 448035 words/s, in_qsize 15, out_qsize 6\n",
            "2019-03-01 06:38:04,982 : INFO : EPOCH 10 - PROGRESS: at 62.25% examples, 450941 words/s, in_qsize 15, out_qsize 0\n",
            "2019-03-01 06:38:05,995 : INFO : EPOCH 10 - PROGRESS: at 67.88% examples, 451456 words/s, in_qsize 15, out_qsize 0\n",
            "2019-03-01 06:38:07,061 : INFO : EPOCH 10 - PROGRESS: at 73.62% examples, 450754 words/s, in_qsize 15, out_qsize 0\n",
            "2019-03-01 06:38:08,126 : INFO : EPOCH 10 - PROGRESS: at 79.60% examples, 451430 words/s, in_qsize 13, out_qsize 2\n",
            "2019-03-01 06:38:09,159 : INFO : EPOCH 10 - PROGRESS: at 85.23% examples, 451202 words/s, in_qsize 16, out_qsize 1\n",
            "2019-03-01 06:38:10,171 : INFO : EPOCH 10 - PROGRESS: at 90.87% examples, 451579 words/s, in_qsize 15, out_qsize 0\n",
            "2019-03-01 06:38:11,198 : INFO : EPOCH 10 - PROGRESS: at 96.64% examples, 452039 words/s, in_qsize 15, out_qsize 0\n",
            "2019-03-01 06:38:11,673 : INFO : worker thread finished; awaiting finish of 7 more threads\n",
            "2019-03-01 06:38:11,686 : INFO : worker thread finished; awaiting finish of 6 more threads\n",
            "2019-03-01 06:38:11,692 : INFO : worker thread finished; awaiting finish of 5 more threads\n",
            "2019-03-01 06:38:11,695 : INFO : worker thread finished; awaiting finish of 4 more threads\n",
            "2019-03-01 06:38:11,712 : INFO : worker thread finished; awaiting finish of 3 more threads\n",
            "2019-03-01 06:38:11,731 : INFO : worker thread finished; awaiting finish of 2 more threads\n",
            "2019-03-01 06:38:11,733 : INFO : worker thread finished; awaiting finish of 1 more threads\n",
            "2019-03-01 06:38:11,745 : INFO : worker thread finished; awaiting finish of 0 more threads\n",
            "2019-03-01 06:38:11,746 : INFO : EPOCH - 10 : training on 9227204 raw words (8222549 effective words) took 18.1s, 453669 effective words/s\n",
            "2019-03-01 06:38:12,779 : INFO : EPOCH 11 - PROGRESS: at 4.78% examples, 384050 words/s, in_qsize 15, out_qsize 0\n",
            "2019-03-01 06:38:13,828 : INFO : EPOCH 11 - PROGRESS: at 10.86% examples, 430661 words/s, in_qsize 15, out_qsize 0\n",
            "2019-03-01 06:38:14,887 : INFO : EPOCH 11 - PROGRESS: at 16.05% examples, 421492 words/s, in_qsize 15, out_qsize 0\n",
            "2019-03-01 06:38:15,906 : INFO : EPOCH 11 - PROGRESS: at 21.79% examples, 431809 words/s, in_qsize 14, out_qsize 1\n",
            "2019-03-01 06:38:16,911 : INFO : EPOCH 11 - PROGRESS: at 26.99% examples, 430565 words/s, in_qsize 15, out_qsize 0\n",
            "2019-03-01 06:38:17,974 : INFO : EPOCH 11 - PROGRESS: at 32.84% examples, 435082 words/s, in_qsize 15, out_qsize 2\n",
            "2019-03-01 06:38:18,991 : INFO : EPOCH 11 - PROGRESS: at 38.57% examples, 438514 words/s, in_qsize 15, out_qsize 0\n",
            "2019-03-01 06:38:20,068 : INFO : EPOCH 11 - PROGRESS: at 44.51% examples, 440642 words/s, in_qsize 16, out_qsize 0\n",
            "2019-03-01 06:38:21,084 : INFO : EPOCH 11 - PROGRESS: at 50.13% examples, 442315 words/s, in_qsize 15, out_qsize 0\n",
            "2019-03-01 06:38:22,105 : INFO : EPOCH 11 - PROGRESS: at 55.75% examples, 443481 words/s, in_qsize 15, out_qsize 0\n",
            "2019-03-01 06:38:23,116 : INFO : EPOCH 11 - PROGRESS: at 61.28% examples, 444033 words/s, in_qsize 16, out_qsize 2\n",
            "2019-03-01 06:38:24,124 : INFO : EPOCH 11 - PROGRESS: at 66.58% examples, 443060 words/s, in_qsize 15, out_qsize 0\n",
            "2019-03-01 06:38:25,139 : INFO : EPOCH 11 - PROGRESS: at 72.42% examples, 445384 words/s, in_qsize 15, out_qsize 0\n",
            "2019-03-01 06:38:26,169 : INFO : EPOCH 11 - PROGRESS: at 78.07% examples, 445695 words/s, in_qsize 15, out_qsize 0\n",
            "2019-03-01 06:38:27,178 : INFO : EPOCH 11 - PROGRESS: at 83.72% examples, 446560 words/s, in_qsize 14, out_qsize 1\n",
            "2019-03-01 06:38:28,239 : INFO : EPOCH 11 - PROGRESS: at 89.34% examples, 445916 words/s, in_qsize 14, out_qsize 1\n",
            "2019-03-01 06:38:29,240 : INFO : EPOCH 11 - PROGRESS: at 94.91% examples, 446333 words/s, in_qsize 14, out_qsize 1\n",
            "2019-03-01 06:38:30,021 : INFO : worker thread finished; awaiting finish of 7 more threads\n",
            "2019-03-01 06:38:30,027 : INFO : worker thread finished; awaiting finish of 6 more threads\n",
            "2019-03-01 06:38:30,032 : INFO : worker thread finished; awaiting finish of 5 more threads\n",
            "2019-03-01 06:38:30,033 : INFO : worker thread finished; awaiting finish of 4 more threads\n",
            "2019-03-01 06:38:30,039 : INFO : worker thread finished; awaiting finish of 3 more threads\n",
            "2019-03-01 06:38:30,055 : INFO : worker thread finished; awaiting finish of 2 more threads\n",
            "2019-03-01 06:38:30,073 : INFO : worker thread finished; awaiting finish of 1 more threads\n",
            "2019-03-01 06:38:30,081 : INFO : worker thread finished; awaiting finish of 0 more threads\n",
            "2019-03-01 06:38:30,081 : INFO : EPOCH - 11 : training on 9227204 raw words (8222547 effective words) took 18.3s, 448754 effective words/s\n",
            "2019-03-01 06:38:31,115 : INFO : EPOCH 12 - PROGRESS: at 5.43% examples, 435566 words/s, in_qsize 15, out_qsize 0\n",
            "2019-03-01 06:38:32,124 : INFO : EPOCH 12 - PROGRESS: at 10.97% examples, 443101 words/s, in_qsize 15, out_qsize 0\n",
            "2019-03-01 06:38:33,163 : INFO : EPOCH 12 - PROGRESS: at 16.70% examples, 446777 words/s, in_qsize 15, out_qsize 0\n",
            "2019-03-01 06:38:34,174 : INFO : EPOCH 12 - PROGRESS: at 22.01% examples, 443159 words/s, in_qsize 15, out_qsize 0\n",
            "2019-03-01 06:38:35,175 : INFO : EPOCH 12 - PROGRESS: at 27.53% examples, 445280 words/s, in_qsize 15, out_qsize 0\n",
            "2019-03-01 06:38:36,223 : INFO : EPOCH 12 - PROGRESS: at 33.27% examples, 446170 words/s, in_qsize 15, out_qsize 0\n",
            "2019-03-01 06:38:37,233 : INFO : EPOCH 12 - PROGRESS: at 39.11% examples, 450434 words/s, in_qsize 15, out_qsize 0\n",
            "2019-03-01 06:38:38,310 : INFO : EPOCH 12 - PROGRESS: at 44.72% examples, 447791 words/s, in_qsize 16, out_qsize 1\n",
            "2019-03-01 06:38:39,321 : INFO : EPOCH 12 - PROGRESS: at 50.67% examples, 451878 words/s, in_qsize 15, out_qsize 0\n",
            "2019-03-01 06:38:40,373 : INFO : EPOCH 12 - PROGRESS: at 56.08% examples, 448993 words/s, in_qsize 14, out_qsize 1\n",
            "2019-03-01 06:38:41,431 : INFO : EPOCH 12 - PROGRESS: at 61.93% examples, 449475 words/s, in_qsize 15, out_qsize 0\n",
            "2019-03-01 06:38:42,440 : INFO : EPOCH 12 - PROGRESS: at 67.13% examples, 447389 words/s, in_qsize 13, out_qsize 1\n",
            "2019-03-01 06:38:43,454 : INFO : EPOCH 12 - PROGRESS: at 73.19% examples, 450762 words/s, in_qsize 15, out_qsize 0\n",
            "2019-03-01 06:38:44,473 : INFO : EPOCH 12 - PROGRESS: at 77.53% examples, 443970 words/s, in_qsize 15, out_qsize 1\n",
            "2019-03-01 06:38:45,524 : INFO : EPOCH 12 - PROGRESS: at 83.29% examples, 443984 words/s, in_qsize 15, out_qsize 0\n",
            "2019-03-01 06:38:46,541 : INFO : EPOCH 12 - PROGRESS: at 89.23% examples, 446295 words/s, in_qsize 16, out_qsize 1\n",
            "2019-03-01 06:38:47,543 : INFO : EPOCH 12 - PROGRESS: at 94.14% examples, 443585 words/s, in_qsize 15, out_qsize 4\n",
            "2019-03-01 06:38:48,404 : INFO : worker thread finished; awaiting finish of 7 more threads\n",
            "2019-03-01 06:38:48,414 : INFO : worker thread finished; awaiting finish of 6 more threads\n",
            "2019-03-01 06:38:48,452 : INFO : worker thread finished; awaiting finish of 5 more threads\n",
            "2019-03-01 06:38:48,457 : INFO : worker thread finished; awaiting finish of 4 more threads\n",
            "2019-03-01 06:38:48,463 : INFO : worker thread finished; awaiting finish of 3 more threads\n",
            "2019-03-01 06:38:48,475 : INFO : worker thread finished; awaiting finish of 2 more threads\n",
            "2019-03-01 06:38:48,488 : INFO : worker thread finished; awaiting finish of 1 more threads\n",
            "2019-03-01 06:38:48,491 : INFO : worker thread finished; awaiting finish of 0 more threads\n",
            "2019-03-01 06:38:48,493 : INFO : EPOCH - 12 : training on 9227204 raw words (8222822 effective words) took 18.4s, 446891 effective words/s\n",
            "2019-03-01 06:38:49,542 : INFO : EPOCH 13 - PROGRESS: at 5.00% examples, 395510 words/s, in_qsize 15, out_qsize 0\n",
            "2019-03-01 06:38:50,572 : INFO : EPOCH 13 - PROGRESS: at 10.53% examples, 418473 words/s, in_qsize 15, out_qsize 1\n",
            "2019-03-01 06:38:51,575 : INFO : EPOCH 13 - PROGRESS: at 16.05% examples, 429635 words/s, in_qsize 15, out_qsize 0\n",
            "2019-03-01 06:38:52,614 : INFO : EPOCH 13 - PROGRESS: at 21.35% examples, 427253 words/s, in_qsize 13, out_qsize 2\n",
            "2019-03-01 06:38:53,623 : INFO : EPOCH 13 - PROGRESS: at 26.88% examples, 431836 words/s, in_qsize 14, out_qsize 1\n",
            "2019-03-01 06:38:54,682 : INFO : EPOCH 13 - PROGRESS: at 32.52% examples, 432757 words/s, in_qsize 14, out_qsize 4\n",
            "2019-03-01 06:38:55,687 : INFO : EPOCH 13 - PROGRESS: at 38.14% examples, 436740 words/s, in_qsize 14, out_qsize 1\n",
            "2019-03-01 06:38:56,784 : INFO : EPOCH 13 - PROGRESS: at 43.97% examples, 436965 words/s, in_qsize 15, out_qsize 2\n",
            "2019-03-01 06:38:57,835 : INFO : EPOCH 13 - PROGRESS: at 49.81% examples, 439301 words/s, in_qsize 15, out_qsize 0\n",
            "2019-03-01 06:38:58,846 : INFO : EPOCH 13 - PROGRESS: at 55.53% examples, 442033 words/s, in_qsize 14, out_qsize 0\n",
            "2019-03-01 06:38:59,898 : INFO : EPOCH 13 - PROGRESS: at 60.96% examples, 440335 words/s, in_qsize 16, out_qsize 0\n",
            "2019-03-01 06:39:00,913 : INFO : EPOCH 13 - PROGRESS: at 66.58% examples, 441648 words/s, in_qsize 15, out_qsize 0\n",
            "2019-03-01 06:39:02,005 : INFO : EPOCH 13 - PROGRESS: at 72.21% examples, 440228 words/s, in_qsize 15, out_qsize 0\n",
            "2019-03-01 06:39:03,009 : INFO : EPOCH 13 - PROGRESS: at 78.18% examples, 443504 words/s, in_qsize 15, out_qsize 0\n",
            "2019-03-01 06:39:04,024 : INFO : EPOCH 13 - PROGRESS: at 83.51% examples, 442642 words/s, in_qsize 15, out_qsize 0\n",
            "2019-03-01 06:39:05,060 : INFO : EPOCH 13 - PROGRESS: at 89.02% examples, 442368 words/s, in_qsize 15, out_qsize 0\n",
            "2019-03-01 06:39:06,067 : INFO : EPOCH 13 - PROGRESS: at 94.47% examples, 442336 words/s, in_qsize 15, out_qsize 0\n",
            "2019-03-01 06:39:06,900 : INFO : worker thread finished; awaiting finish of 7 more threads\n",
            "2019-03-01 06:39:06,920 : INFO : worker thread finished; awaiting finish of 6 more threads\n",
            "2019-03-01 06:39:06,936 : INFO : worker thread finished; awaiting finish of 5 more threads\n",
            "2019-03-01 06:39:06,941 : INFO : worker thread finished; awaiting finish of 4 more threads\n",
            "2019-03-01 06:39:06,959 : INFO : worker thread finished; awaiting finish of 3 more threads\n",
            "2019-03-01 06:39:06,973 : INFO : worker thread finished; awaiting finish of 2 more threads\n",
            "2019-03-01 06:39:06,981 : INFO : worker thread finished; awaiting finish of 1 more threads\n",
            "2019-03-01 06:39:06,984 : INFO : worker thread finished; awaiting finish of 0 more threads\n",
            "2019-03-01 06:39:06,985 : INFO : EPOCH - 13 : training on 9227204 raw words (8223148 effective words) took 18.5s, 445002 effective words/s\n",
            "2019-03-01 06:39:08,000 : INFO : EPOCH 14 - PROGRESS: at 5.00% examples, 408325 words/s, in_qsize 15, out_qsize 0\n",
            "2019-03-01 06:39:09,015 : INFO : EPOCH 14 - PROGRESS: at 10.53% examples, 428196 words/s, in_qsize 16, out_qsize 0\n",
            "2019-03-01 06:39:10,018 : INFO : EPOCH 14 - PROGRESS: at 15.62% examples, 424464 words/s, in_qsize 14, out_qsize 2\n",
            "2019-03-01 06:39:11,019 : INFO : EPOCH 14 - PROGRESS: at 21.35% examples, 436235 words/s, in_qsize 12, out_qsize 3\n",
            "2019-03-01 06:39:12,054 : INFO : EPOCH 14 - PROGRESS: at 26.78% examples, 435033 words/s, in_qsize 15, out_qsize 0\n",
            "2019-03-01 06:39:13,079 : INFO : EPOCH 14 - PROGRESS: at 32.19% examples, 434950 words/s, in_qsize 15, out_qsize 0\n",
            "2019-03-01 06:39:14,102 : INFO : EPOCH 14 - PROGRESS: at 38.02% examples, 440006 words/s, in_qsize 13, out_qsize 2\n",
            "2019-03-01 06:39:15,103 : INFO : EPOCH 14 - PROGRESS: at 43.43% examples, 440581 words/s, in_qsize 15, out_qsize 0\n",
            "2019-03-01 06:39:16,121 : INFO : EPOCH 14 - PROGRESS: at 48.84% examples, 440265 words/s, in_qsize 15, out_qsize 0\n",
            "2019-03-01 06:39:17,166 : INFO : EPOCH 14 - PROGRESS: at 54.24% examples, 438840 words/s, in_qsize 15, out_qsize 0\n",
            "2019-03-01 06:39:18,265 : INFO : EPOCH 14 - PROGRESS: at 60.09% examples, 438745 words/s, in_qsize 13, out_qsize 2\n",
            "2019-03-01 06:39:19,289 : INFO : EPOCH 14 - PROGRESS: at 65.72% examples, 439873 words/s, in_qsize 15, out_qsize 0\n",
            "2019-03-01 06:39:20,335 : INFO : EPOCH 14 - PROGRESS: at 71.24% examples, 439419 words/s, in_qsize 15, out_qsize 0\n",
            "2019-03-01 06:39:21,400 : INFO : EPOCH 14 - PROGRESS: at 76.98% examples, 439711 words/s, in_qsize 16, out_qsize 0\n",
            "2019-03-01 06:39:22,427 : INFO : EPOCH 14 - PROGRESS: at 82.42% examples, 439295 words/s, in_qsize 15, out_qsize 0\n",
            "2019-03-01 06:39:23,501 : INFO : EPOCH 14 - PROGRESS: at 88.59% examples, 441454 words/s, in_qsize 15, out_qsize 0\n",
            "2019-03-01 06:39:24,501 : INFO : EPOCH 14 - PROGRESS: at 94.14% examples, 442158 words/s, in_qsize 16, out_qsize 0\n",
            "2019-03-01 06:39:25,375 : INFO : worker thread finished; awaiting finish of 7 more threads\n",
            "2019-03-01 06:39:25,381 : INFO : worker thread finished; awaiting finish of 6 more threads\n",
            "2019-03-01 06:39:25,398 : INFO : worker thread finished; awaiting finish of 5 more threads\n",
            "2019-03-01 06:39:25,403 : INFO : worker thread finished; awaiting finish of 4 more threads\n",
            "2019-03-01 06:39:25,421 : INFO : worker thread finished; awaiting finish of 3 more threads\n",
            "2019-03-01 06:39:25,440 : INFO : worker thread finished; awaiting finish of 2 more threads\n",
            "2019-03-01 06:39:25,443 : INFO : worker thread finished; awaiting finish of 1 more threads\n",
            "2019-03-01 06:39:25,447 : INFO : worker thread finished; awaiting finish of 0 more threads\n",
            "2019-03-01 06:39:25,448 : INFO : EPOCH - 14 : training on 9227204 raw words (8221594 effective words) took 18.5s, 445585 effective words/s\n",
            "2019-03-01 06:39:26,488 : INFO : EPOCH 15 - PROGRESS: at 5.22% examples, 416064 words/s, in_qsize 15, out_qsize 0\n",
            "2019-03-01 06:39:27,493 : INFO : EPOCH 15 - PROGRESS: at 10.42% examples, 421888 words/s, in_qsize 16, out_qsize 7\n",
            "2019-03-01 06:39:28,540 : INFO : EPOCH 15 - PROGRESS: at 16.70% examples, 445542 words/s, in_qsize 15, out_qsize 0\n",
            "2019-03-01 06:39:29,556 : INFO : EPOCH 15 - PROGRESS: at 22.43% examples, 450288 words/s, in_qsize 14, out_qsize 1\n",
            "2019-03-01 06:39:30,615 : INFO : EPOCH 15 - PROGRESS: at 28.40% examples, 452886 words/s, in_qsize 15, out_qsize 0\n",
            "2019-03-01 06:39:31,618 : INFO : EPOCH 15 - PROGRESS: at 34.02% examples, 454364 words/s, in_qsize 16, out_qsize 0\n",
            "2019-03-01 06:39:32,620 : INFO : EPOCH 15 - PROGRESS: at 39.65% examples, 455441 words/s, in_qsize 15, out_qsize 0\n",
            "2019-03-01 06:39:33,628 : INFO : EPOCH 15 - PROGRESS: at 45.37% examples, 456995 words/s, in_qsize 16, out_qsize 0\n",
            "2019-03-01 06:39:34,645 : INFO : EPOCH 15 - PROGRESS: at 50.78% examples, 454926 words/s, in_qsize 15, out_qsize 0\n",
            "2019-03-01 06:39:35,705 : INFO : EPOCH 15 - PROGRESS: at 56.40% examples, 453143 words/s, in_qsize 15, out_qsize 2\n",
            "2019-03-01 06:39:36,722 : INFO : EPOCH 15 - PROGRESS: at 61.93% examples, 452563 words/s, in_qsize 15, out_qsize 4\n",
            "2019-03-01 06:39:37,758 : INFO : EPOCH 15 - PROGRESS: at 67.66% examples, 452797 words/s, in_qsize 15, out_qsize 0\n",
            "2019-03-01 06:39:38,764 : INFO : EPOCH 15 - PROGRESS: at 73.52% examples, 454718 words/s, in_qsize 16, out_qsize 1\n",
            "2019-03-01 06:39:39,812 : INFO : EPOCH 15 - PROGRESS: at 79.38% examples, 455035 words/s, in_qsize 14, out_qsize 3\n",
            "2019-03-01 06:39:40,826 : INFO : EPOCH 15 - PROGRESS: at 85.34% examples, 456892 words/s, in_qsize 15, out_qsize 0\n",
            "2019-03-01 06:39:41,890 : INFO : EPOCH 15 - PROGRESS: at 90.87% examples, 455529 words/s, in_qsize 15, out_qsize 3\n",
            "2019-03-01 06:39:42,894 : INFO : EPOCH 15 - PROGRESS: at 96.85% examples, 456839 words/s, in_qsize 15, out_qsize 0\n",
            "2019-03-01 06:39:43,259 : INFO : worker thread finished; awaiting finish of 7 more threads\n",
            "2019-03-01 06:39:43,264 : INFO : worker thread finished; awaiting finish of 6 more threads\n",
            "2019-03-01 06:39:43,290 : INFO : worker thread finished; awaiting finish of 5 more threads\n",
            "2019-03-01 06:39:43,292 : INFO : worker thread finished; awaiting finish of 4 more threads\n",
            "2019-03-01 06:39:43,298 : INFO : worker thread finished; awaiting finish of 3 more threads\n",
            "2019-03-01 06:39:43,320 : INFO : worker thread finished; awaiting finish of 2 more threads\n",
            "2019-03-01 06:39:43,321 : INFO : worker thread finished; awaiting finish of 1 more threads\n",
            "2019-03-01 06:39:43,323 : INFO : worker thread finished; awaiting finish of 0 more threads\n",
            "2019-03-01 06:39:43,325 : INFO : EPOCH - 15 : training on 9227204 raw words (8222842 effective words) took 17.9s, 460305 effective words/s\n",
            "2019-03-01 06:39:44,344 : INFO : EPOCH 16 - PROGRESS: at 5.32% examples, 434658 words/s, in_qsize 16, out_qsize 0\n",
            "2019-03-01 06:39:45,345 : INFO : EPOCH 16 - PROGRESS: at 11.18% examples, 457595 words/s, in_qsize 16, out_qsize 0\n",
            "2019-03-01 06:39:46,365 : INFO : EPOCH 16 - PROGRESS: at 16.81% examples, 456309 words/s, in_qsize 14, out_qsize 1\n",
            "2019-03-01 06:39:47,458 : INFO : EPOCH 16 - PROGRESS: at 22.87% examples, 456421 words/s, in_qsize 15, out_qsize 0\n",
            "2019-03-01 06:39:48,461 : INFO : EPOCH 16 - PROGRESS: at 28.94% examples, 464441 words/s, in_qsize 15, out_qsize 1\n",
            "2019-03-01 06:39:49,505 : INFO : EPOCH 16 - PROGRESS: at 34.35% examples, 459135 words/s, in_qsize 15, out_qsize 0\n",
            "2019-03-01 06:39:50,493 : INFO : EPOCH 16 - PROGRESS: at 40.19% examples, 462032 words/s, in_qsize 14, out_qsize 1\n",
            "2019-03-01 06:39:51,507 : INFO : EPOCH 16 - PROGRESS: at 45.70% examples, 460271 words/s, in_qsize 16, out_qsize 0\n",
            "2019-03-01 06:39:52,513 : INFO : EPOCH 16 - PROGRESS: at 51.64% examples, 463220 words/s, in_qsize 16, out_qsize 0\n",
            "2019-03-01 06:39:53,577 : INFO : EPOCH 16 - PROGRESS: at 57.27% examples, 460351 words/s, in_qsize 15, out_qsize 0\n",
            "2019-03-01 06:39:54,624 : INFO : EPOCH 16 - PROGRESS: at 63.11% examples, 460676 words/s, in_qsize 15, out_qsize 3\n",
            "2019-03-01 06:39:55,634 : INFO : EPOCH 16 - PROGRESS: at 68.96% examples, 461579 words/s, in_qsize 15, out_qsize 0\n",
            "2019-03-01 06:39:56,654 : INFO : EPOCH 16 - PROGRESS: at 74.92% examples, 463000 words/s, in_qsize 15, out_qsize 0\n",
            "2019-03-01 06:39:57,655 : INFO : EPOCH 16 - PROGRESS: at 80.90% examples, 464861 words/s, in_qsize 14, out_qsize 0\n",
            "2019-03-01 06:39:58,751 : INFO : EPOCH 16 - PROGRESS: at 86.75% examples, 462982 words/s, in_qsize 15, out_qsize 0\n",
            "2019-03-01 06:39:59,795 : INFO : EPOCH 16 - PROGRESS: at 92.50% examples, 462269 words/s, in_qsize 15, out_qsize 0\n",
            "2019-03-01 06:40:00,799 : INFO : EPOCH 16 - PROGRESS: at 98.69% examples, 464753 words/s, in_qsize 13, out_qsize 0\n",
            "2019-03-01 06:40:00,943 : INFO : worker thread finished; awaiting finish of 7 more threads\n",
            "2019-03-01 06:40:00,949 : INFO : worker thread finished; awaiting finish of 6 more threads\n",
            "2019-03-01 06:40:00,951 : INFO : worker thread finished; awaiting finish of 5 more threads\n",
            "2019-03-01 06:40:00,955 : INFO : worker thread finished; awaiting finish of 4 more threads\n",
            "2019-03-01 06:40:00,964 : INFO : worker thread finished; awaiting finish of 3 more threads\n",
            "2019-03-01 06:40:00,983 : INFO : worker thread finished; awaiting finish of 2 more threads\n",
            "2019-03-01 06:40:01,003 : INFO : worker thread finished; awaiting finish of 1 more threads\n",
            "2019-03-01 06:40:01,010 : INFO : worker thread finished; awaiting finish of 0 more threads\n",
            "2019-03-01 06:40:01,011 : INFO : EPOCH - 16 : training on 9227204 raw words (8221952 effective words) took 17.7s, 465294 effective words/s\n",
            "2019-03-01 06:40:02,026 : INFO : EPOCH 17 - PROGRESS: at 5.32% examples, 435529 words/s, in_qsize 15, out_qsize 0\n",
            "2019-03-01 06:40:03,036 : INFO : EPOCH 17 - PROGRESS: at 10.86% examples, 442709 words/s, in_qsize 15, out_qsize 0\n",
            "2019-03-01 06:40:04,098 : INFO : EPOCH 17 - PROGRESS: at 16.92% examples, 452006 words/s, in_qsize 15, out_qsize 0\n",
            "2019-03-01 06:40:05,102 : INFO : EPOCH 17 - PROGRESS: at 22.98% examples, 463081 words/s, in_qsize 15, out_qsize 0\n",
            "2019-03-01 06:40:06,145 : INFO : EPOCH 17 - PROGRESS: at 28.61% examples, 459163 words/s, in_qsize 15, out_qsize 0\n",
            "2019-03-01 06:40:07,194 : INFO : EPOCH 17 - PROGRESS: at 34.68% examples, 462001 words/s, in_qsize 13, out_qsize 2\n",
            "2019-03-01 06:40:08,255 : INFO : EPOCH 17 - PROGRESS: at 40.62% examples, 461970 words/s, in_qsize 15, out_qsize 0\n",
            "2019-03-01 06:40:09,266 : INFO : EPOCH 17 - PROGRESS: at 46.67% examples, 465780 words/s, in_qsize 15, out_qsize 0\n",
            "2019-03-01 06:40:10,295 : INFO : EPOCH 17 - PROGRESS: at 52.73% examples, 467929 words/s, in_qsize 16, out_qsize 0\n",
            "2019-03-01 06:40:11,303 : INFO : EPOCH 17 - PROGRESS: at 58.58% examples, 468868 words/s, in_qsize 15, out_qsize 0\n",
            "2019-03-01 06:40:12,361 : INFO : EPOCH 17 - PROGRESS: at 64.30% examples, 466709 words/s, in_qsize 15, out_qsize 0\n",
            "2019-03-01 06:40:13,366 : INFO : EPOCH 17 - PROGRESS: at 70.05% examples, 466997 words/s, in_qsize 15, out_qsize 0\n",
            "2019-03-01 06:40:14,444 : INFO : EPOCH 17 - PROGRESS: at 76.22% examples, 467294 words/s, in_qsize 15, out_qsize 0\n",
            "2019-03-01 06:40:15,466 : INFO : EPOCH 17 - PROGRESS: at 82.10% examples, 467514 words/s, in_qsize 15, out_qsize 0\n",
            "2019-03-01 06:40:16,471 : INFO : EPOCH 17 - PROGRESS: at 87.72% examples, 467068 words/s, in_qsize 16, out_qsize 0\n",
            "2019-03-01 06:40:17,525 : INFO : EPOCH 17 - PROGRESS: at 93.26% examples, 465561 words/s, in_qsize 15, out_qsize 5\n",
            "2019-03-01 06:40:18,479 : INFO : worker thread finished; awaiting finish of 7 more threads\n",
            "2019-03-01 06:40:18,503 : INFO : EPOCH 17 - PROGRESS: at 99.34% examples, 467331 words/s, in_qsize 6, out_qsize 1\n",
            "2019-03-01 06:40:18,506 : INFO : worker thread finished; awaiting finish of 6 more threads\n",
            "2019-03-01 06:40:18,541 : INFO : worker thread finished; awaiting finish of 5 more threads\n",
            "2019-03-01 06:40:18,550 : INFO : worker thread finished; awaiting finish of 4 more threads\n",
            "2019-03-01 06:40:18,578 : INFO : worker thread finished; awaiting finish of 3 more threads\n",
            "2019-03-01 06:40:18,584 : INFO : worker thread finished; awaiting finish of 2 more threads\n",
            "2019-03-01 06:40:18,589 : INFO : worker thread finished; awaiting finish of 1 more threads\n",
            "2019-03-01 06:40:18,590 : INFO : worker thread finished; awaiting finish of 0 more threads\n",
            "2019-03-01 06:40:18,592 : INFO : EPOCH - 17 : training on 9227204 raw words (8222031 effective words) took 17.6s, 467991 effective words/s\n",
            "2019-03-01 06:40:19,613 : INFO : EPOCH 18 - PROGRESS: at 5.00% examples, 405513 words/s, in_qsize 13, out_qsize 4\n",
            "2019-03-01 06:40:20,613 : INFO : EPOCH 18 - PROGRESS: at 10.42% examples, 425293 words/s, in_qsize 15, out_qsize 0\n",
            "2019-03-01 06:40:21,620 : INFO : EPOCH 18 - PROGRESS: at 16.27% examples, 442651 words/s, in_qsize 16, out_qsize 2\n",
            "2019-03-01 06:40:22,642 : INFO : EPOCH 18 - PROGRESS: at 22.11% examples, 449825 words/s, in_qsize 15, out_qsize 0\n",
            "2019-03-01 06:40:23,663 : INFO : EPOCH 18 - PROGRESS: at 27.86% examples, 452337 words/s, in_qsize 16, out_qsize 0\n",
            "2019-03-01 06:40:24,671 : INFO : EPOCH 18 - PROGRESS: at 33.70% examples, 456421 words/s, in_qsize 14, out_qsize 1\n",
            "2019-03-01 06:40:25,725 : INFO : EPOCH 18 - PROGRESS: at 39.54% examples, 456449 words/s, in_qsize 16, out_qsize 0\n",
            "2019-03-01 06:40:26,735 : INFO : EPOCH 18 - PROGRESS: at 45.59% examples, 461131 words/s, in_qsize 15, out_qsize 0\n",
            "2019-03-01 06:40:27,735 : INFO : EPOCH 18 - PROGRESS: at 50.99% examples, 459401 words/s, in_qsize 15, out_qsize 0\n",
            "2019-03-01 06:40:28,743 : INFO : EPOCH 18 - PROGRESS: at 56.29% examples, 456844 words/s, in_qsize 15, out_qsize 0\n",
            "2019-03-01 06:40:29,769 : INFO : EPOCH 18 - PROGRESS: at 62.04% examples, 457141 words/s, in_qsize 15, out_qsize 0\n",
            "2019-03-01 06:40:30,793 : INFO : EPOCH 18 - PROGRESS: at 67.55% examples, 456037 words/s, in_qsize 14, out_qsize 1\n",
            "2019-03-01 06:40:31,890 : INFO : EPOCH 18 - PROGRESS: at 73.73% examples, 456588 words/s, in_qsize 15, out_qsize 0\n",
            "2019-03-01 06:40:32,899 : INFO : EPOCH 18 - PROGRESS: at 79.70% examples, 458621 words/s, in_qsize 15, out_qsize 0\n",
            "2019-03-01 06:40:33,906 : INFO : EPOCH 18 - PROGRESS: at 85.23% examples, 458140 words/s, in_qsize 15, out_qsize 0\n",
            "2019-03-01 06:40:34,947 : INFO : EPOCH 18 - PROGRESS: at 90.54% examples, 455656 words/s, in_qsize 15, out_qsize 0\n",
            "2019-03-01 06:40:35,947 : INFO : EPOCH 18 - PROGRESS: at 95.88% examples, 454537 words/s, in_qsize 15, out_qsize 0\n",
            "2019-03-01 06:40:36,517 : INFO : worker thread finished; awaiting finish of 7 more threads\n",
            "2019-03-01 06:40:36,538 : INFO : worker thread finished; awaiting finish of 6 more threads\n",
            "2019-03-01 06:40:36,550 : INFO : worker thread finished; awaiting finish of 5 more threads\n",
            "2019-03-01 06:40:36,603 : INFO : worker thread finished; awaiting finish of 4 more threads\n",
            "2019-03-01 06:40:36,613 : INFO : worker thread finished; awaiting finish of 3 more threads\n",
            "2019-03-01 06:40:36,623 : INFO : worker thread finished; awaiting finish of 2 more threads\n",
            "2019-03-01 06:40:36,624 : INFO : worker thread finished; awaiting finish of 1 more threads\n",
            "2019-03-01 06:40:36,628 : INFO : worker thread finished; awaiting finish of 0 more threads\n",
            "2019-03-01 06:40:36,629 : INFO : EPOCH - 18 : training on 9227204 raw words (8223233 effective words) took 18.0s, 456165 effective words/s\n",
            "2019-03-01 06:40:37,723 : INFO : EPOCH 19 - PROGRESS: at 5.11% examples, 391157 words/s, in_qsize 15, out_qsize 3\n",
            "2019-03-01 06:40:38,719 : INFO : EPOCH 19 - PROGRESS: at 10.75% examples, 424061 words/s, in_qsize 14, out_qsize 1\n",
            "2019-03-01 06:40:39,733 : INFO : EPOCH 19 - PROGRESS: at 16.38% examples, 434781 words/s, in_qsize 16, out_qsize 1\n",
            "2019-03-01 06:40:40,739 : INFO : EPOCH 19 - PROGRESS: at 21.35% examples, 428062 words/s, in_qsize 14, out_qsize 4\n",
            "2019-03-01 06:40:41,758 : INFO : EPOCH 19 - PROGRESS: at 26.88% examples, 431610 words/s, in_qsize 13, out_qsize 2\n",
            "2019-03-01 06:40:42,763 : INFO : EPOCH 19 - PROGRESS: at 32.19% examples, 432109 words/s, in_qsize 15, out_qsize 0\n",
            "2019-03-01 06:40:43,787 : INFO : EPOCH 19 - PROGRESS: at 38.14% examples, 438708 words/s, in_qsize 16, out_qsize 0\n",
            "2019-03-01 06:40:44,815 : INFO : EPOCH 19 - PROGRESS: at 43.86% examples, 441308 words/s, in_qsize 15, out_qsize 0\n",
            "2019-03-01 06:40:45,830 : INFO : EPOCH 19 - PROGRESS: at 49.59% examples, 443922 words/s, in_qsize 15, out_qsize 0\n",
            "2019-03-01 06:40:46,904 : INFO : EPOCH 19 - PROGRESS: at 55.64% examples, 446115 words/s, in_qsize 16, out_qsize 0\n",
            "2019-03-01 06:40:47,907 : INFO : EPOCH 19 - PROGRESS: at 61.82% examples, 451463 words/s, in_qsize 15, out_qsize 0\n",
            "2019-03-01 06:40:48,928 : INFO : EPOCH 19 - PROGRESS: at 67.13% examples, 449452 words/s, in_qsize 15, out_qsize 1\n",
            "2019-03-01 06:40:49,950 : INFO : EPOCH 19 - PROGRESS: at 72.97% examples, 451778 words/s, in_qsize 15, out_qsize 1\n",
            "2019-03-01 06:40:50,956 : INFO : EPOCH 19 - PROGRESS: at 78.62% examples, 451723 words/s, in_qsize 15, out_qsize 0\n",
            "2019-03-01 06:40:51,965 : INFO : EPOCH 19 - PROGRESS: at 84.69% examples, 454531 words/s, in_qsize 16, out_qsize 0\n",
            "2019-03-01 06:40:52,974 : INFO : EPOCH 19 - PROGRESS: at 89.89% examples, 452609 words/s, in_qsize 15, out_qsize 0\n",
            "2019-03-01 06:40:54,002 : INFO : EPOCH 19 - PROGRESS: at 95.55% examples, 452445 words/s, in_qsize 15, out_qsize 0\n",
            "2019-03-01 06:40:54,649 : INFO : worker thread finished; awaiting finish of 7 more threads\n",
            "2019-03-01 06:40:54,651 : INFO : worker thread finished; awaiting finish of 6 more threads\n",
            "2019-03-01 06:40:54,652 : INFO : worker thread finished; awaiting finish of 5 more threads\n",
            "2019-03-01 06:40:54,653 : INFO : worker thread finished; awaiting finish of 4 more threads\n",
            "2019-03-01 06:40:54,656 : INFO : worker thread finished; awaiting finish of 3 more threads\n",
            "2019-03-01 06:40:54,675 : INFO : worker thread finished; awaiting finish of 2 more threads\n",
            "2019-03-01 06:40:54,686 : INFO : worker thread finished; awaiting finish of 1 more threads\n",
            "2019-03-01 06:40:54,692 : INFO : worker thread finished; awaiting finish of 0 more threads\n",
            "2019-03-01 06:40:54,693 : INFO : EPOCH - 19 : training on 9227204 raw words (8221838 effective words) took 18.1s, 455416 effective words/s\n",
            "2019-03-01 06:40:55,715 : INFO : EPOCH 20 - PROGRESS: at 5.21% examples, 423037 words/s, in_qsize 15, out_qsize 0\n",
            "2019-03-01 06:40:56,836 : INFO : EPOCH 20 - PROGRESS: at 11.40% examples, 439090 words/s, in_qsize 14, out_qsize 1\n",
            "2019-03-01 06:40:57,870 : INFO : EPOCH 20 - PROGRESS: at 17.57% examples, 455907 words/s, in_qsize 15, out_qsize 0\n",
            "2019-03-01 06:40:58,875 : INFO : EPOCH 20 - PROGRESS: at 23.42% examples, 461428 words/s, in_qsize 15, out_qsize 0\n",
            "2019-03-01 06:40:59,883 : INFO : EPOCH 20 - PROGRESS: at 28.94% examples, 459389 words/s, in_qsize 16, out_qsize 0\n",
            "2019-03-01 06:41:00,896 : INFO : EPOCH 20 - PROGRESS: at 35.10% examples, 466273 words/s, in_qsize 15, out_qsize 1\n",
            "2019-03-01 06:41:01,916 : INFO : EPOCH 20 - PROGRESS: at 40.51% examples, 462053 words/s, in_qsize 14, out_qsize 3\n",
            "2019-03-01 06:41:02,981 : INFO : EPOCH 20 - PROGRESS: at 46.89% examples, 466095 words/s, in_qsize 15, out_qsize 0\n",
            "2019-03-01 06:41:03,999 : INFO : EPOCH 20 - PROGRESS: at 52.84% examples, 467790 words/s, in_qsize 16, out_qsize 1\n",
            "2019-03-01 06:41:05,011 : INFO : EPOCH 20 - PROGRESS: at 58.69% examples, 468558 words/s, in_qsize 14, out_qsize 1\n",
            "2019-03-01 06:41:06,018 : INFO : EPOCH 20 - PROGRESS: at 64.40% examples, 468588 words/s, in_qsize 15, out_qsize 0\n",
            "2019-03-01 06:41:07,030 : INFO : EPOCH 20 - PROGRESS: at 70.16% examples, 468702 words/s, in_qsize 14, out_qsize 2\n",
            "2019-03-01 06:41:08,034 : INFO : EPOCH 20 - PROGRESS: at 76.00% examples, 469160 words/s, in_qsize 15, out_qsize 0\n",
            "2019-03-01 06:41:09,066 : INFO : EPOCH 20 - PROGRESS: at 82.42% examples, 472024 words/s, in_qsize 16, out_qsize 0\n",
            "2019-03-01 06:41:10,092 : INFO : EPOCH 20 - PROGRESS: at 88.16% examples, 471226 words/s, in_qsize 15, out_qsize 0\n",
            "2019-03-01 06:41:11,114 : INFO : EPOCH 20 - PROGRESS: at 94.25% examples, 472250 words/s, in_qsize 16, out_qsize 0\n",
            "2019-03-01 06:41:11,977 : INFO : worker thread finished; awaiting finish of 7 more threads\n",
            "2019-03-01 06:41:11,987 : INFO : worker thread finished; awaiting finish of 6 more threads\n",
            "2019-03-01 06:41:12,013 : INFO : worker thread finished; awaiting finish of 5 more threads\n",
            "2019-03-01 06:41:12,021 : INFO : worker thread finished; awaiting finish of 4 more threads\n",
            "2019-03-01 06:41:12,029 : INFO : worker thread finished; awaiting finish of 3 more threads\n",
            "2019-03-01 06:41:12,033 : INFO : worker thread finished; awaiting finish of 2 more threads\n",
            "2019-03-01 06:41:12,036 : INFO : worker thread finished; awaiting finish of 1 more threads\n",
            "2019-03-01 06:41:12,043 : INFO : worker thread finished; awaiting finish of 0 more threads\n",
            "2019-03-01 06:41:12,044 : INFO : EPOCH - 20 : training on 9227204 raw words (8222773 effective words) took 17.3s, 474215 effective words/s\n",
            "2019-03-01 06:41:13,129 : INFO : EPOCH 21 - PROGRESS: at 5.43% examples, 413837 words/s, in_qsize 14, out_qsize 4\n",
            "2019-03-01 06:41:14,155 : INFO : EPOCH 21 - PROGRESS: at 11.73% examples, 457604 words/s, in_qsize 14, out_qsize 1\n",
            "2019-03-01 06:41:15,201 : INFO : EPOCH 21 - PROGRESS: at 17.78% examples, 463898 words/s, in_qsize 15, out_qsize 0\n",
            "2019-03-01 06:41:16,201 : INFO : EPOCH 21 - PROGRESS: at 23.20% examples, 459484 words/s, in_qsize 15, out_qsize 0\n",
            "2019-03-01 06:41:17,291 : INFO : EPOCH 21 - PROGRESS: at 28.18% examples, 442136 words/s, in_qsize 15, out_qsize 0\n",
            "2019-03-01 06:41:18,353 : INFO : EPOCH 21 - PROGRESS: at 32.84% examples, 428375 words/s, in_qsize 14, out_qsize 2\n",
            "2019-03-01 06:41:19,438 : INFO : EPOCH 21 - PROGRESS: at 37.81% examples, 420896 words/s, in_qsize 15, out_qsize 0\n",
            "2019-03-01 06:41:20,548 : INFO : EPOCH 21 - PROGRESS: at 43.00% examples, 416196 words/s, in_qsize 15, out_qsize 0\n",
            "2019-03-01 06:41:21,576 : INFO : EPOCH 21 - PROGRESS: at 47.86% examples, 413388 words/s, in_qsize 15, out_qsize 0\n",
            "2019-03-01 06:41:22,578 : INFO : EPOCH 21 - PROGRESS: at 53.49% examples, 418103 words/s, in_qsize 12, out_qsize 3\n",
            "2019-03-01 06:41:23,607 : INFO : EPOCH 21 - PROGRESS: at 59.23% examples, 421740 words/s, in_qsize 16, out_qsize 0\n",
            "2019-03-01 06:41:24,624 : INFO : EPOCH 21 - PROGRESS: at 64.95% examples, 425141 words/s, in_qsize 15, out_qsize 0\n",
            "2019-03-01 06:41:25,663 : INFO : EPOCH 21 - PROGRESS: at 70.70% examples, 427363 words/s, in_qsize 15, out_qsize 0\n",
            "2019-03-01 06:41:26,686 : INFO : EPOCH 21 - PROGRESS: at 76.33% examples, 429138 words/s, in_qsize 15, out_qsize 0\n",
            "2019-03-01 06:41:27,700 : INFO : EPOCH 21 - PROGRESS: at 82.10% examples, 431495 words/s, in_qsize 15, out_qsize 0\n",
            "2019-03-01 06:41:28,718 : INFO : EPOCH 21 - PROGRESS: at 87.94% examples, 433996 words/s, in_qsize 16, out_qsize 0\n",
            "2019-03-01 06:41:29,726 : INFO : EPOCH 21 - PROGRESS: at 93.48% examples, 434910 words/s, in_qsize 15, out_qsize 0\n",
            "2019-03-01 06:41:30,753 : INFO : EPOCH 21 - PROGRESS: at 99.23% examples, 436272 words/s, in_qsize 8, out_qsize 0\n",
            "2019-03-01 06:41:30,767 : INFO : worker thread finished; awaiting finish of 7 more threads\n",
            "2019-03-01 06:41:30,771 : INFO : worker thread finished; awaiting finish of 6 more threads\n",
            "2019-03-01 06:41:30,790 : INFO : worker thread finished; awaiting finish of 5 more threads\n",
            "2019-03-01 06:41:30,799 : INFO : worker thread finished; awaiting finish of 4 more threads\n",
            "2019-03-01 06:41:30,805 : INFO : worker thread finished; awaiting finish of 3 more threads\n",
            "2019-03-01 06:41:30,807 : INFO : worker thread finished; awaiting finish of 2 more threads\n",
            "2019-03-01 06:41:30,808 : INFO : worker thread finished; awaiting finish of 1 more threads\n",
            "2019-03-01 06:41:30,810 : INFO : worker thread finished; awaiting finish of 0 more threads\n",
            "2019-03-01 06:41:30,811 : INFO : EPOCH - 21 : training on 9227204 raw words (8221889 effective words) took 18.8s, 438314 effective words/s\n",
            "2019-03-01 06:41:31,850 : INFO : EPOCH 22 - PROGRESS: at 4.89% examples, 391351 words/s, in_qsize 13, out_qsize 2\n",
            "2019-03-01 06:41:32,878 : INFO : EPOCH 22 - PROGRESS: at 10.75% examples, 429973 words/s, in_qsize 15, out_qsize 0\n",
            "2019-03-01 06:41:33,890 : INFO : EPOCH 22 - PROGRESS: at 16.37% examples, 439130 words/s, in_qsize 15, out_qsize 0\n",
            "2019-03-01 06:41:34,902 : INFO : EPOCH 22 - PROGRESS: at 22.11% examples, 445845 words/s, in_qsize 15, out_qsize 0\n",
            "2019-03-01 06:41:35,939 : INFO : EPOCH 22 - PROGRESS: at 27.75% examples, 446062 words/s, in_qsize 16, out_qsize 0\n",
            "2019-03-01 06:41:36,947 : INFO : EPOCH 22 - PROGRESS: at 33.59% examples, 451174 words/s, in_qsize 16, out_qsize 0\n",
            "2019-03-01 06:41:37,962 : INFO : EPOCH 22 - PROGRESS: at 39.22% examples, 451839 words/s, in_qsize 14, out_qsize 1\n",
            "2019-03-01 06:41:38,994 : INFO : EPOCH 22 - PROGRESS: at 44.83% examples, 451476 words/s, in_qsize 16, out_qsize 0\n",
            "2019-03-01 06:41:39,994 : INFO : EPOCH 22 - PROGRESS: at 50.56% examples, 453756 words/s, in_qsize 16, out_qsize 0\n",
            "2019-03-01 06:41:41,005 : INFO : EPOCH 22 - PROGRESS: at 56.18% examples, 454241 words/s, in_qsize 15, out_qsize 0\n",
            "2019-03-01 06:41:42,098 : INFO : EPOCH 22 - PROGRESS: at 61.71% examples, 450657 words/s, in_qsize 16, out_qsize 7\n",
            "2019-03-01 06:41:43,151 : INFO : EPOCH 22 - PROGRESS: at 67.77% examples, 452465 words/s, in_qsize 14, out_qsize 1\n",
            "2019-03-01 06:41:44,180 : INFO : EPOCH 22 - PROGRESS: at 73.73% examples, 454278 words/s, in_qsize 14, out_qsize 1\n",
            "2019-03-01 06:41:45,205 : INFO : EPOCH 22 - PROGRESS: at 79.38% examples, 454121 words/s, in_qsize 15, out_qsize 1\n",
            "2019-03-01 06:41:46,225 : INFO : EPOCH 22 - PROGRESS: at 85.02% examples, 454128 words/s, in_qsize 15, out_qsize 0\n",
            "2019-03-01 06:41:47,245 : INFO : EPOCH 22 - PROGRESS: at 90.98% examples, 455721 words/s, in_qsize 15, out_qsize 0\n",
            "2019-03-01 06:41:48,289 : INFO : EPOCH 22 - PROGRESS: at 96.42% examples, 453988 words/s, in_qsize 16, out_qsize 1\n",
            "2019-03-01 06:41:48,744 : INFO : worker thread finished; awaiting finish of 7 more threads\n",
            "2019-03-01 06:41:48,767 : INFO : worker thread finished; awaiting finish of 6 more threads\n",
            "2019-03-01 06:41:48,774 : INFO : worker thread finished; awaiting finish of 5 more threads\n",
            "2019-03-01 06:41:48,777 : INFO : worker thread finished; awaiting finish of 4 more threads\n",
            "2019-03-01 06:41:48,780 : INFO : worker thread finished; awaiting finish of 3 more threads\n",
            "2019-03-01 06:41:48,787 : INFO : worker thread finished; awaiting finish of 2 more threads\n",
            "2019-03-01 06:41:48,796 : INFO : worker thread finished; awaiting finish of 1 more threads\n",
            "2019-03-01 06:41:48,797 : INFO : worker thread finished; awaiting finish of 0 more threads\n",
            "2019-03-01 06:41:48,798 : INFO : EPOCH - 22 : training on 9227204 raw words (8222723 effective words) took 18.0s, 457521 effective words/s\n",
            "2019-03-01 06:41:49,828 : INFO : EPOCH 23 - PROGRESS: at 5.43% examples, 437452 words/s, in_qsize 14, out_qsize 1\n",
            "2019-03-01 06:41:50,896 : INFO : EPOCH 23 - PROGRESS: at 11.08% examples, 435602 words/s, in_qsize 15, out_qsize 2\n",
            "2019-03-01 06:41:51,903 : INFO : EPOCH 23 - PROGRESS: at 16.92% examples, 449182 words/s, in_qsize 11, out_qsize 4\n",
            "2019-03-01 06:41:53,023 : INFO : EPOCH 23 - PROGRESS: at 22.87% examples, 446188 words/s, in_qsize 14, out_qsize 4\n",
            "2019-03-01 06:41:54,066 : INFO : EPOCH 23 - PROGRESS: at 28.94% examples, 452545 words/s, in_qsize 14, out_qsize 1\n",
            "2019-03-01 06:41:55,090 : INFO : EPOCH 23 - PROGRESS: at 34.89% examples, 456814 words/s, in_qsize 15, out_qsize 0\n",
            "2019-03-01 06:41:56,097 : INFO : EPOCH 23 - PROGRESS: at 40.73% examples, 459660 words/s, in_qsize 15, out_qsize 1\n",
            "2019-03-01 06:41:57,141 : INFO : EPOCH 23 - PROGRESS: at 46.78% examples, 461962 words/s, in_qsize 15, out_qsize 0\n",
            "2019-03-01 06:41:58,154 : INFO : EPOCH 23 - PROGRESS: at 52.84% examples, 465607 words/s, in_qsize 15, out_qsize 0\n",
            "2019-03-01 06:41:59,151 : INFO : EPOCH 23 - PROGRESS: at 58.36% examples, 464393 words/s, in_qsize 15, out_qsize 0\n",
            "2019-03-01 06:42:00,228 : INFO : EPOCH 23 - PROGRESS: at 64.19% examples, 462713 words/s, in_qsize 15, out_qsize 0\n",
            "2019-03-01 06:42:01,229 : INFO : EPOCH 23 - PROGRESS: at 70.26% examples, 465579 words/s, in_qsize 15, out_qsize 0\n",
            "2019-03-01 06:42:02,253 : INFO : EPOCH 23 - PROGRESS: at 76.11% examples, 465860 words/s, in_qsize 16, out_qsize 1\n",
            "2019-03-01 06:42:03,263 : INFO : EPOCH 23 - PROGRESS: at 81.34% examples, 462894 words/s, in_qsize 15, out_qsize 0\n",
            "2019-03-01 06:42:04,303 : INFO : EPOCH 23 - PROGRESS: at 86.42% examples, 458821 words/s, in_qsize 15, out_qsize 0\n",
            "2019-03-01 06:42:05,356 : INFO : EPOCH 23 - PROGRESS: at 90.76% examples, 451163 words/s, in_qsize 15, out_qsize 0\n",
            "2019-03-01 06:42:06,367 : INFO : EPOCH 23 - PROGRESS: at 95.77% examples, 448528 words/s, in_qsize 15, out_qsize 0\n",
            "2019-03-01 06:42:07,177 : INFO : worker thread finished; awaiting finish of 7 more threads\n",
            "2019-03-01 06:42:07,210 : INFO : worker thread finished; awaiting finish of 6 more threads\n",
            "2019-03-01 06:42:07,213 : INFO : worker thread finished; awaiting finish of 5 more threads\n",
            "2019-03-01 06:42:07,216 : INFO : worker thread finished; awaiting finish of 4 more threads\n",
            "2019-03-01 06:42:07,220 : INFO : worker thread finished; awaiting finish of 3 more threads\n",
            "2019-03-01 06:42:07,223 : INFO : worker thread finished; awaiting finish of 2 more threads\n",
            "2019-03-01 06:42:07,235 : INFO : worker thread finished; awaiting finish of 1 more threads\n",
            "2019-03-01 06:42:07,238 : INFO : worker thread finished; awaiting finish of 0 more threads\n",
            "2019-03-01 06:42:07,241 : INFO : EPOCH - 23 : training on 9227204 raw words (8222997 effective words) took 18.4s, 446161 effective words/s\n",
            "2019-03-01 06:42:08,266 : INFO : EPOCH 24 - PROGRESS: at 4.01% examples, 326000 words/s, in_qsize 15, out_qsize 1\n",
            "2019-03-01 06:42:09,311 : INFO : EPOCH 24 - PROGRESS: at 8.80% examples, 350959 words/s, in_qsize 15, out_qsize 2\n",
            "2019-03-01 06:42:10,318 : INFO : EPOCH 24 - PROGRESS: at 13.57% examples, 363513 words/s, in_qsize 14, out_qsize 1\n",
            "2019-03-01 06:42:11,349 : INFO : EPOCH 24 - PROGRESS: at 18.54% examples, 371870 words/s, in_qsize 16, out_qsize 0\n",
            "2019-03-01 06:42:12,406 : INFO : EPOCH 24 - PROGRESS: at 23.20% examples, 370069 words/s, in_qsize 16, out_qsize 1\n",
            "2019-03-01 06:42:13,414 : INFO : EPOCH 24 - PROGRESS: at 27.86% examples, 371615 words/s, in_qsize 14, out_qsize 1\n",
            "2019-03-01 06:42:14,465 : INFO : EPOCH 24 - PROGRESS: at 33.81% examples, 386227 words/s, in_qsize 15, out_qsize 2\n",
            "2019-03-01 06:42:15,453 : INFO : EPOCH 24 - PROGRESS: at 39.43% examples, 395479 words/s, in_qsize 15, out_qsize 0\n",
            "2019-03-01 06:42:16,573 : INFO : EPOCH 24 - PROGRESS: at 45.59% examples, 402445 words/s, in_qsize 10, out_qsize 5\n",
            "2019-03-01 06:42:17,636 : INFO : EPOCH 24 - PROGRESS: at 51.64% examples, 409332 words/s, in_qsize 15, out_qsize 1\n",
            "2019-03-01 06:42:18,677 : INFO : EPOCH 24 - PROGRESS: at 57.49% examples, 414155 words/s, in_qsize 15, out_qsize 0\n",
            "2019-03-01 06:42:19,691 : INFO : EPOCH 24 - PROGRESS: at 63.11% examples, 417681 words/s, in_qsize 15, out_qsize 3\n",
            "2019-03-01 06:42:20,705 : INFO : EPOCH 24 - PROGRESS: at 68.96% examples, 421941 words/s, in_qsize 16, out_qsize 1\n",
            "2019-03-01 06:42:21,709 : INFO : EPOCH 24 - PROGRESS: at 74.37% examples, 423405 words/s, in_qsize 16, out_qsize 2\n",
            "2019-03-01 06:42:22,778 : INFO : EPOCH 24 - PROGRESS: at 80.57% examples, 426953 words/s, in_qsize 15, out_qsize 0\n",
            "2019-03-01 06:42:23,804 : INFO : EPOCH 24 - PROGRESS: at 86.53% examples, 430073 words/s, in_qsize 15, out_qsize 0\n",
            "2019-03-01 06:42:24,805 : INFO : EPOCH 24 - PROGRESS: at 92.39% examples, 432936 words/s, in_qsize 15, out_qsize 0\n",
            "2019-03-01 06:42:25,829 : INFO : EPOCH 24 - PROGRESS: at 97.82% examples, 433040 words/s, in_qsize 15, out_qsize 3\n",
            "2019-03-01 06:42:26,015 : INFO : worker thread finished; awaiting finish of 7 more threads\n",
            "2019-03-01 06:42:26,026 : INFO : worker thread finished; awaiting finish of 6 more threads\n",
            "2019-03-01 06:42:26,033 : INFO : worker thread finished; awaiting finish of 5 more threads\n",
            "2019-03-01 06:42:26,043 : INFO : worker thread finished; awaiting finish of 4 more threads\n",
            "2019-03-01 06:42:26,063 : INFO : worker thread finished; awaiting finish of 3 more threads\n",
            "2019-03-01 06:42:26,085 : INFO : worker thread finished; awaiting finish of 2 more threads\n",
            "2019-03-01 06:42:26,086 : INFO : worker thread finished; awaiting finish of 1 more threads\n",
            "2019-03-01 06:42:26,098 : INFO : worker thread finished; awaiting finish of 0 more threads\n",
            "2019-03-01 06:42:26,099 : INFO : EPOCH - 24 : training on 9227204 raw words (8222255 effective words) took 18.8s, 436338 effective words/s\n",
            "2019-03-01 06:42:27,119 : INFO : EPOCH 25 - PROGRESS: at 5.11% examples, 416305 words/s, in_qsize 15, out_qsize 0\n",
            "2019-03-01 06:42:28,138 : INFO : EPOCH 25 - PROGRESS: at 10.75% examples, 435728 words/s, in_qsize 15, out_qsize 0\n",
            "2019-03-01 06:42:29,212 : INFO : EPOCH 25 - PROGRESS: at 17.02% examples, 451289 words/s, in_qsize 15, out_qsize 0\n",
            "2019-03-01 06:42:30,216 : INFO : EPOCH 25 - PROGRESS: at 22.98% examples, 460370 words/s, in_qsize 15, out_qsize 0\n",
            "2019-03-01 06:42:31,219 : INFO : EPOCH 25 - PROGRESS: at 28.83% examples, 464210 words/s, in_qsize 15, out_qsize 0\n",
            "2019-03-01 06:42:32,275 : INFO : EPOCH 25 - PROGRESS: at 34.57% examples, 461237 words/s, in_qsize 14, out_qsize 2\n",
            "2019-03-01 06:42:33,279 : INFO : EPOCH 25 - PROGRESS: at 40.51% examples, 464951 words/s, in_qsize 14, out_qsize 1\n",
            "2019-03-01 06:42:34,306 : INFO : EPOCH 25 - PROGRESS: at 46.35% examples, 465368 words/s, in_qsize 16, out_qsize 0\n",
            "2019-03-01 06:42:35,323 : INFO : EPOCH 25 - PROGRESS: at 52.40% examples, 468184 words/s, in_qsize 13, out_qsize 2\n",
            "2019-03-01 06:42:36,356 : INFO : EPOCH 25 - PROGRESS: at 58.03% examples, 466238 words/s, in_qsize 15, out_qsize 0\n",
            "2019-03-01 06:42:37,465 : INFO : EPOCH 25 - PROGRESS: at 64.41% examples, 466967 words/s, in_qsize 15, out_qsize 0\n",
            "2019-03-01 06:42:38,538 : INFO : EPOCH 25 - PROGRESS: at 70.69% examples, 468200 words/s, in_qsize 15, out_qsize 0\n",
            "2019-03-01 06:42:39,564 : INFO : EPOCH 25 - PROGRESS: at 76.33% examples, 466925 words/s, in_qsize 15, out_qsize 5\n",
            "2019-03-01 06:42:40,571 : INFO : EPOCH 25 - PROGRESS: at 82.42% examples, 468926 words/s, in_qsize 16, out_qsize 1\n",
            "2019-03-01 06:42:41,648 : INFO : EPOCH 25 - PROGRESS: at 88.48% examples, 468500 words/s, in_qsize 14, out_qsize 1\n",
            "2019-03-01 06:42:42,665 : INFO : EPOCH 25 - PROGRESS: at 94.69% examples, 470365 words/s, in_qsize 15, out_qsize 0\n",
            "2019-03-01 06:42:43,444 : INFO : worker thread finished; awaiting finish of 7 more threads\n",
            "2019-03-01 06:42:43,451 : INFO : worker thread finished; awaiting finish of 6 more threads\n",
            "2019-03-01 06:42:43,472 : INFO : worker thread finished; awaiting finish of 5 more threads\n",
            "2019-03-01 06:42:43,495 : INFO : worker thread finished; awaiting finish of 4 more threads\n",
            "2019-03-01 06:42:43,501 : INFO : worker thread finished; awaiting finish of 3 more threads\n",
            "2019-03-01 06:42:43,512 : INFO : worker thread finished; awaiting finish of 2 more threads\n",
            "2019-03-01 06:42:43,522 : INFO : worker thread finished; awaiting finish of 1 more threads\n",
            "2019-03-01 06:42:43,523 : INFO : worker thread finished; awaiting finish of 0 more threads\n",
            "2019-03-01 06:42:43,525 : INFO : EPOCH - 25 : training on 9227204 raw words (8222837 effective words) took 17.4s, 472269 effective words/s\n",
            "2019-03-01 06:42:44,570 : INFO : EPOCH 26 - PROGRESS: at 5.32% examples, 423172 words/s, in_qsize 15, out_qsize 0\n",
            "2019-03-01 06:42:45,596 : INFO : EPOCH 26 - PROGRESS: at 11.40% examples, 454845 words/s, in_qsize 16, out_qsize 0\n",
            "2019-03-01 06:42:46,609 : INFO : EPOCH 26 - PROGRESS: at 17.03% examples, 457055 words/s, in_qsize 15, out_qsize 1\n",
            "2019-03-01 06:42:47,604 : INFO : EPOCH 26 - PROGRESS: at 22.65% examples, 457893 words/s, in_qsize 13, out_qsize 5\n",
            "2019-03-01 06:42:48,621 : INFO : EPOCH 26 - PROGRESS: at 28.83% examples, 466286 words/s, in_qsize 15, out_qsize 0\n",
            "2019-03-01 06:42:49,627 : INFO : EPOCH 26 - PROGRESS: at 34.78% examples, 469660 words/s, in_qsize 15, out_qsize 0\n",
            "2019-03-01 06:42:50,631 : INFO : EPOCH 26 - PROGRESS: at 40.40% examples, 468457 words/s, in_qsize 15, out_qsize 0\n",
            "2019-03-01 06:42:51,633 : INFO : EPOCH 26 - PROGRESS: at 46.24% examples, 469851 words/s, in_qsize 15, out_qsize 0\n",
            "2019-03-01 06:42:52,739 : INFO : EPOCH 26 - PROGRESS: at 52.40% examples, 469172 words/s, in_qsize 16, out_qsize 3\n",
            "2019-03-01 06:42:53,744 : INFO : EPOCH 26 - PROGRESS: at 58.47% examples, 471345 words/s, in_qsize 15, out_qsize 0\n",
            "2019-03-01 06:42:54,758 : INFO : EPOCH 26 - PROGRESS: at 64.40% examples, 472411 words/s, in_qsize 15, out_qsize 0\n",
            "2019-03-01 06:42:55,764 : INFO : EPOCH 26 - PROGRESS: at 70.16% examples, 472165 words/s, in_qsize 15, out_qsize 0\n",
            "2019-03-01 06:42:56,766 : INFO : EPOCH 26 - PROGRESS: at 75.78% examples, 471378 words/s, in_qsize 15, out_qsize 0\n",
            "2019-03-01 06:42:57,797 : INFO : EPOCH 26 - PROGRESS: at 81.77% examples, 471657 words/s, in_qsize 15, out_qsize 0\n",
            "2019-03-01 06:42:58,811 : INFO : EPOCH 26 - PROGRESS: at 87.72% examples, 472430 words/s, in_qsize 15, out_qsize 0\n",
            "2019-03-01 06:42:59,820 : INFO : EPOCH 26 - PROGRESS: at 93.15% examples, 470483 words/s, in_qsize 15, out_qsize 0\n",
            "2019-03-01 06:43:00,864 : INFO : EPOCH 26 - PROGRESS: at 99.01% examples, 469881 words/s, in_qsize 10, out_qsize 0\n",
            "2019-03-01 06:43:00,918 : INFO : worker thread finished; awaiting finish of 7 more threads\n",
            "2019-03-01 06:43:00,924 : INFO : worker thread finished; awaiting finish of 6 more threads\n",
            "2019-03-01 06:43:00,931 : INFO : worker thread finished; awaiting finish of 5 more threads\n",
            "2019-03-01 06:43:00,941 : INFO : worker thread finished; awaiting finish of 4 more threads\n",
            "2019-03-01 06:43:00,943 : INFO : worker thread finished; awaiting finish of 3 more threads\n",
            "2019-03-01 06:43:00,946 : INFO : worker thread finished; awaiting finish of 2 more threads\n",
            "2019-03-01 06:43:00,952 : INFO : worker thread finished; awaiting finish of 1 more threads\n",
            "2019-03-01 06:43:00,965 : INFO : worker thread finished; awaiting finish of 0 more threads\n",
            "2019-03-01 06:43:00,966 : INFO : EPOCH - 26 : training on 9227204 raw words (8222035 effective words) took 17.4s, 471792 effective words/s\n",
            "2019-03-01 06:43:01,988 : INFO : EPOCH 27 - PROGRESS: at 5.32% examples, 432428 words/s, in_qsize 15, out_qsize 0\n",
            "2019-03-01 06:43:03,026 : INFO : EPOCH 27 - PROGRESS: at 10.97% examples, 439779 words/s, in_qsize 15, out_qsize 0\n",
            "2019-03-01 06:43:04,037 : INFO : EPOCH 27 - PROGRESS: at 16.81% examples, 451493 words/s, in_qsize 15, out_qsize 0\n",
            "2019-03-01 06:43:05,062 : INFO : EPOCH 27 - PROGRESS: at 22.98% examples, 462549 words/s, in_qsize 15, out_qsize 0\n",
            "2019-03-01 06:43:06,065 : INFO : EPOCH 27 - PROGRESS: at 28.83% examples, 466032 words/s, in_qsize 14, out_qsize 1\n",
            "2019-03-01 06:43:07,078 : INFO : EPOCH 27 - PROGRESS: at 34.46% examples, 464486 words/s, in_qsize 15, out_qsize 0\n",
            "2019-03-01 06:43:08,095 : INFO : EPOCH 27 - PROGRESS: at 40.40% examples, 466902 words/s, in_qsize 15, out_qsize 0\n",
            "2019-03-01 06:43:09,121 : INFO : EPOCH 27 - PROGRESS: at 46.35% examples, 468224 words/s, in_qsize 15, out_qsize 0\n",
            "2019-03-01 06:43:10,136 : INFO : EPOCH 27 - PROGRESS: at 52.19% examples, 468897 words/s, in_qsize 14, out_qsize 1\n",
            "2019-03-01 06:43:11,177 : INFO : EPOCH 27 - PROGRESS: at 58.26% examples, 469985 words/s, in_qsize 13, out_qsize 2\n",
            "2019-03-01 06:43:12,188 : INFO : EPOCH 27 - PROGRESS: at 64.19% examples, 471306 words/s, in_qsize 14, out_qsize 1\n",
            "2019-03-01 06:43:13,212 : INFO : EPOCH 27 - PROGRESS: at 69.94% examples, 470466 words/s, in_qsize 15, out_qsize 0\n",
            "2019-03-01 06:43:14,304 : INFO : EPOCH 27 - PROGRESS: at 76.11% examples, 469970 words/s, in_qsize 15, out_qsize 0\n",
            "2019-03-01 06:43:15,327 : INFO : EPOCH 27 - PROGRESS: at 82.32% examples, 471861 words/s, in_qsize 15, out_qsize 0\n",
            "2019-03-01 06:43:16,332 : INFO : EPOCH 27 - PROGRESS: at 88.05% examples, 471699 words/s, in_qsize 15, out_qsize 1\n",
            "2019-03-01 06:43:17,339 : INFO : EPOCH 27 - PROGRESS: at 93.81% examples, 471493 words/s, in_qsize 14, out_qsize 1\n",
            "2019-03-01 06:43:18,244 : INFO : worker thread finished; awaiting finish of 7 more threads\n",
            "2019-03-01 06:43:18,250 : INFO : worker thread finished; awaiting finish of 6 more threads\n",
            "2019-03-01 06:43:18,257 : INFO : worker thread finished; awaiting finish of 5 more threads\n",
            "2019-03-01 06:43:18,264 : INFO : worker thread finished; awaiting finish of 4 more threads\n",
            "2019-03-01 06:43:18,271 : INFO : worker thread finished; awaiting finish of 3 more threads\n",
            "2019-03-01 06:43:18,274 : INFO : worker thread finished; awaiting finish of 2 more threads\n",
            "2019-03-01 06:43:18,278 : INFO : worker thread finished; awaiting finish of 1 more threads\n",
            "2019-03-01 06:43:18,298 : INFO : worker thread finished; awaiting finish of 0 more threads\n",
            "2019-03-01 06:43:18,299 : INFO : EPOCH - 27 : training on 9227204 raw words (8222106 effective words) took 17.3s, 474711 effective words/s\n",
            "2019-03-01 06:43:19,376 : INFO : EPOCH 28 - PROGRESS: at 5.76% examples, 446368 words/s, in_qsize 15, out_qsize 0\n",
            "2019-03-01 06:43:20,387 : INFO : EPOCH 28 - PROGRESS: at 11.29% examples, 448055 words/s, in_qsize 12, out_qsize 3\n",
            "2019-03-01 06:43:21,392 : INFO : EPOCH 28 - PROGRESS: at 17.03% examples, 455080 words/s, in_qsize 13, out_qsize 5\n",
            "2019-03-01 06:43:22,408 : INFO : EPOCH 28 - PROGRESS: at 23.09% examples, 464085 words/s, in_qsize 15, out_qsize 0\n",
            "2019-03-01 06:43:23,419 : INFO : EPOCH 28 - PROGRESS: at 29.16% examples, 469925 words/s, in_qsize 15, out_qsize 1\n",
            "2019-03-01 06:43:24,464 : INFO : EPOCH 28 - PROGRESS: at 34.89% examples, 466775 words/s, in_qsize 15, out_qsize 0\n",
            "2019-03-01 06:43:25,482 : INFO : EPOCH 28 - PROGRESS: at 40.83% examples, 468814 words/s, in_qsize 15, out_qsize 0\n",
            "2019-03-01 06:43:26,499 : INFO : EPOCH 28 - PROGRESS: at 46.78% examples, 470427 words/s, in_qsize 15, out_qsize 0\n",
            "2019-03-01 06:43:27,512 : INFO : EPOCH 28 - PROGRESS: at 52.51% examples, 469993 words/s, in_qsize 13, out_qsize 2\n",
            "2019-03-01 06:43:28,529 : INFO : EPOCH 28 - PROGRESS: at 58.36% examples, 470333 words/s, in_qsize 15, out_qsize 0\n",
            "2019-03-01 06:43:29,532 : INFO : EPOCH 28 - PROGRESS: at 64.19% examples, 471153 words/s, in_qsize 14, out_qsize 3\n",
            "2019-03-01 06:43:30,563 : INFO : EPOCH 28 - PROGRESS: at 70.16% examples, 471464 words/s, in_qsize 15, out_qsize 0\n",
            "2019-03-01 06:43:31,570 : INFO : EPOCH 28 - PROGRESS: at 76.22% examples, 473248 words/s, in_qsize 16, out_qsize 0\n",
            "2019-03-01 06:43:32,572 : INFO : EPOCH 28 - PROGRESS: at 81.55% examples, 470607 words/s, in_qsize 16, out_qsize 1\n",
            "2019-03-01 06:43:33,579 : INFO : EPOCH 28 - PROGRESS: at 87.29% examples, 470479 words/s, in_qsize 16, out_qsize 0\n",
            "2019-03-01 06:43:34,604 : INFO : EPOCH 28 - PROGRESS: at 93.05% examples, 469806 words/s, in_qsize 12, out_qsize 3\n",
            "2019-03-01 06:43:35,611 : INFO : EPOCH 28 - PROGRESS: at 99.01% examples, 470780 words/s, in_qsize 9, out_qsize 1\n",
            "2019-03-01 06:43:35,669 : INFO : worker thread finished; awaiting finish of 7 more threads\n",
            "2019-03-01 06:43:35,675 : INFO : worker thread finished; awaiting finish of 6 more threads\n",
            "2019-03-01 06:43:35,676 : INFO : worker thread finished; awaiting finish of 5 more threads\n",
            "2019-03-01 06:43:35,679 : INFO : worker thread finished; awaiting finish of 4 more threads\n",
            "2019-03-01 06:43:35,681 : INFO : worker thread finished; awaiting finish of 3 more threads\n",
            "2019-03-01 06:43:35,691 : INFO : worker thread finished; awaiting finish of 2 more threads\n",
            "2019-03-01 06:43:35,702 : INFO : worker thread finished; awaiting finish of 1 more threads\n",
            "2019-03-01 06:43:35,709 : INFO : worker thread finished; awaiting finish of 0 more threads\n",
            "2019-03-01 06:43:35,710 : INFO : EPOCH - 28 : training on 9227204 raw words (8221692 effective words) took 17.4s, 472759 effective words/s\n",
            "2019-03-01 06:43:36,730 : INFO : EPOCH 29 - PROGRESS: at 5.32% examples, 432576 words/s, in_qsize 15, out_qsize 0\n",
            "2019-03-01 06:43:37,765 : INFO : EPOCH 29 - PROGRESS: at 10.97% examples, 441978 words/s, in_qsize 15, out_qsize 1\n",
            "2019-03-01 06:43:38,760 : INFO : EPOCH 29 - PROGRESS: at 16.92% examples, 457264 words/s, in_qsize 15, out_qsize 0\n",
            "2019-03-01 06:43:39,783 : INFO : EPOCH 29 - PROGRESS: at 22.76% examples, 460530 words/s, in_qsize 12, out_qsize 3\n",
            "2019-03-01 06:43:40,800 : INFO : EPOCH 29 - PROGRESS: at 28.51% examples, 461361 words/s, in_qsize 15, out_qsize 0\n",
            "2019-03-01 06:43:41,824 : INFO : EPOCH 29 - PROGRESS: at 34.24% examples, 461309 words/s, in_qsize 14, out_qsize 1\n",
            "2019-03-01 06:43:42,846 : INFO : EPOCH 29 - PROGRESS: at 40.08% examples, 462612 words/s, in_qsize 16, out_qsize 2\n",
            "2019-03-01 06:43:43,864 : INFO : EPOCH 29 - PROGRESS: at 46.13% examples, 466028 words/s, in_qsize 15, out_qsize 0\n",
            "2019-03-01 06:43:44,868 : INFO : EPOCH 29 - PROGRESS: at 52.29% examples, 470425 words/s, in_qsize 15, out_qsize 0\n",
            "2019-03-01 06:43:45,931 : INFO : EPOCH 29 - PROGRESS: at 57.92% examples, 466832 words/s, in_qsize 15, out_qsize 0\n",
            "2019-03-01 06:43:46,964 : INFO : EPOCH 29 - PROGRESS: at 64.08% examples, 469119 words/s, in_qsize 15, out_qsize 0\n",
            "2019-03-01 06:43:48,013 : INFO : EPOCH 29 - PROGRESS: at 70.05% examples, 468938 words/s, in_qsize 12, out_qsize 3\n",
            "2019-03-01 06:43:49,087 : INFO : EPOCH 29 - PROGRESS: at 76.22% examples, 469261 words/s, in_qsize 16, out_qsize 2\n",
            "2019-03-01 06:43:50,105 : INFO : EPOCH 29 - PROGRESS: at 82.42% examples, 471322 words/s, in_qsize 15, out_qsize 0\n",
            "2019-03-01 06:43:51,111 : INFO : EPOCH 29 - PROGRESS: at 88.05% examples, 470604 words/s, in_qsize 15, out_qsize 2\n",
            "2019-03-01 06:43:52,116 : INFO : EPOCH 29 - PROGRESS: at 93.92% examples, 471054 words/s, in_qsize 15, out_qsize 0\n",
            "2019-03-01 06:43:53,000 : INFO : worker thread finished; awaiting finish of 7 more threads\n",
            "2019-03-01 06:43:53,007 : INFO : worker thread finished; awaiting finish of 6 more threads\n",
            "2019-03-01 06:43:53,021 : INFO : worker thread finished; awaiting finish of 5 more threads\n",
            "2019-03-01 06:43:53,046 : INFO : worker thread finished; awaiting finish of 4 more threads\n",
            "2019-03-01 06:43:53,050 : INFO : worker thread finished; awaiting finish of 3 more threads\n",
            "2019-03-01 06:43:53,053 : INFO : worker thread finished; awaiting finish of 2 more threads\n",
            "2019-03-01 06:43:53,060 : INFO : worker thread finished; awaiting finish of 1 more threads\n",
            "2019-03-01 06:43:53,065 : INFO : worker thread finished; awaiting finish of 0 more threads\n",
            "2019-03-01 06:43:53,065 : INFO : EPOCH - 29 : training on 9227204 raw words (8222390 effective words) took 17.3s, 474075 effective words/s\n",
            "2019-03-01 06:43:54,105 : INFO : EPOCH 30 - PROGRESS: at 5.32% examples, 424076 words/s, in_qsize 15, out_qsize 0\n",
            "2019-03-01 06:43:55,113 : INFO : EPOCH 30 - PROGRESS: at 11.40% examples, 459112 words/s, in_qsize 15, out_qsize 0\n",
            "2019-03-01 06:43:56,137 : INFO : EPOCH 30 - PROGRESS: at 16.92% examples, 453970 words/s, in_qsize 15, out_qsize 0\n",
            "2019-03-01 06:43:57,139 : INFO : EPOCH 30 - PROGRESS: at 22.98% examples, 464763 words/s, in_qsize 15, out_qsize 0\n",
            "2019-03-01 06:43:58,237 : INFO : EPOCH 30 - PROGRESS: at 29.16% examples, 464210 words/s, in_qsize 16, out_qsize 0\n",
            "2019-03-01 06:43:59,242 : INFO : EPOCH 30 - PROGRESS: at 35.32% examples, 470910 words/s, in_qsize 16, out_qsize 0\n",
            "2019-03-01 06:44:00,264 : INFO : EPOCH 30 - PROGRESS: at 41.05% examples, 469565 words/s, in_qsize 14, out_qsize 1\n",
            "2019-03-01 06:44:01,279 : INFO : EPOCH 30 - PROGRESS: at 47.00% examples, 471185 words/s, in_qsize 15, out_qsize 0\n",
            "2019-03-01 06:44:02,312 : INFO : EPOCH 30 - PROGRESS: at 53.05% examples, 472520 words/s, in_qsize 16, out_qsize 0\n",
            "2019-03-01 06:44:03,318 : INFO : EPOCH 30 - PROGRESS: at 59.01% examples, 473977 words/s, in_qsize 15, out_qsize 0\n",
            "2019-03-01 06:44:04,326 : INFO : EPOCH 30 - PROGRESS: at 64.51% examples, 471891 words/s, in_qsize 15, out_qsize 0\n",
            "2019-03-01 06:44:05,414 : INFO : EPOCH 30 - PROGRESS: at 70.91% examples, 472864 words/s, in_qsize 15, out_qsize 0\n",
            "2019-03-01 06:44:06,443 : INFO : EPOCH 30 - PROGRESS: at 77.09% examples, 474417 words/s, in_qsize 15, out_qsize 0\n",
            "2019-03-01 06:44:07,499 : INFO : EPOCH 30 - PROGRESS: at 82.85% examples, 472440 words/s, in_qsize 16, out_qsize 1\n",
            "2019-03-01 06:44:08,538 : INFO : EPOCH 30 - PROGRESS: at 88.81% examples, 472918 words/s, in_qsize 15, out_qsize 3\n",
            "2019-03-01 06:44:09,561 : INFO : EPOCH 30 - PROGRESS: at 95.01% examples, 473806 words/s, in_qsize 15, out_qsize 0\n",
            "2019-03-01 06:44:10,255 : INFO : worker thread finished; awaiting finish of 7 more threads\n",
            "2019-03-01 06:44:10,278 : INFO : worker thread finished; awaiting finish of 6 more threads\n",
            "2019-03-01 06:44:10,282 : INFO : worker thread finished; awaiting finish of 5 more threads\n",
            "2019-03-01 06:44:10,300 : INFO : worker thread finished; awaiting finish of 4 more threads\n",
            "2019-03-01 06:44:10,307 : INFO : worker thread finished; awaiting finish of 3 more threads\n",
            "2019-03-01 06:44:10,311 : INFO : worker thread finished; awaiting finish of 2 more threads\n",
            "2019-03-01 06:44:10,323 : INFO : worker thread finished; awaiting finish of 1 more threads\n",
            "2019-03-01 06:44:10,329 : INFO : worker thread finished; awaiting finish of 0 more threads\n",
            "2019-03-01 06:44:10,330 : INFO : EPOCH - 30 : training on 9227204 raw words (8221335 effective words) took 17.3s, 476490 effective words/s\n",
            "2019-03-01 06:44:11,346 : INFO : EPOCH 31 - PROGRESS: at 5.11% examples, 416984 words/s, in_qsize 15, out_qsize 0\n",
            "2019-03-01 06:44:12,400 : INFO : EPOCH 31 - PROGRESS: at 11.30% examples, 450738 words/s, in_qsize 15, out_qsize 1\n",
            "2019-03-01 06:44:13,445 : INFO : EPOCH 31 - PROGRESS: at 17.13% examples, 453607 words/s, in_qsize 15, out_qsize 0\n",
            "2019-03-01 06:44:14,537 : INFO : EPOCH 31 - PROGRESS: at 23.63% examples, 462977 words/s, in_qsize 15, out_qsize 0\n",
            "2019-03-01 06:44:15,579 : INFO : EPOCH 31 - PROGRESS: at 29.80% examples, 467915 words/s, in_qsize 15, out_qsize 0\n",
            "2019-03-01 06:44:16,584 : INFO : EPOCH 31 - PROGRESS: at 35.75% examples, 471088 words/s, in_qsize 15, out_qsize 0\n",
            "2019-03-01 06:44:17,601 : INFO : EPOCH 31 - PROGRESS: at 41.26% examples, 467648 words/s, in_qsize 16, out_qsize 0\n",
            "2019-03-01 06:44:18,617 : INFO : EPOCH 31 - PROGRESS: at 47.00% examples, 467297 words/s, in_qsize 15, out_qsize 0\n",
            "2019-03-01 06:44:19,619 : INFO : EPOCH 31 - PROGRESS: at 52.95% examples, 469631 words/s, in_qsize 15, out_qsize 0\n",
            "2019-03-01 06:44:20,644 : INFO : EPOCH 31 - PROGRESS: at 58.47% examples, 467051 words/s, in_qsize 16, out_qsize 0\n",
            "2019-03-01 06:44:21,705 : INFO : EPOCH 31 - PROGRESS: at 64.62% examples, 468103 words/s, in_qsize 16, out_qsize 0\n",
            "2019-03-01 06:44:22,728 : INFO : EPOCH 31 - PROGRESS: at 70.59% examples, 469008 words/s, in_qsize 15, out_qsize 0\n",
            "2019-03-01 06:44:23,759 : INFO : EPOCH 31 - PROGRESS: at 76.55% examples, 469486 words/s, in_qsize 15, out_qsize 0\n",
            "2019-03-01 06:44:24,836 : INFO : EPOCH 31 - PROGRESS: at 82.74% examples, 469600 words/s, in_qsize 16, out_qsize 0\n",
            "2019-03-01 06:44:25,862 : INFO : EPOCH 31 - PROGRESS: at 88.91% examples, 471268 words/s, in_qsize 15, out_qsize 0\n",
            "2019-03-01 06:44:26,866 : INFO : EPOCH 31 - PROGRESS: at 94.25% examples, 469009 words/s, in_qsize 15, out_qsize 0\n",
            "2019-03-01 06:44:27,701 : INFO : worker thread finished; awaiting finish of 7 more threads\n",
            "2019-03-01 06:44:27,736 : INFO : worker thread finished; awaiting finish of 6 more threads\n",
            "2019-03-01 06:44:27,755 : INFO : worker thread finished; awaiting finish of 5 more threads\n",
            "2019-03-01 06:44:27,761 : INFO : worker thread finished; awaiting finish of 4 more threads\n",
            "2019-03-01 06:44:27,774 : INFO : worker thread finished; awaiting finish of 3 more threads\n",
            "2019-03-01 06:44:27,775 : INFO : worker thread finished; awaiting finish of 2 more threads\n",
            "2019-03-01 06:44:27,779 : INFO : worker thread finished; awaiting finish of 1 more threads\n",
            "2019-03-01 06:44:27,780 : INFO : worker thread finished; awaiting finish of 0 more threads\n",
            "2019-03-01 06:44:27,782 : INFO : EPOCH - 31 : training on 9227204 raw words (8223396 effective words) took 17.4s, 471512 effective words/s\n",
            "2019-03-01 06:44:28,859 : INFO : EPOCH 32 - PROGRESS: at 5.43% examples, 418118 words/s, in_qsize 15, out_qsize 0\n",
            "2019-03-01 06:44:29,906 : INFO : EPOCH 32 - PROGRESS: at 11.51% examples, 447341 words/s, in_qsize 15, out_qsize 0\n",
            "2019-03-01 06:44:30,915 : INFO : EPOCH 32 - PROGRESS: at 17.35% examples, 456712 words/s, in_qsize 14, out_qsize 1\n",
            "2019-03-01 06:44:31,934 : INFO : EPOCH 32 - PROGRESS: at 23.20% examples, 460631 words/s, in_qsize 14, out_qsize 1\n",
            "2019-03-01 06:44:32,967 : INFO : EPOCH 32 - PROGRESS: at 28.83% examples, 459476 words/s, in_qsize 15, out_qsize 2\n",
            "2019-03-01 06:44:34,016 : INFO : EPOCH 32 - PROGRESS: at 34.89% examples, 461046 words/s, in_qsize 15, out_qsize 0\n",
            "2019-03-01 06:44:35,023 : INFO : EPOCH 32 - PROGRESS: at 40.83% examples, 464632 words/s, in_qsize 16, out_qsize 0\n",
            "2019-03-01 06:44:36,068 : INFO : EPOCH 32 - PROGRESS: at 46.46% examples, 461963 words/s, in_qsize 15, out_qsize 1\n",
            "2019-03-01 06:44:37,141 : INFO : EPOCH 32 - PROGRESS: at 52.62% examples, 463281 words/s, in_qsize 15, out_qsize 0\n",
            "2019-03-01 06:44:38,207 : INFO : EPOCH 32 - PROGRESS: at 58.69% examples, 463802 words/s, in_qsize 15, out_qsize 0\n",
            "2019-03-01 06:44:39,220 : INFO : EPOCH 32 - PROGRESS: at 64.73% examples, 466310 words/s, in_qsize 16, out_qsize 0\n",
            "2019-03-01 06:44:40,226 : INFO : EPOCH 32 - PROGRESS: at 70.16% examples, 464409 words/s, in_qsize 15, out_qsize 0\n",
            "2019-03-01 06:44:41,293 : INFO : EPOCH 32 - PROGRESS: at 76.00% examples, 463284 words/s, in_qsize 14, out_qsize 1\n",
            "2019-03-01 06:44:42,319 : INFO : EPOCH 32 - PROGRESS: at 81.66% examples, 462448 words/s, in_qsize 16, out_qsize 4\n",
            "2019-03-01 06:44:43,326 : INFO : EPOCH 32 - PROGRESS: at 87.62% examples, 463988 words/s, in_qsize 14, out_qsize 1\n",
            "2019-03-01 06:44:44,343 : INFO : EPOCH 32 - PROGRESS: at 93.48% examples, 464529 words/s, in_qsize 15, out_qsize 0\n",
            "2019-03-01 06:44:45,338 : INFO : worker thread finished; awaiting finish of 7 more threads\n",
            "2019-03-01 06:44:45,354 : INFO : EPOCH 32 - PROGRESS: at 99.34% examples, 465205 words/s, in_qsize 6, out_qsize 1\n",
            "2019-03-01 06:44:45,358 : INFO : worker thread finished; awaiting finish of 6 more threads\n",
            "2019-03-01 06:44:45,366 : INFO : worker thread finished; awaiting finish of 5 more threads\n",
            "2019-03-01 06:44:45,373 : INFO : worker thread finished; awaiting finish of 4 more threads\n",
            "2019-03-01 06:44:45,395 : INFO : worker thread finished; awaiting finish of 3 more threads\n",
            "2019-03-01 06:44:45,397 : INFO : worker thread finished; awaiting finish of 2 more threads\n",
            "2019-03-01 06:44:45,403 : INFO : worker thread finished; awaiting finish of 1 more threads\n",
            "2019-03-01 06:44:45,407 : INFO : worker thread finished; awaiting finish of 0 more threads\n",
            "2019-03-01 06:44:45,408 : INFO : EPOCH - 32 : training on 9227204 raw words (8222421 effective words) took 17.6s, 466836 effective words/s\n",
            "2019-03-01 06:44:45,409 : INFO : training on a 295270528 raw words (263119122 effective words) took 583.2s, 451136 effective words/s\n"
          ],
          "name": "stderr"
        },
        {
          "output_type": "stream",
          "text": [
            "CPU times: user 18min 59s, sys: 4.36 s, total: 19min 3s\n",
            "Wall time: 9min 43s\n"
          ],
          "name": "stdout"
        },
        {
          "output_type": "execute_result",
          "data": {
            "text/plain": [
              "(263119122, 295270528)"
            ]
          },
          "metadata": {
            "tags": []
          },
          "execution_count": 24
        }
      ]
    },
    {
      "metadata": {
        "trusted": true,
        "_uuid": "27cc2651c74227115d8bfd8c40e5618048e05edd",
        "id": "OL3wyAlqOeWz",
        "colab_type": "code",
        "outputId": "823cf386-49fc-4b1b-b36a-eb09660f44e9",
        "colab": {
          "base_uri": "https://localhost:8080/",
          "height": 258
        }
      },
      "cell_type": "code",
      "source": [
        "w2v_model.most_similar(\"love\")"
      ],
      "execution_count": 25,
      "outputs": [
        {
          "output_type": "stream",
          "text": [
            "/usr/local/lib/python3.6/dist-packages/ipykernel_launcher.py:1: DeprecationWarning: Call to deprecated `most_similar` (Method will be removed in 4.0.0, use self.wv.most_similar() instead).\n",
            "  \"\"\"Entry point for launching an IPython kernel.\n",
            "2019-03-01 06:44:45,419 : INFO : precomputing L2-norms of word weight vectors\n"
          ],
          "name": "stderr"
        },
        {
          "output_type": "execute_result",
          "data": {
            "text/plain": [
              "[('luv', 0.5733588337898254),\n",
              " ('loves', 0.5550423264503479),\n",
              " ('loved', 0.5273992419242859),\n",
              " ('adore', 0.5078948736190796),\n",
              " ('amazing', 0.5019210577011108),\n",
              " ('looove', 0.48774227499961853),\n",
              " ('awesome', 0.46677109599113464),\n",
              " ('lovee', 0.4506368637084961),\n",
              " ('loveee', 0.45012974739074707),\n",
              " ('loooove', 0.4424011707305908)]"
            ]
          },
          "metadata": {
            "tags": []
          },
          "execution_count": 25
        }
      ]
    },
    {
      "metadata": {
        "id": "6LpaL9GBvMQF",
        "colab_type": "code",
        "outputId": "3e67a899-f332-434e-e046-37ad2b4f4182",
        "colab": {
          "base_uri": "https://localhost:8080/",
          "height": 241
        }
      },
      "cell_type": "code",
      "source": [
        "w2v_model.most_similar(\"ugly\")"
      ],
      "execution_count": 26,
      "outputs": [
        {
          "output_type": "stream",
          "text": [
            "/usr/local/lib/python3.6/dist-packages/ipykernel_launcher.py:1: DeprecationWarning: Call to deprecated `most_similar` (Method will be removed in 4.0.0, use self.wv.most_similar() instead).\n",
            "  \"\"\"Entry point for launching an IPython kernel.\n"
          ],
          "name": "stderr"
        },
        {
          "output_type": "execute_result",
          "data": {
            "text/plain": [
              "[('boop', 0.3697305917739868),\n",
              " ('retarded', 0.32195383310317993),\n",
              " ('wrinkles', 0.31859880685806274),\n",
              " ('prettier', 0.3155776560306549),\n",
              " ('cute', 0.3131271004676819),\n",
              " ('dumb', 0.313055157661438),\n",
              " ('hideous', 0.30020958185195923),\n",
              " ('thick', 0.2979068160057068),\n",
              " ('gross', 0.28929734230041504),\n",
              " ('photoshopped', 0.2868231236934662)]"
            ]
          },
          "metadata": {
            "tags": []
          },
          "execution_count": 26
        }
      ]
    },
    {
      "metadata": {
        "id": "QrdkJYsX45xG",
        "colab_type": "code",
        "outputId": "64f0e1ca-30c6-41b9-857d-6fffc242b09f",
        "colab": {
          "base_uri": "https://localhost:8080/",
          "height": 241
        }
      },
      "cell_type": "code",
      "source": [
        "w2v_model.most_similar(\"bully\")"
      ],
      "execution_count": 27,
      "outputs": [
        {
          "output_type": "stream",
          "text": [
            "/usr/local/lib/python3.6/dist-packages/ipykernel_launcher.py:1: DeprecationWarning: Call to deprecated `most_similar` (Method will be removed in 4.0.0, use self.wv.most_similar() instead).\n",
            "  \"\"\"Entry point for launching an IPython kernel.\n"
          ],
          "name": "stderr"
        },
        {
          "output_type": "execute_result",
          "data": {
            "text/plain": [
              "[('hahahah', 0.2883516550064087),\n",
              " ('anorexic', 0.2878303527832031),\n",
              " ('naughty', 0.27793291211128235),\n",
              " ('cheating', 0.26838815212249756),\n",
              " ('jk', 0.2681570053100586),\n",
              " ('loner', 0.26737284660339355),\n",
              " ('wimp', 0.262611985206604),\n",
              " ('fooled', 0.26189249753952026),\n",
              " ('chunky', 0.2608267664909363),\n",
              " ('nerds', 0.2598419189453125)]"
            ]
          },
          "metadata": {
            "tags": []
          },
          "execution_count": 27
        }
      ]
    },
    {
      "metadata": {
        "_uuid": "e13563644468037258598637b49373ca96b9b879",
        "id": "vPNcFhbGOeW2",
        "colab_type": "text"
      },
      "cell_type": "markdown",
      "source": [
        "### Tokenize Text"
      ]
    },
    {
      "metadata": {
        "trusted": true,
        "_uuid": "6852bc709a7cd20173cbeeb218505078f8f37c57",
        "id": "SegYG2oMOeW3",
        "colab_type": "code",
        "colab": {
          "base_uri": "https://localhost:8080/",
          "height": 68
        },
        "outputId": "2290c1a1-e659-4760-b099-31ae20b15534"
      },
      "cell_type": "code",
      "source": [
        "%%time\n",
        "tokenizer = Tokenizer()\n",
        "tokenizer.fit_on_texts(df_train.text)\n",
        "\n",
        "vocab_size = len(tokenizer.word_index) + 1\n",
        "print(\"Total words\", vocab_size)"
      ],
      "execution_count": 28,
      "outputs": [
        {
          "output_type": "stream",
          "text": [
            "Total words 290419\n",
            "CPU times: user 21 s, sys: 113 ms, total: 21.1 s\n",
            "Wall time: 21 s\n"
          ],
          "name": "stdout"
        }
      ]
    },
    {
      "metadata": {
        "trusted": true,
        "_uuid": "45de439df3015030c71f84c2d170346936a1d68f",
        "id": "Ech_k1pYOeW6",
        "colab_type": "code",
        "colab": {
          "base_uri": "https://localhost:8080/",
          "height": 51
        },
        "outputId": "3f70a4d0-e21e-4820-f7fb-82482c349a02"
      },
      "cell_type": "code",
      "source": [
        "%%time\n",
        "x_train = pad_sequences(tokenizer.texts_to_sequences(df_train.text), maxlen=SEQUENCE_LENGTH)\n",
        "x_test = pad_sequences(tokenizer.texts_to_sequences(df_test.text), maxlen=SEQUENCE_LENGTH)"
      ],
      "execution_count": 29,
      "outputs": [
        {
          "output_type": "stream",
          "text": [
            "CPU times: user 30.9 s, sys: 906 ms, total: 31.8 s\n",
            "Wall time: 31.9 s\n"
          ],
          "name": "stdout"
        }
      ]
    },
    {
      "metadata": {
        "_uuid": "03b35903fc6260e190d6928d240ef7432de117fc",
        "id": "cwqBEUKeOeW9",
        "colab_type": "text"
      },
      "cell_type": "markdown",
      "source": [
        "### Label Encoder "
      ]
    },
    {
      "metadata": {
        "trusted": true,
        "_uuid": "33676e0efa39e97d89bd650b8b4eae933a22fbf0",
        "id": "fDXpVNHcOeW9",
        "colab_type": "code",
        "colab": {
          "base_uri": "https://localhost:8080/",
          "height": 34
        },
        "outputId": "b25443be-0077-4ab6-93c0-b2017bcd39d8"
      },
      "cell_type": "code",
      "source": [
        "labels = df_train.target.unique().tolist()\n",
        "labels.append(NEUTRAL)\n",
        "labels"
      ],
      "execution_count": 30,
      "outputs": [
        {
          "output_type": "execute_result",
          "data": {
            "text/plain": [
              "['BULLY', 'NO BULLY', 'NEUTRAL']"
            ]
          },
          "metadata": {
            "tags": []
          },
          "execution_count": 30
        }
      ]
    },
    {
      "metadata": {
        "trusted": true,
        "_uuid": "04239a9bef76e7922fd86098a5601dfde8ee4665",
        "id": "R7xCG_3vOeXA",
        "colab_type": "code",
        "colab": {
          "base_uri": "https://localhost:8080/",
          "height": 51
        },
        "outputId": "a1b4b3ca-8781-4d41-9319-c3957ff6823b"
      },
      "cell_type": "code",
      "source": [
        "encoder = LabelEncoder()\n",
        "encoder.fit(df_train.target.tolist())\n",
        "\n",
        "y_train = encoder.transform(df_train.target.tolist())\n",
        "y_test = encoder.transform(df_test.target.tolist())\n",
        "\n",
        "y_train = y_train.reshape(-1,1)\n",
        "y_test = y_test.reshape(-1,1)\n",
        "\n",
        "print(\"y_train\",y_train.shape)\n",
        "print(\"y_test\",y_test.shape)"
      ],
      "execution_count": 31,
      "outputs": [
        {
          "output_type": "stream",
          "text": [
            "y_train (1280000, 1)\n",
            "y_test (320000, 1)\n"
          ],
          "name": "stdout"
        }
      ]
    },
    {
      "metadata": {
        "trusted": true,
        "_uuid": "04299c886911ca135583ab64878f213939a2990c",
        "id": "mxS3GnunOeXF",
        "colab_type": "code",
        "colab": {
          "base_uri": "https://localhost:8080/",
          "height": 102
        },
        "outputId": "d05ae29f-07a0-469d-ff87-708e4ef3f951"
      },
      "cell_type": "code",
      "source": [
        "print(\"x_train\", x_train.shape)\n",
        "print(\"y_train\", y_train.shape)\n",
        "print()\n",
        "print(\"x_test\", x_test.shape)\n",
        "print(\"y_test\", y_test.shape)"
      ],
      "execution_count": 32,
      "outputs": [
        {
          "output_type": "stream",
          "text": [
            "x_train (1280000, 300)\n",
            "y_train (1280000, 1)\n",
            "\n",
            "x_test (320000, 300)\n",
            "y_test (320000, 1)\n"
          ],
          "name": "stdout"
        }
      ]
    },
    {
      "metadata": {
        "trusted": true,
        "_uuid": "232533fb27b7be99d9b8c2f8fb22c9c6bf121a6f",
        "id": "oTfuEp7lOeXI",
        "colab_type": "code",
        "colab": {
          "base_uri": "https://localhost:8080/",
          "height": 187
        },
        "outputId": "a3d23ba3-b638-4280-fbb1-ca46d5051278"
      },
      "cell_type": "code",
      "source": [
        "y_train[:10]"
      ],
      "execution_count": 33,
      "outputs": [
        {
          "output_type": "execute_result",
          "data": {
            "text/plain": [
              "array([[0],\n",
              "       [0],\n",
              "       [0],\n",
              "       [1],\n",
              "       [0],\n",
              "       [0],\n",
              "       [0],\n",
              "       [0],\n",
              "       [0],\n",
              "       [0]])"
            ]
          },
          "metadata": {
            "tags": []
          },
          "execution_count": 33
        }
      ]
    },
    {
      "metadata": {
        "_uuid": "233c0ea94055a03e2e7df3e2a13d036ec963484f",
        "id": "wnQszzcqOeXN",
        "colab_type": "text"
      },
      "cell_type": "markdown",
      "source": [
        "### Embedding layer"
      ]
    },
    {
      "metadata": {
        "trusted": true,
        "_uuid": "9ab488374b59e3f30f8b1ea92767d853c4846bac",
        "id": "1uqx2zSlOeXO",
        "colab_type": "code",
        "colab": {
          "base_uri": "https://localhost:8080/",
          "height": 34
        },
        "outputId": "b60dfb91-eb29-4631-a26f-f9362ad0aa26"
      },
      "cell_type": "code",
      "source": [
        "embedding_matrix = np.zeros((vocab_size, W2V_SIZE))\n",
        "for word, i in tokenizer.word_index.items():\n",
        "  if word in w2v_model.wv:\n",
        "    embedding_matrix[i] = w2v_model.wv[word]\n",
        "print(embedding_matrix.shape)"
      ],
      "execution_count": 34,
      "outputs": [
        {
          "output_type": "stream",
          "text": [
            "(290419, 300)\n"
          ],
          "name": "stdout"
        }
      ]
    },
    {
      "metadata": {
        "trusted": true,
        "_uuid": "833279d91e4286065968237fb5f2a0c2dd4d246c",
        "id": "kc07Ok5ROeXQ",
        "colab_type": "code",
        "colab": {}
      },
      "cell_type": "code",
      "source": [
        "embedding_layer = Embedding(vocab_size, W2V_SIZE, weights=[embedding_matrix], input_length=SEQUENCE_LENGTH, trainable=False)"
      ],
      "execution_count": 0,
      "outputs": []
    },
    {
      "metadata": {
        "_uuid": "b299ef78f94c2085942c993a2d58753a7476305a",
        "id": "G7L174rTOeXU",
        "colab_type": "text"
      },
      "cell_type": "markdown",
      "source": [
        "### Build Model"
      ]
    },
    {
      "metadata": {
        "trusted": true,
        "_uuid": "e775ef4f1b74e6412457181383c39f2df554ef3f",
        "id": "_QM_rzdzOeXV",
        "colab_type": "code",
        "colab": {
          "base_uri": "https://localhost:8080/",
          "height": 496
        },
        "outputId": "3c39fa85-cb98-4bad-f7a1-0e78e579923b"
      },
      "cell_type": "code",
      "source": [
        "model = Sequential()\n",
        "model.add(embedding_layer)\n",
        "model.add(Dropout(0.5))\n",
        "model.add(LSTM(100, dropout=0.2, recurrent_dropout=0.2))\n",
        "model.add(Dense(1, activation='sigmoid'))\n",
        "\n",
        "model.summary()"
      ],
      "execution_count": 36,
      "outputs": [
        {
          "output_type": "stream",
          "text": [
            "WARNING:tensorflow:From /usr/local/lib/python3.6/dist-packages/tensorflow/python/framework/op_def_library.py:263: colocate_with (from tensorflow.python.framework.ops) is deprecated and will be removed in a future version.\n",
            "Instructions for updating:\n",
            "Colocations handled automatically by placer.\n"
          ],
          "name": "stdout"
        },
        {
          "output_type": "stream",
          "text": [
            "2019-03-01 06:45:40,006 : WARNING : From /usr/local/lib/python3.6/dist-packages/tensorflow/python/framework/op_def_library.py:263: colocate_with (from tensorflow.python.framework.ops) is deprecated and will be removed in a future version.\n",
            "Instructions for updating:\n",
            "Colocations handled automatically by placer.\n"
          ],
          "name": "stderr"
        },
        {
          "output_type": "stream",
          "text": [
            "WARNING:tensorflow:From /usr/local/lib/python3.6/dist-packages/keras/backend/tensorflow_backend.py:3445: calling dropout (from tensorflow.python.ops.nn_ops) with keep_prob is deprecated and will be removed in a future version.\n",
            "Instructions for updating:\n",
            "Please use `rate` instead of `keep_prob`. Rate should be set to `rate = 1 - keep_prob`.\n"
          ],
          "name": "stdout"
        },
        {
          "output_type": "stream",
          "text": [
            "2019-03-01 06:45:42,542 : WARNING : From /usr/local/lib/python3.6/dist-packages/keras/backend/tensorflow_backend.py:3445: calling dropout (from tensorflow.python.ops.nn_ops) with keep_prob is deprecated and will be removed in a future version.\n",
            "Instructions for updating:\n",
            "Please use `rate` instead of `keep_prob`. Rate should be set to `rate = 1 - keep_prob`.\n"
          ],
          "name": "stderr"
        },
        {
          "output_type": "stream",
          "text": [
            "_________________________________________________________________\n",
            "Layer (type)                 Output Shape              Param #   \n",
            "=================================================================\n",
            "embedding_1 (Embedding)      (None, 300, 300)          87125700  \n",
            "_________________________________________________________________\n",
            "dropout_1 (Dropout)          (None, 300, 300)          0         \n",
            "_________________________________________________________________\n",
            "lstm_1 (LSTM)                (None, 100)               160400    \n",
            "_________________________________________________________________\n",
            "dense_1 (Dense)              (None, 1)                 101       \n",
            "=================================================================\n",
            "Total params: 87,286,201\n",
            "Trainable params: 160,501\n",
            "Non-trainable params: 87,125,700\n",
            "_________________________________________________________________\n"
          ],
          "name": "stdout"
        }
      ]
    },
    {
      "metadata": {
        "_uuid": "28d22eafd0c7d798dcf3d742bc92fb8577939e6c",
        "id": "ppvVjI9HOeXc",
        "colab_type": "text"
      },
      "cell_type": "markdown",
      "source": [
        "### Compile model"
      ]
    },
    {
      "metadata": {
        "trusted": true,
        "_uuid": "1331e08d590bb2aa2033706c8faca217afc0f1c3",
        "id": "tS8r_tSMOeXd",
        "colab_type": "code",
        "colab": {}
      },
      "cell_type": "code",
      "source": [
        "model.compile(loss='binary_crossentropy',\n",
        "              optimizer=\"adam\",\n",
        "              metrics=['accuracy'])"
      ],
      "execution_count": 0,
      "outputs": []
    },
    {
      "metadata": {
        "_uuid": "c7733127cb8b380e0c807268903bf4d03ef92542",
        "id": "PjwTxUvCOeXg",
        "colab_type": "text"
      },
      "cell_type": "markdown",
      "source": [
        "### Callbacks"
      ]
    },
    {
      "metadata": {
        "trusted": true,
        "_uuid": "a688df590386f5748da6fe00b01904fe6c71619e",
        "id": "JB3hcog1OeXh",
        "colab_type": "code",
        "colab": {}
      },
      "cell_type": "code",
      "source": [
        "callbacks = [ ReduceLROnPlateau(monitor='val_loss', patience=5, cooldown=0),\n",
        "              EarlyStopping(monitor='val_acc', min_delta=1e-4, patience=5)]"
      ],
      "execution_count": 0,
      "outputs": []
    },
    {
      "metadata": {
        "_uuid": "8d0873633dd49179c8cae17377641b97d323ef3b",
        "id": "u7H71E7VOeXj",
        "colab_type": "text"
      },
      "cell_type": "markdown",
      "source": [
        "### Train"
      ]
    },
    {
      "metadata": {
        "trusted": true,
        "_uuid": "2b659d390c6577dc5cdb6b6297934279b4e801d5",
        "id": "NT6I-AmTOeXj",
        "colab_type": "code",
        "colab": {
          "base_uri": "https://localhost:8080/",
          "height": 462
        },
        "outputId": "3cee2f4c-e67d-4e3b-b5a7-f9d2e4adf0a2"
      },
      "cell_type": "code",
      "source": [
        "%%time\n",
        "history = model.fit(x_train, y_train,\n",
        "                    batch_size=BATCH_SIZE,\n",
        "                    epochs=EPOCHS,\n",
        "                    validation_split=0.1,\n",
        "                    verbose=1,\n",
        "                    callbacks=callbacks)"
      ],
      "execution_count": 39,
      "outputs": [
        {
          "output_type": "stream",
          "text": [
            "WARNING:tensorflow:From /usr/local/lib/python3.6/dist-packages/tensorflow/python/ops/math_ops.py:3066: to_int32 (from tensorflow.python.ops.math_ops) is deprecated and will be removed in a future version.\n",
            "Instructions for updating:\n",
            "Use tf.cast instead.\n"
          ],
          "name": "stdout"
        },
        {
          "output_type": "stream",
          "text": [
            "2019-03-01 06:45:43,097 : WARNING : From /usr/local/lib/python3.6/dist-packages/tensorflow/python/ops/math_ops.py:3066: to_int32 (from tensorflow.python.ops.math_ops) is deprecated and will be removed in a future version.\n",
            "Instructions for updating:\n",
            "Use tf.cast instead.\n"
          ],
          "name": "stderr"
        },
        {
          "output_type": "stream",
          "text": [
            "Train on 1152000 samples, validate on 128000 samples\n",
            "Epoch 1/8\n",
            "1152000/1152000 [==============================] - 1023s 888us/step - loss: 0.5061 - acc: 0.7489 - val_loss: 0.4696 - val_acc: 0.7779\n",
            "Epoch 2/8\n",
            "1152000/1152000 [==============================] - 1026s 891us/step - loss: 0.4806 - acc: 0.7662 - val_loss: 0.4582 - val_acc: 0.7832\n",
            "Epoch 3/8\n",
            "1152000/1152000 [==============================] - 1031s 895us/step - loss: 0.4741 - acc: 0.7703 - val_loss: 0.4564 - val_acc: 0.7857\n",
            "Epoch 4/8\n",
            "1152000/1152000 [==============================] - 1042s 905us/step - loss: 0.4696 - acc: 0.7735 - val_loss: 0.4526 - val_acc: 0.7871\n",
            "Epoch 5/8\n",
            "1152000/1152000 [==============================] - 1037s 901us/step - loss: 0.4670 - acc: 0.7752 - val_loss: 0.4507 - val_acc: 0.7880\n",
            "Epoch 6/8\n",
            "1152000/1152000 [==============================] - 1025s 890us/step - loss: 0.4650 - acc: 0.7765 - val_loss: 0.4498 - val_acc: 0.7887\n",
            "Epoch 7/8\n",
            "1152000/1152000 [==============================] - 1028s 892us/step - loss: 0.4636 - acc: 0.7769 - val_loss: 0.4471 - val_acc: 0.7898\n",
            "Epoch 8/8\n",
            "1152000/1152000 [==============================] - 1028s 893us/step - loss: 0.4627 - acc: 0.7775 - val_loss: 0.4473 - val_acc: 0.7900\n",
            "CPU times: user 2h 30min 12s, sys: 24min 11s, total: 2h 54min 24s\n",
            "Wall time: 2h 17min 21s\n"
          ],
          "name": "stdout"
        }
      ]
    },
    {
      "metadata": {
        "_uuid": "267258196d96796ac69a7b8c466314bcf5d6ee42",
        "id": "Ft6SybPeOeXm",
        "colab_type": "text"
      },
      "cell_type": "markdown",
      "source": [
        "### Evaluate"
      ]
    },
    {
      "metadata": {
        "trusted": true,
        "_uuid": "98ecd8f1b8b74594c3ea775dd68a094e92458022",
        "id": "L6mkfCZkOeXn",
        "colab_type": "code",
        "colab": {
          "base_uri": "https://localhost:8080/",
          "height": 119
        },
        "outputId": "0773c92d-db23-4a21-bff5-f1ae60b99696"
      },
      "cell_type": "code",
      "source": [
        "%%time\n",
        "score = model.evaluate(x_test, y_test, batch_size=BATCH_SIZE)\n",
        "print()\n",
        "print(\"ACCURACY:\",score[1])\n",
        "print(\"LOSS:\",score[0])"
      ],
      "execution_count": 40,
      "outputs": [
        {
          "output_type": "stream",
          "text": [
            "320000/320000 [==============================] - 112s 350us/step\n",
            "\n",
            "ACCURACY: 0.7908\n",
            "LOSS: 0.4457127115249634\n",
            "CPU times: user 2min 2s, sys: 11.2 s, total: 2min 13s\n",
            "Wall time: 1min 51s\n"
          ],
          "name": "stdout"
        }
      ]
    },
    {
      "metadata": {
        "trusted": true,
        "_uuid": "40c72cd1e9d6c4fd799cbba7c813765ac4039dfc",
        "id": "IsbwsPcvOeXr",
        "colab_type": "code",
        "colab": {
          "base_uri": "https://localhost:8080/",
          "height": 543
        },
        "outputId": "cfbe9ef8-0652-488b-ade5-5c29cce7e49d"
      },
      "cell_type": "code",
      "source": [
        "acc = history.history['acc']\n",
        "val_acc = history.history['val_acc']\n",
        "loss = history.history['loss']\n",
        "val_loss = history.history['val_loss']\n",
        " \n",
        "epochs = range(len(acc))\n",
        " \n",
        "plt.plot(epochs, acc, 'b', label='Training acc')\n",
        "plt.plot(epochs, val_acc, 'r', label='Validation acc')\n",
        "plt.title('Training and validation accuracy')\n",
        "plt.legend()\n",
        " \n",
        "plt.figure()\n",
        " \n",
        "plt.plot(epochs, loss, 'b', label='Training loss')\n",
        "plt.plot(epochs, val_loss, 'r', label='Validation loss')\n",
        "plt.title('Training and validation loss')\n",
        "plt.legend()\n",
        " \n",
        "plt.show()"
      ],
      "execution_count": 41,
      "outputs": [
        {
          "output_type": "display_data",
          "data": {
            "image/png": "[encoded data removed]",
            "text/plain": [
              "<Figure size 432x288 with 1 Axes>"
            ]
          },
          "metadata": {
            "tags": []
          }
        },
        {
          "output_type": "display_data",
          "data": {
            "image/png": "[encoded data removed]",
            "text/plain": [
              "<Figure size 432x288 with 1 Axes>"
            ]
          },
          "metadata": {
            "tags": []
          }
        }
      ]
    },
    {
      "metadata": {
        "_uuid": "6bdfc0f6a6af5bebc0271d83dd7432c91001409b",
        "id": "5ehfzeGVOeXs",
        "colab_type": "text"
      },
      "cell_type": "markdown",
      "source": [
        "### Predict"
      ]
    },
    {
      "metadata": {
        "trusted": true,
        "_uuid": "f0b0fa3d4b1bb14b3f5e3d169a369f3ebef29ae1",
        "id": "ouVfuAvfOeXt",
        "colab_type": "code",
        "colab": {}
      },
      "cell_type": "code",
      "source": [
        "def decode_sentiment(score, include_neutral=True):\n",
        "    if include_neutral:        \n",
        "        label = NEUTRAL\n",
        "        if score <= SENTIMENT_THRESHOLDS[0]:\n",
        "            label = NEGATIVE\n",
        "        elif score >= SENTIMENT_THRESHOLDS[1]:\n",
        "            label = POSITIVE\n",
        "\n",
        "        return label\n",
        "    else:\n",
        "        return NEGATIVE if score < 0.5 else POSITIVE"
      ],
      "execution_count": 0,
      "outputs": []
    },
    {
      "metadata": {
        "trusted": true,
        "_uuid": "ed4086d651f2f8cbed11d3c909a8873607d29a06",
        "id": "fWivRpT_OeXx",
        "colab_type": "code",
        "colab": {}
      },
      "cell_type": "code",
      "source": [
        "def predict(text, include_neutral=True):\n",
        "    start_at = time.time()\n",
        "    # Tokenize text\n",
        "    x_test = pad_sequences(tokenizer.texts_to_sequences([text]), maxlen=SEQUENCE_LENGTH)\n",
        "    # Predict\n",
        "    score = model.predict([x_test])[0]\n",
        "    # Decode sentiment\n",
        "    label = decode_sentiment(score, include_neutral=include_neutral)\n",
        "\n",
        "    return {\"label\": label, \"score\": float(score),\n",
        "       \"elapsed_time\": time.time()-start_at}  "
      ],
      "execution_count": 0,
      "outputs": []
    },
    {
      "metadata": {
        "trusted": true,
        "_uuid": "ca38b1e6c9b5acfed7467de2cf02a78333108872",
        "id": "kvVPhF-iOeX0",
        "colab_type": "code",
        "colab": {
          "base_uri": "https://localhost:8080/",
          "height": 68
        },
        "outputId": "3269efe2-b4a7-4986-ea31-dcf8c3d47926"
      },
      "cell_type": "code",
      "source": [
        "predict(\"You are ugly\")"
      ],
      "execution_count": 44,
      "outputs": [
        {
          "output_type": "execute_result",
          "data": {
            "text/plain": [
              "{'elapsed_time': 0.3729839324951172,\n",
              " 'label': 'CONTAINS CYBERBULLY CONTENT',\n",
              " 'score': 0.9157074093818665}"
            ]
          },
          "metadata": {
            "tags": []
          },
          "execution_count": 44
        }
      ]
    },
    {
      "metadata": {
        "trusted": true,
        "_uuid": "0e5fe647533be0148850de349fea6ef6f71303d1",
        "id": "b_I71id_OeX5",
        "colab_type": "code",
        "colab": {
          "base_uri": "https://localhost:8080/",
          "height": 68
        },
        "outputId": "22782461-e0a5-4fe9-97b3-0edc95837fb6"
      },
      "cell_type": "code",
      "source": [
        "predict(\"you're such a big fat bull, you should be ashamed of yourself\")"
      ],
      "execution_count": 45,
      "outputs": [
        {
          "output_type": "execute_result",
          "data": {
            "text/plain": [
              "{'elapsed_time': 0.23888421058654785,\n",
              " 'label': 'CONTAINS CYBERBULLY CONTENT',\n",
              " 'score': 0.7865862250328064}"
            ]
          },
          "metadata": {
            "tags": []
          },
          "execution_count": 45
        }
      ]
    },
    {
      "metadata": {
        "trusted": true,
        "_uuid": "37064dffcc8920d34ccd54fac7c8b50e583a8269",
        "id": "hay15cw-OeX7",
        "colab_type": "code",
        "colab": {
          "base_uri": "https://localhost:8080/",
          "height": 68
        },
        "outputId": "da99411f-b95c-4cf7-e368-12b5668288dc"
      },
      "cell_type": "code",
      "source": [
        "predict(\"i don't know what i'm doing\")"
      ],
      "execution_count": 46,
      "outputs": [
        {
          "output_type": "execute_result",
          "data": {
            "text/plain": [
              "{'elapsed_time': 0.22167682647705078,\n",
              " 'label': 'CONTAINS CYBERBULLY CONTENT',\n",
              " 'score': 0.7037743926048279}"
            ]
          },
          "metadata": {
            "tags": []
          },
          "execution_count": 46
        }
      ]
    },
    {
      "metadata": {
        "id": "qDnTSsehgsi9",
        "colab_type": "code",
        "colab": {
          "base_uri": "https://localhost:8080/",
          "height": 68
        },
        "outputId": "521ddd47-420d-4be2-90fe-e04a3e8441d8"
      },
      "cell_type": "code",
      "source": [
        "predict(\"life is beautiful\")"
      ],
      "execution_count": 55,
      "outputs": [
        {
          "output_type": "execute_result",
          "data": {
            "text/plain": [
              "{'elapsed_time': 0.2308495044708252,\n",
              " 'label': 'DOES NOT CONTAIN CYBERBULLY CONTENT',\n",
              " 'score': 0.039321620017290115}"
            ]
          },
          "metadata": {
            "tags": []
          },
          "execution_count": 55
        }
      ]
    },
    {
      "metadata": {
        "id": "sAAyzRlthGpx",
        "colab_type": "code",
        "colab": {
          "base_uri": "https://localhost:8080/",
          "height": 68
        },
        "outputId": "7b8c1fdf-26b3-49f3-a7d0-bbb0d95a41ee"
      },
      "cell_type": "code",
      "source": [
        "predict(\"I'll expose your nude\")"
      ],
      "execution_count": 73,
      "outputs": [
        {
          "output_type": "execute_result",
          "data": {
            "text/plain": [
              "{'elapsed_time': 0.1922752857208252,\n",
              " 'label': 'DOES NOT CONTAIN CYBERBULLY CONTENT',\n",
              " 'score': 0.2565438449382782}"
            ]
          },
          "metadata": {
            "tags": []
          },
          "execution_count": 73
        }
      ]
    },
    {
      "metadata": {
        "trusted": true,
        "_uuid": "0e920173eb05f04aecdd735bc5dff0f5be5f8d15",
        "id": "cM95fNz9OeX_",
        "colab_type": "code",
        "colab": {
          "base_uri": "https://localhost:8080/",
          "height": 68
        },
        "outputId": "129a831b-3546-498a-9dc6-c3395cd55c74"
      },
      "cell_type": "code",
      "source": [
        "%%time\n",
        "y_pred_1d = []\n",
        "y_test_1d = list(df_test.target)\n",
        "scores = model.predict(x_test, verbose=1, batch_size=5000) #I reduce the batch size to 5000 from 8000\n",
        "y_pred_1d = [decode_sentiment(score, include_neutral=False) for score in scores]"
      ],
      "execution_count": 47,
      "outputs": [
        {
          "output_type": "stream",
          "text": [
            "320000/320000 [==============================] - 70s 220us/step\n",
            "CPU times: user 32.5 s, sys: 5.55 s, total: 38 s\n",
            "Wall time: 1min 10s\n"
          ],
          "name": "stdout"
        }
      ]
    },
    {
      "metadata": {
        "_uuid": "3ee72e47f84b6dbc32e02a783de5ec1661f157e1",
        "id": "RJx8S1A7OeX-",
        "colab_type": "text"
      },
      "cell_type": "markdown",
      "source": [
        "### Confusion Matrix"
      ]
    },
    {
      "metadata": {
        "trusted": true,
        "_uuid": "b3575191bb425ab871f3f41e83812ee84bb7e595",
        "id": "2V4GrmVsOeYB",
        "colab_type": "code",
        "colab": {}
      },
      "cell_type": "code",
      "source": [
        "def plot_confusion_matrix(cm, classes,\n",
        "                          title='Confusion matrix',\n",
        "                          cmap=plt.cm.Blues):\n",
        "    \"\"\"\n",
        "    This function prints and plots the confusion matrix.\n",
        "    Normalization can be applied by setting `normalize=True`.\n",
        "    \"\"\"\n",
        "\n",
        "    cm = cm.astype('float') / cm.sum(axis=1)[:, np.newaxis]\n",
        "\n",
        "    plt.imshow(cm, interpolation='nearest', cmap=cmap)\n",
        "    plt.title(title, fontsize=30)\n",
        "    plt.colorbar()\n",
        "    tick_marks = np.arange(len(classes))\n",
        "    plt.xticks(tick_marks, classes, rotation=90, fontsize=22)\n",
        "    plt.yticks(tick_marks, classes, fontsize=22)\n",
        "\n",
        "    fmt = '.2f'\n",
        "    thresh = cm.max() / 2.\n",
        "    for i, j in itertools.product(range(cm.shape[0]), range(cm.shape[1])):\n",
        "        plt.text(j, i, format(cm[i, j], fmt),\n",
        "                 horizontalalignment=\"center\",\n",
        "                 color=\"white\" if cm[i, j] > thresh else \"black\")\n",
        "\n",
        "    plt.ylabel('True label', fontsize=25)\n",
        "    plt.xlabel('Predicted label', fontsize=25)"
      ],
      "execution_count": 0,
      "outputs": []
    },
    {
      "metadata": {
        "trusted": true,
        "_uuid": "a57dc6f6211c144491a70f533225edfa95a2dc66",
        "id": "CH4YlwUwOeYD",
        "colab_type": "code",
        "colab": {
          "base_uri": "https://localhost:8080/",
          "height": 890
        },
        "outputId": "94545eaa-1383-4dea-9f1c-a62bbd8ad204"
      },
      "cell_type": "code",
      "source": [
        "%%time\n",
        "\n",
        "cnf_matrix = confusion_matrix(y_test_1d, y_pred_1d)\n",
        "plt.figure(figsize=(12,12))\n",
        "plot_confusion_matrix(cnf_matrix, classes=df_train.target.unique(), title=\"Confusion matrix\")\n",
        "plt.show()"
      ],
      "execution_count": 49,
      "outputs": [
        {
          "output_type": "stream",
          "text": [
            "/usr/local/lib/python3.6/dist-packages/ipykernel_launcher.py:9: RuntimeWarning: invalid value encountered in true_divide\n",
            "  if __name__ == '__main__':\n",
            "/usr/local/lib/python3.6/dist-packages/numpy/core/_methods.py:26: RuntimeWarning: invalid value encountered in reduce\n",
            "  return umr_maximum(a, axis, None, out, keepdims)\n"
          ],
          "name": "stderr"
        },
        {
          "output_type": "display_data",
          "data": {
            "image/png": "[encoded data removed]",
            "text/plain": [
              "<Figure size 864x864 with 2 Axes>"
            ]
          },
          "metadata": {
            "tags": []
          }
        },
        {
          "output_type": "stream",
          "text": [
            "CPU times: user 2.16 s, sys: 320 ms, total: 2.48 s\n",
            "Wall time: 2.18 s\n"
          ],
          "name": "stdout"
        }
      ]
    },
    {
      "metadata": {
        "_uuid": "e23b957348dcc084249d3cc7538b972da471c2cd",
        "id": "vkLfHpi_OeYF",
        "colab_type": "text"
      },
      "cell_type": "markdown",
      "source": [
        "### Classification Report"
      ]
    },
    {
      "metadata": {
        "trusted": true,
        "_uuid": "a7fe05b7caa1c984ff1deb0be2f7c6bc043df9f5",
        "id": "N1YOnMzbOeYG",
        "colab_type": "code",
        "colab": {
          "base_uri": "https://localhost:8080/",
          "height": 292
        },
        "outputId": "f72a2db9-c6ef-4345-dbaa-85f74f2576a4"
      },
      "cell_type": "code",
      "source": [
        "print(classification_report(y_test_1d, y_pred_1d))"
      ],
      "execution_count": 50,
      "outputs": [
        {
          "output_type": "stream",
          "text": [
            "/usr/local/lib/python3.6/dist-packages/sklearn/metrics/classification.py:1143: UndefinedMetricWarning: Precision and F-score are ill-defined and being set to 0.0 in labels with no predicted samples.\n",
            "  'precision', 'predicted', average, warn_for)\n",
            "/usr/local/lib/python3.6/dist-packages/sklearn/metrics/classification.py:1145: UndefinedMetricWarning: Recall and F-score are ill-defined and being set to 0.0 in labels with no true samples.\n",
            "  'recall', 'true', average, warn_for)\n"
          ],
          "name": "stderr"
        },
        {
          "output_type": "stream",
          "text": [
            "                                     precision    recall  f1-score   support\n",
            "\n",
            "                              BULLY       0.00      0.00      0.00    160506\n",
            "        CONTAINS CYBERBULLY CONTENT       0.00      0.00      0.00         0\n",
            "DOES NOT CONTAIN CYBERBULLY CONTENT       0.00      0.00      0.00         0\n",
            "                           NO BULLY       0.00      0.00      0.00    159494\n",
            "\n",
            "                          micro avg       0.00      0.00      0.00    320000\n",
            "                          macro avg       0.00      0.00      0.00    320000\n",
            "                       weighted avg       0.00      0.00      0.00    320000\n",
            "\n"
          ],
          "name": "stdout"
        }
      ]
    },
    {
      "metadata": {
        "_uuid": "4eb300f0c6693a618587c7dcf32f77f5416cbfb9",
        "id": "kzCq02MbOeYK",
        "colab_type": "text"
      },
      "cell_type": "markdown",
      "source": [
        "### Accuracy Score"
      ]
    },
    {
      "metadata": {
        "trusted": true,
        "_uuid": "5cf76e6e09f8a60ed25947932b94c772eda44d23",
        "id": "lqoi74ZsOeYL",
        "colab_type": "code",
        "colab": {
          "base_uri": "https://localhost:8080/",
          "height": 34
        },
        "outputId": "2ee89a4d-244b-421f-de85-a7139517e71c"
      },
      "cell_type": "code",
      "source": [
        "accuracy_score(y_test_1d, y_pred_1d)"
      ],
      "execution_count": 51,
      "outputs": [
        {
          "output_type": "execute_result",
          "data": {
            "text/plain": [
              "0.0"
            ]
          },
          "metadata": {
            "tags": []
          },
          "execution_count": 51
        }
      ]
    },
    {
      "metadata": {
        "_uuid": "4f014c32f3833db282e1a075c526604f34e3158c",
        "id": "ui0G7OyyOeYM",
        "colab_type": "text"
      },
      "cell_type": "markdown",
      "source": [
        "### Save model"
      ]
    },
    {
      "metadata": {
        "trusted": true,
        "_uuid": "3b2b3ad5b592977b404acfa1c9ad303a62837255",
        "id": "45O8fMWoOeYO",
        "colab_type": "code",
        "colab": {
          "base_uri": "https://localhost:8080/",
          "height": 85
        },
        "outputId": "b7d2042f-8370-4bd1-8fa2-6e5e21f1ff4c"
      },
      "cell_type": "code",
      "source": [
        "model.save(KERAS_MODEL)\n",
        "w2v_model.save(WORD2VEC_MODEL)\n",
        "pickle.dump(tokenizer, open(TOKENIZER_MODEL, \"wb\"), protocol=0)\n",
        "pickle.dump(encoder, open(ENCODER_MODEL, \"wb\"), protocol=0)"
      ],
      "execution_count": 52,
      "outputs": [
        {
          "output_type": "stream",
          "text": [
            "2019-03-01 09:06:20,821 : INFO : saving Word2Vec object under model.w2v, separately None\n",
            "2019-03-01 09:06:20,836 : INFO : not storing attribute vectors_norm\n",
            "2019-03-01 09:06:20,846 : INFO : not storing attribute cum_table\n",
            "2019-03-01 09:06:21,752 : INFO : saved model.w2v\n"
          ],
          "name": "stderr"
        }
      ]
    },
    {
      "metadata": {
        "trusted": true,
        "_uuid": "cc363c54782894757f5ea8820c6a170f2e16ef93",
        "id": "KO3cdK1cOeYP",
        "colab_type": "code",
        "colab": {}
      },
      "cell_type": "code",
      "source": [
        ""
      ],
      "execution_count": 0,
      "outputs": []
    }
  ]
}